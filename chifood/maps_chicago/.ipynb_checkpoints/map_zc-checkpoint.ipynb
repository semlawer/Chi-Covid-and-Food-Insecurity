{
 "cells": [
  {
   "cell_type": "code",
   "execution_count": 10,
   "id": "computational-marriage",
   "metadata": {},
   "outputs": [
    {
     "data": {
      "text/plain": [
       "<AxesSubplot:title={'center':'Cichago ZIP Codes'}>"
      ]
     },
     "execution_count": 10,
     "metadata": {},
     "output_type": "execute_result"
    },
    {
     "data": {
      "image/png": "[encoded data removed]",
      "text/plain": [
       "<Figure size 1440x1080 with 1 Axes>"
      ]
     },
     "metadata": {
      "needs_background": "light"
     },
     "output_type": "display_data"
    }
   ],
   "source": [
    "import food_banks\n",
    "import geopandas\n",
    "from geopy.geocoders import Nominatim\n",
    "import pandas as pd\n",
    "import matplotlib.pyplot as plt\n",
    "\n",
    "chi_fb = food_banks.get_locations(\"https://www.chicagosfoodbank.org/find-food/\")\n",
    "fb_maps = geopandas.GeoDataFrame(chi_fb)\n",
    "chicago_zipcode = geopandas.read_file('Boundaries - ZIP Codes')\n",
    "fig, ax = plt.subplots(figsize=(20, 15))\n",
    "ax.set_title('Cichago ZIP Codes')\n",
    "chicago_zipcode.plot(ax=ax)\n",
    "\n",
    "#code to graph address\n",
    "geolocator = Nominatim(user_agent=\"chifood\")\n",
    "lat = []\n",
    "lon = []\n",
    "for _, row in chi_fb.iterrows():\n",
    "    loc = geolocator.geocode(row[\"address\"])\n",
    "    if loc != None:\n",
    "        lat.append(loc.latitude)\n",
    "        lon.append(loc.longitude)\n",
    "    else:\n",
    "        lat.append(pd.NaT)\n",
    "        lon.append(pd.NaT)\n",
    "\n",
    "chi_fb[\"Latitude\"] = lat\n",
    "chi_fb[\"Longitude\"] = lon\n",
    "\n",
    "chi_fb = chi_fb.dropna()\n",
    "\n",
    "gdf_fb = geopandas.GeoDataFrame(\n",
    "    chi_fb, geometry=geopandas.points_from_xy(chi_fb.Latitude, chi_fb.Longitude))\n",
    "#gdf.plot(ax=ax, marker='o', color='red', markersize=80)\n",
    "\n",
    "gdf_fb.plot(ax=ax, marker='o', color='red', markersize=80)"
   ]
  },
  {
   "cell_type": "code",
   "execution_count": 62,
   "id": "verified-offer",
   "metadata": {},
   "outputs": [
    {
     "ename": "TypeError",
     "evalue": "must pass an index to rename",
     "output_type": "error",
     "traceback": [
      "\u001b[0;31m---------------------------------------------------------------------------\u001b[0m",
      "\u001b[0;31mTypeError\u001b[0m                                 Traceback (most recent call last)",
      "\u001b[0;32m<ipython-input-62-f3ffeca63eab>\u001b[0m in \u001b[0;36m<module>\u001b[0;34m\u001b[0m\n\u001b[0;32m----> 1\u001b[0;31m \u001b[0mcovid_chi\u001b[0m \u001b[0;34m=\u001b[0m \u001b[0mchicago_zipcode\u001b[0m\u001b[0;34m.\u001b[0m\u001b[0mrename\u001b[0m\u001b[0;34m(\u001b[0m\u001b[0;34m)\u001b[0m\u001b[0;34m\u001b[0m\u001b[0;34m\u001b[0m\u001b[0m\n\u001b[0m",
      "\u001b[0;32m~/capp30122-win-21-gabrielapg-marielwb-smlawer-vbalza/chifood/maps_chicago/env_project/lib/python3.8/site-packages/pandas/util/_decorators.py\u001b[0m in \u001b[0;36mwrapper\u001b[0;34m(*args, **kwargs)\u001b[0m\n\u001b[1;32m    310\u001b[0m         \u001b[0;34m@\u001b[0m\u001b[0mwraps\u001b[0m\u001b[0;34m(\u001b[0m\u001b[0mfunc\u001b[0m\u001b[0;34m)\u001b[0m\u001b[0;34m\u001b[0m\u001b[0;34m\u001b[0m\u001b[0m\n\u001b[1;32m    311\u001b[0m         \u001b[0;32mdef\u001b[0m \u001b[0mwrapper\u001b[0m\u001b[0;34m(\u001b[0m\u001b[0;34m*\u001b[0m\u001b[0margs\u001b[0m\u001b[0;34m,\u001b[0m \u001b[0;34m**\u001b[0m\u001b[0mkwargs\u001b[0m\u001b[0;34m)\u001b[0m \u001b[0;34m->\u001b[0m \u001b[0mCallable\u001b[0m\u001b[0;34m[\u001b[0m\u001b[0;34m...\u001b[0m\u001b[0;34m,\u001b[0m \u001b[0mAny\u001b[0m\u001b[0;34m]\u001b[0m\u001b[0;34m:\u001b[0m\u001b[0;34m\u001b[0m\u001b[0;34m\u001b[0m\u001b[0m\n\u001b[0;32m--> 312\u001b[0;31m             \u001b[0;32mreturn\u001b[0m \u001b[0mfunc\u001b[0m\u001b[0;34m(\u001b[0m\u001b[0;34m*\u001b[0m\u001b[0margs\u001b[0m\u001b[0;34m,\u001b[0m \u001b[0;34m**\u001b[0m\u001b[0mkwargs\u001b[0m\u001b[0;34m)\u001b[0m\u001b[0;34m\u001b[0m\u001b[0;34m\u001b[0m\u001b[0m\n\u001b[0m\u001b[1;32m    313\u001b[0m \u001b[0;34m\u001b[0m\u001b[0m\n\u001b[1;32m    314\u001b[0m         \u001b[0mkind\u001b[0m \u001b[0;34m=\u001b[0m \u001b[0minspect\u001b[0m\u001b[0;34m.\u001b[0m\u001b[0mParameter\u001b[0m\u001b[0;34m.\u001b[0m\u001b[0mPOSITIONAL_OR_KEYWORD\u001b[0m\u001b[0;34m\u001b[0m\u001b[0;34m\u001b[0m\u001b[0m\n",
      "\u001b[0;32m~/capp30122-win-21-gabrielapg-marielwb-smlawer-vbalza/chifood/maps_chicago/env_project/lib/python3.8/site-packages/pandas/core/frame.py\u001b[0m in \u001b[0;36mrename\u001b[0;34m(self, mapper, index, columns, axis, copy, inplace, level, errors)\u001b[0m\n\u001b[1;32m   4436\u001b[0m         \u001b[0;36m4\u001b[0m  \u001b[0;36m3\u001b[0m  \u001b[0;36m6\u001b[0m\u001b[0;34m\u001b[0m\u001b[0;34m\u001b[0m\u001b[0m\n\u001b[1;32m   4437\u001b[0m         \"\"\"\n\u001b[0;32m-> 4438\u001b[0;31m         return super().rename(\n\u001b[0m\u001b[1;32m   4439\u001b[0m             \u001b[0mmapper\u001b[0m\u001b[0;34m=\u001b[0m\u001b[0mmapper\u001b[0m\u001b[0;34m,\u001b[0m\u001b[0;34m\u001b[0m\u001b[0;34m\u001b[0m\u001b[0m\n\u001b[1;32m   4440\u001b[0m             \u001b[0mindex\u001b[0m\u001b[0;34m=\u001b[0m\u001b[0mindex\u001b[0m\u001b[0;34m,\u001b[0m\u001b[0;34m\u001b[0m\u001b[0;34m\u001b[0m\u001b[0m\n",
      "\u001b[0;32m~/capp30122-win-21-gabrielapg-marielwb-smlawer-vbalza/chifood/maps_chicago/env_project/lib/python3.8/site-packages/pandas/core/generic.py\u001b[0m in \u001b[0;36mrename\u001b[0;34m(self, mapper, index, columns, axis, copy, inplace, level, errors)\u001b[0m\n\u001b[1;32m   1012\u001b[0m         \"\"\"\n\u001b[1;32m   1013\u001b[0m         \u001b[0;32mif\u001b[0m \u001b[0mmapper\u001b[0m \u001b[0;32mis\u001b[0m \u001b[0;32mNone\u001b[0m \u001b[0;32mand\u001b[0m \u001b[0mindex\u001b[0m \u001b[0;32mis\u001b[0m \u001b[0;32mNone\u001b[0m \u001b[0;32mand\u001b[0m \u001b[0mcolumns\u001b[0m \u001b[0;32mis\u001b[0m \u001b[0;32mNone\u001b[0m\u001b[0;34m:\u001b[0m\u001b[0;34m\u001b[0m\u001b[0;34m\u001b[0m\u001b[0m\n\u001b[0;32m-> 1014\u001b[0;31m             \u001b[0;32mraise\u001b[0m \u001b[0mTypeError\u001b[0m\u001b[0;34m(\u001b[0m\u001b[0;34m\"must pass an index to rename\"\u001b[0m\u001b[0;34m)\u001b[0m\u001b[0;34m\u001b[0m\u001b[0;34m\u001b[0m\u001b[0m\n\u001b[0m\u001b[1;32m   1015\u001b[0m \u001b[0;34m\u001b[0m\u001b[0m\n\u001b[1;32m   1016\u001b[0m         \u001b[0;32mif\u001b[0m \u001b[0mindex\u001b[0m \u001b[0;32mis\u001b[0m \u001b[0;32mnot\u001b[0m \u001b[0;32mNone\u001b[0m \u001b[0;32mor\u001b[0m \u001b[0mcolumns\u001b[0m \u001b[0;32mis\u001b[0m \u001b[0;32mnot\u001b[0m \u001b[0;32mNone\u001b[0m\u001b[0;34m:\u001b[0m\u001b[0;34m\u001b[0m\u001b[0;34m\u001b[0m\u001b[0m\n",
      "\u001b[0;31mTypeError\u001b[0m: must pass an index to rename"
     ]
    }
   ],
   "source": [
    "covid_chi = chicago_zipcode.rename()"
   ]
  },
  {
   "cell_type": "code",
   "execution_count": null,
   "id": "noticed-equation",
   "metadata": {},
   "outputs": [],
   "source": []
  },
  {
   "cell_type": "code",
   "execution_count": 56,
   "id": "fallen-procedure",
   "metadata": {},
   "outputs": [],
   "source": [
    "df_covid.rename({\"zip_code\":\"zip\"}, axis=1, inplace=True)"
   ]
  },
  {
   "cell_type": "code",
   "execution_count": 60,
   "id": "cutting-europe",
   "metadata": {},
   "outputs": [
    {
     "data": {
      "text/html": [
       "<div>\n",
       "<style scoped>\n",
       "    .dataframe tbody tr th:only-of-type {\n",
       "        vertical-align: middle;\n",
       "    }\n",
       "\n",
       "    .dataframe tbody tr th {\n",
       "        vertical-align: top;\n",
       "    }\n",
       "\n",
       "    .dataframe thead th {\n",
       "        text-align: right;\n",
       "    }\n",
       "</style>\n",
       "<table border=\"1\" class=\"dataframe\">\n",
       "  <thead>\n",
       "    <tr style=\"text-align: right;\">\n",
       "      <th></th>\n",
       "      <th>objectid</th>\n",
       "      <th>shape_area</th>\n",
       "      <th>shape_len</th>\n",
       "      <th>zip</th>\n",
       "      <th>geometry</th>\n",
       "      <th>death_rate_cumulative</th>\n",
       "    </tr>\n",
       "  </thead>\n",
       "  <tbody>\n",
       "    <tr>\n",
       "      <th>0</th>\n",
       "      <td>33.0</td>\n",
       "      <td>1.060523e+08</td>\n",
       "      <td>42720.044406</td>\n",
       "      <td>60647</td>\n",
       "      <td>POLYGON ((-87.67762 41.91776, -87.67761 41.917...</td>\n",
       "      <td>147.4</td>\n",
       "    </tr>\n",
       "    <tr>\n",
       "      <th>1</th>\n",
       "      <td>34.0</td>\n",
       "      <td>1.274761e+08</td>\n",
       "      <td>48103.782721</td>\n",
       "      <td>60639</td>\n",
       "      <td>POLYGON ((-87.72683 41.92265, -87.72693 41.922...</td>\n",
       "      <td>213.2</td>\n",
       "    </tr>\n",
       "    <tr>\n",
       "      <th>2</th>\n",
       "      <td>35.0</td>\n",
       "      <td>4.506904e+07</td>\n",
       "      <td>27288.609612</td>\n",
       "      <td>60707</td>\n",
       "      <td>POLYGON ((-87.78500 41.90915, -87.78531 41.909...</td>\n",
       "      <td>76.7</td>\n",
       "    </tr>\n",
       "    <tr>\n",
       "      <th>3</th>\n",
       "      <td>51.0</td>\n",
       "      <td>3.450671e+06</td>\n",
       "      <td>7909.890407</td>\n",
       "      <td>60707</td>\n",
       "      <td>POLYGON ((-87.80662 41.93451, -87.80686 41.934...</td>\n",
       "      <td>76.7</td>\n",
       "    </tr>\n",
       "    <tr>\n",
       "      <th>4</th>\n",
       "      <td>36.0</td>\n",
       "      <td>7.085383e+07</td>\n",
       "      <td>42527.989679</td>\n",
       "      <td>60622</td>\n",
       "      <td>POLYGON ((-87.66707 41.88885, -87.66707 41.888...</td>\n",
       "      <td>125.0</td>\n",
       "    </tr>\n",
       "    <tr>\n",
       "      <th>...</th>\n",
       "      <td>...</td>\n",
       "      <td>...</td>\n",
       "      <td>...</td>\n",
       "      <td>...</td>\n",
       "      <td>...</td>\n",
       "      <td>...</td>\n",
       "    </tr>\n",
       "    <tr>\n",
       "      <th>56</th>\n",
       "      <td>57.0</td>\n",
       "      <td>1.552855e+08</td>\n",
       "      <td>53406.915617</td>\n",
       "      <td>60623</td>\n",
       "      <td>POLYGON ((-87.69479 41.83008, -87.69486 41.830...</td>\n",
       "      <td>257.0</td>\n",
       "    </tr>\n",
       "    <tr>\n",
       "      <th>57</th>\n",
       "      <td>58.0</td>\n",
       "      <td>2.111148e+08</td>\n",
       "      <td>58701.325375</td>\n",
       "      <td>60629</td>\n",
       "      <td>POLYGON ((-87.68306 41.75786, -87.68306 41.757...</td>\n",
       "      <td>178.8</td>\n",
       "    </tr>\n",
       "    <tr>\n",
       "      <th>58</th>\n",
       "      <td>59.0</td>\n",
       "      <td>2.116961e+08</td>\n",
       "      <td>58466.160298</td>\n",
       "      <td>60620</td>\n",
       "      <td>POLYGON ((-87.62373 41.72167, -87.62388 41.721...</td>\n",
       "      <td>170.3</td>\n",
       "    </tr>\n",
       "    <tr>\n",
       "      <th>59</th>\n",
       "      <td>60.0</td>\n",
       "      <td>1.254243e+08</td>\n",
       "      <td>52377.854541</td>\n",
       "      <td>60637</td>\n",
       "      <td>POLYGON ((-87.57691 41.79511, -87.57700 41.795...</td>\n",
       "      <td>99.0</td>\n",
       "    </tr>\n",
       "    <tr>\n",
       "      <th>60</th>\n",
       "      <td>61.0</td>\n",
       "      <td>1.678720e+08</td>\n",
       "      <td>53040.907078</td>\n",
       "      <td>60619</td>\n",
       "      <td>POLYGON ((-87.58592 41.75150, -87.58592 41.751...</td>\n",
       "      <td>168.1</td>\n",
       "    </tr>\n",
       "  </tbody>\n",
       "</table>\n",
       "<p>61 rows × 6 columns</p>\n",
       "</div>"
      ],
      "text/plain": [
       "    objectid    shape_area     shape_len    zip  \\\n",
       "0       33.0  1.060523e+08  42720.044406  60647   \n",
       "1       34.0  1.274761e+08  48103.782721  60639   \n",
       "2       35.0  4.506904e+07  27288.609612  60707   \n",
       "3       51.0  3.450671e+06   7909.890407  60707   \n",
       "4       36.0  7.085383e+07  42527.989679  60622   \n",
       "..       ...           ...           ...    ...   \n",
       "56      57.0  1.552855e+08  53406.915617  60623   \n",
       "57      58.0  2.111148e+08  58701.325375  60629   \n",
       "58      59.0  2.116961e+08  58466.160298  60620   \n",
       "59      60.0  1.254243e+08  52377.854541  60637   \n",
       "60      61.0  1.678720e+08  53040.907078  60619   \n",
       "\n",
       "                                             geometry  death_rate_cumulative  \n",
       "0   POLYGON ((-87.67762 41.91776, -87.67761 41.917...                  147.4  \n",
       "1   POLYGON ((-87.72683 41.92265, -87.72693 41.922...                  213.2  \n",
       "2   POLYGON ((-87.78500 41.90915, -87.78531 41.909...                   76.7  \n",
       "3   POLYGON ((-87.80662 41.93451, -87.80686 41.934...                   76.7  \n",
       "4   POLYGON ((-87.66707 41.88885, -87.66707 41.888...                  125.0  \n",
       "..                                                ...                    ...  \n",
       "56  POLYGON ((-87.69479 41.83008, -87.69486 41.830...                  257.0  \n",
       "57  POLYGON ((-87.68306 41.75786, -87.68306 41.757...                  178.8  \n",
       "58  POLYGON ((-87.62373 41.72167, -87.62388 41.721...                  170.3  \n",
       "59  POLYGON ((-87.57691 41.79511, -87.57700 41.795...                   99.0  \n",
       "60  POLYGON ((-87.58592 41.75150, -87.58592 41.751...                  168.1  \n",
       "\n",
       "[61 rows x 6 columns]"
      ]
     },
     "execution_count": 60,
     "metadata": {},
     "output_type": "execute_result"
    }
   ],
   "source": [
    "chicago_zipcode.merge(df_covid[[\"zip\", \"death_rate_cumulative\"]], how=\"inner\", on=\"zip\")"
   ]
  },
  {
   "cell_type": "code",
   "execution_count": null,
   "id": "conscious-mattress",
   "metadata": {},
   "outputs": [],
   "source": [
    "fig, ax = plt.subplots(figsize=(20, 15))\n",
    "ax.set_title('Cichago ZIP Codes')\n",
    "chicago_zipcode.plot(ax=ax, columns=\"death_rate_cumulative\")"
   ]
  },
  {
   "cell_type": "code",
   "execution_count": 61,
   "id": "popular-change",
   "metadata": {},
   "outputs": [
    {
     "data": {
      "text/html": [
       "<div>\n",
       "<style scoped>\n",
       "    .dataframe tbody tr th:only-of-type {\n",
       "        vertical-align: middle;\n",
       "    }\n",
       "\n",
       "    .dataframe tbody tr th {\n",
       "        vertical-align: top;\n",
       "    }\n",
       "\n",
       "    .dataframe thead th {\n",
       "        text-align: right;\n",
       "    }\n",
       "</style>\n",
       "<table border=\"1\" class=\"dataframe\">\n",
       "  <thead>\n",
       "    <tr style=\"text-align: right;\">\n",
       "      <th></th>\n",
       "      <th>objectid</th>\n",
       "      <th>shape_area</th>\n",
       "      <th>shape_len</th>\n",
       "      <th>zip</th>\n",
       "      <th>geometry</th>\n",
       "    </tr>\n",
       "  </thead>\n",
       "  <tbody>\n",
       "    <tr>\n",
       "      <th>0</th>\n",
       "      <td>33.0</td>\n",
       "      <td>1.060523e+08</td>\n",
       "      <td>42720.044406</td>\n",
       "      <td>60647</td>\n",
       "      <td>POLYGON ((-87.67762 41.91776, -87.67761 41.917...</td>\n",
       "    </tr>\n",
       "    <tr>\n",
       "      <th>1</th>\n",
       "      <td>34.0</td>\n",
       "      <td>1.274761e+08</td>\n",
       "      <td>48103.782721</td>\n",
       "      <td>60639</td>\n",
       "      <td>POLYGON ((-87.72683 41.92265, -87.72693 41.922...</td>\n",
       "    </tr>\n",
       "    <tr>\n",
       "      <th>2</th>\n",
       "      <td>35.0</td>\n",
       "      <td>4.506904e+07</td>\n",
       "      <td>27288.609612</td>\n",
       "      <td>60707</td>\n",
       "      <td>POLYGON ((-87.78500 41.90915, -87.78531 41.909...</td>\n",
       "    </tr>\n",
       "    <tr>\n",
       "      <th>3</th>\n",
       "      <td>36.0</td>\n",
       "      <td>7.085383e+07</td>\n",
       "      <td>42527.989679</td>\n",
       "      <td>60622</td>\n",
       "      <td>POLYGON ((-87.66707 41.88885, -87.66707 41.888...</td>\n",
       "    </tr>\n",
       "    <tr>\n",
       "      <th>4</th>\n",
       "      <td>37.0</td>\n",
       "      <td>9.903962e+07</td>\n",
       "      <td>47970.140153</td>\n",
       "      <td>60651</td>\n",
       "      <td>POLYGON ((-87.70656 41.89555, -87.70672 41.895...</td>\n",
       "    </tr>\n",
       "    <tr>\n",
       "      <th>...</th>\n",
       "      <td>...</td>\n",
       "      <td>...</td>\n",
       "      <td>...</td>\n",
       "      <td>...</td>\n",
       "      <td>...</td>\n",
       "    </tr>\n",
       "    <tr>\n",
       "      <th>56</th>\n",
       "      <td>57.0</td>\n",
       "      <td>1.552855e+08</td>\n",
       "      <td>53406.915617</td>\n",
       "      <td>60623</td>\n",
       "      <td>POLYGON ((-87.69479 41.83008, -87.69486 41.830...</td>\n",
       "    </tr>\n",
       "    <tr>\n",
       "      <th>57</th>\n",
       "      <td>58.0</td>\n",
       "      <td>2.111148e+08</td>\n",
       "      <td>58701.325375</td>\n",
       "      <td>60629</td>\n",
       "      <td>POLYGON ((-87.68306 41.75786, -87.68306 41.757...</td>\n",
       "    </tr>\n",
       "    <tr>\n",
       "      <th>58</th>\n",
       "      <td>59.0</td>\n",
       "      <td>2.116961e+08</td>\n",
       "      <td>58466.160298</td>\n",
       "      <td>60620</td>\n",
       "      <td>POLYGON ((-87.62373 41.72167, -87.62388 41.721...</td>\n",
       "    </tr>\n",
       "    <tr>\n",
       "      <th>59</th>\n",
       "      <td>60.0</td>\n",
       "      <td>1.254243e+08</td>\n",
       "      <td>52377.854541</td>\n",
       "      <td>60637</td>\n",
       "      <td>POLYGON ((-87.57691 41.79511, -87.57700 41.795...</td>\n",
       "    </tr>\n",
       "    <tr>\n",
       "      <th>60</th>\n",
       "      <td>61.0</td>\n",
       "      <td>1.678720e+08</td>\n",
       "      <td>53040.907078</td>\n",
       "      <td>60619</td>\n",
       "      <td>POLYGON ((-87.58592 41.75150, -87.58592 41.751...</td>\n",
       "    </tr>\n",
       "  </tbody>\n",
       "</table>\n",
       "<p>61 rows × 5 columns</p>\n",
       "</div>"
      ],
      "text/plain": [
       "    objectid    shape_area     shape_len    zip  \\\n",
       "0       33.0  1.060523e+08  42720.044406  60647   \n",
       "1       34.0  1.274761e+08  48103.782721  60639   \n",
       "2       35.0  4.506904e+07  27288.609612  60707   \n",
       "3       36.0  7.085383e+07  42527.989679  60622   \n",
       "4       37.0  9.903962e+07  47970.140153  60651   \n",
       "..       ...           ...           ...    ...   \n",
       "56      57.0  1.552855e+08  53406.915617  60623   \n",
       "57      58.0  2.111148e+08  58701.325375  60629   \n",
       "58      59.0  2.116961e+08  58466.160298  60620   \n",
       "59      60.0  1.254243e+08  52377.854541  60637   \n",
       "60      61.0  1.678720e+08  53040.907078  60619   \n",
       "\n",
       "                                             geometry  \n",
       "0   POLYGON ((-87.67762 41.91776, -87.67761 41.917...  \n",
       "1   POLYGON ((-87.72683 41.92265, -87.72693 41.922...  \n",
       "2   POLYGON ((-87.78500 41.90915, -87.78531 41.909...  \n",
       "3   POLYGON ((-87.66707 41.88885, -87.66707 41.888...  \n",
       "4   POLYGON ((-87.70656 41.89555, -87.70672 41.895...  \n",
       "..                                                ...  \n",
       "56  POLYGON ((-87.69479 41.83008, -87.69486 41.830...  \n",
       "57  POLYGON ((-87.68306 41.75786, -87.68306 41.757...  \n",
       "58  POLYGON ((-87.62373 41.72167, -87.62388 41.721...  \n",
       "59  POLYGON ((-87.57691 41.79511, -87.57700 41.795...  \n",
       "60  POLYGON ((-87.58592 41.75150, -87.58592 41.751...  \n",
       "\n",
       "[61 rows x 5 columns]"
      ]
     },
     "execution_count": 61,
     "metadata": {},
     "output_type": "execute_result"
    }
   ],
   "source": [
    "chicago_zipcode"
   ]
  },
  {
   "cell_type": "code",
   "execution_count": null,
   "id": "dental-curtis",
   "metadata": {},
   "outputs": [],
   "source": []
  },
  {
   "cell_type": "code",
   "execution_count": null,
   "id": "affiliated-doctrine",
   "metadata": {},
   "outputs": [],
   "source": []
  },
  {
   "cell_type": "code",
   "execution_count": null,
   "id": "under-robertson",
   "metadata": {},
   "outputs": [],
   "source": []
  },
  {
   "cell_type": "code",
   "execution_count": null,
   "id": "suburban-wyoming",
   "metadata": {},
   "outputs": [],
   "source": []
  },
  {
   "cell_type": "code",
   "execution_count": null,
   "id": "greater-assessment",
   "metadata": {},
   "outputs": [],
   "source": []
  },
  {
   "cell_type": "code",
   "execution_count": null,
   "id": "complimentary-inspiration",
   "metadata": {},
   "outputs": [],
   "source": []
  },
  {
   "cell_type": "code",
   "execution_count": null,
   "id": "unauthorized-timeline",
   "metadata": {},
   "outputs": [],
   "source": []
  },
  {
   "cell_type": "code",
   "execution_count": null,
   "id": "meaning-edmonton",
   "metadata": {},
   "outputs": [],
   "source": []
  },
  {
   "cell_type": "code",
   "execution_count": null,
   "id": "orange-chicken",
   "metadata": {},
   "outputs": [],
   "source": []
  },
  {
   "cell_type": "code",
   "execution_count": null,
   "id": "liable-collector",
   "metadata": {},
   "outputs": [],
   "source": []
  },
  {
   "cell_type": "code",
   "execution_count": null,
   "id": "dependent-chart",
   "metadata": {},
   "outputs": [],
   "source": []
  },
  {
   "cell_type": "code",
   "execution_count": null,
   "id": "compressed-protest",
   "metadata": {},
   "outputs": [],
   "source": []
  },
  {
   "cell_type": "code",
   "execution_count": null,
   "id": "sealed-management",
   "metadata": {},
   "outputs": [],
   "source": []
  },
  {
   "cell_type": "code",
   "execution_count": null,
   "id": "pressing-wings",
   "metadata": {},
   "outputs": [],
   "source": []
  },
  {
   "cell_type": "code",
   "execution_count": null,
   "id": "distinguished-definition",
   "metadata": {},
   "outputs": [],
   "source": []
  },
  {
   "cell_type": "code",
   "execution_count": null,
   "id": "sudden-swift",
   "metadata": {},
   "outputs": [],
   "source": []
  },
  {
   "cell_type": "code",
   "execution_count": null,
   "id": "focused-command",
   "metadata": {},
   "outputs": [],
   "source": []
  },
  {
   "cell_type": "code",
   "execution_count": null,
   "id": "committed-recall",
   "metadata": {},
   "outputs": [],
   "source": []
  },
  {
   "cell_type": "code",
   "execution_count": null,
   "id": "aggressive-equilibrium",
   "metadata": {},
   "outputs": [],
   "source": []
  },
  {
   "cell_type": "code",
   "execution_count": null,
   "id": "standing-ethics",
   "metadata": {},
   "outputs": [],
   "source": []
  },
  {
   "cell_type": "code",
   "execution_count": null,
   "id": "capital-seafood",
   "metadata": {},
   "outputs": [],
   "source": []
  },
  {
   "cell_type": "code",
   "execution_count": null,
   "id": "respiratory-tobacco",
   "metadata": {},
   "outputs": [],
   "source": []
  },
  {
   "cell_type": "code",
   "execution_count": null,
   "id": "cutting-gamma",
   "metadata": {},
   "outputs": [],
   "source": []
  },
  {
   "cell_type": "code",
   "execution_count": null,
   "id": "bored-southeast",
   "metadata": {},
   "outputs": [],
   "source": []
  },
  {
   "cell_type": "code",
   "execution_count": null,
   "id": "extensive-economy",
   "metadata": {},
   "outputs": [],
   "source": []
  },
  {
   "cell_type": "code",
   "execution_count": null,
   "id": "registered-airfare",
   "metadata": {},
   "outputs": [],
   "source": []
  },
  {
   "cell_type": "code",
   "execution_count": null,
   "id": "leading-monthly",
   "metadata": {},
   "outputs": [],
   "source": []
  },
  {
   "cell_type": "code",
   "execution_count": null,
   "id": "linear-solution",
   "metadata": {},
   "outputs": [],
   "source": []
  },
  {
   "cell_type": "code",
   "execution_count": null,
   "id": "decreased-impression",
   "metadata": {},
   "outputs": [],
   "source": []
  },
  {
   "cell_type": "code",
   "execution_count": null,
   "id": "following-thesis",
   "metadata": {},
   "outputs": [],
   "source": []
  },
  {
   "cell_type": "code",
   "execution_count": null,
   "id": "occupational-bolivia",
   "metadata": {},
   "outputs": [],
   "source": []
  },
  {
   "cell_type": "code",
   "execution_count": null,
   "id": "taken-outdoors",
   "metadata": {},
   "outputs": [],
   "source": []
  },
  {
   "cell_type": "code",
   "execution_count": null,
   "id": "departmental-engineering",
   "metadata": {},
   "outputs": [],
   "source": []
  },
  {
   "cell_type": "code",
   "execution_count": null,
   "id": "swedish-daisy",
   "metadata": {},
   "outputs": [],
   "source": []
  },
  {
   "cell_type": "code",
   "execution_count": null,
   "id": "demographic-research",
   "metadata": {},
   "outputs": [],
   "source": []
  },
  {
   "cell_type": "code",
   "execution_count": null,
   "id": "creative-extra",
   "metadata": {},
   "outputs": [],
   "source": []
  },
  {
   "cell_type": "code",
   "execution_count": null,
   "id": "respected-parade",
   "metadata": {},
   "outputs": [],
   "source": []
  },
  {
   "cell_type": "code",
   "execution_count": null,
   "id": "neural-silly",
   "metadata": {},
   "outputs": [],
   "source": []
  },
  {
   "cell_type": "code",
   "execution_count": null,
   "id": "elementary-standing",
   "metadata": {},
   "outputs": [],
   "source": []
  },
  {
   "cell_type": "code",
   "execution_count": null,
   "id": "determined-lyric",
   "metadata": {},
   "outputs": [],
   "source": []
  },
  {
   "cell_type": "code",
   "execution_count": null,
   "id": "posted-appreciation",
   "metadata": {},
   "outputs": [],
   "source": []
  },
  {
   "cell_type": "code",
   "execution_count": null,
   "id": "handmade-assurance",
   "metadata": {},
   "outputs": [],
   "source": []
  },
  {
   "cell_type": "code",
   "execution_count": null,
   "id": "billion-hepatitis",
   "metadata": {},
   "outputs": [],
   "source": []
  },
  {
   "cell_type": "code",
   "execution_count": null,
   "id": "hairy-bobby",
   "metadata": {},
   "outputs": [],
   "source": []
  },
  {
   "cell_type": "code",
   "execution_count": null,
   "id": "ordered-nomination",
   "metadata": {},
   "outputs": [],
   "source": []
  },
  {
   "cell_type": "code",
   "execution_count": null,
   "id": "southwest-bloom",
   "metadata": {},
   "outputs": [],
   "source": []
  },
  {
   "cell_type": "code",
   "execution_count": null,
   "id": "utility-crack",
   "metadata": {},
   "outputs": [],
   "source": []
  },
  {
   "cell_type": "code",
   "execution_count": null,
   "id": "documentary-penalty",
   "metadata": {},
   "outputs": [],
   "source": []
  },
  {
   "cell_type": "code",
   "execution_count": null,
   "id": "auburn-gentleman",
   "metadata": {},
   "outputs": [],
   "source": []
  },
  {
   "cell_type": "code",
   "execution_count": null,
   "id": "serious-macedonia",
   "metadata": {},
   "outputs": [],
   "source": []
  },
  {
   "cell_type": "code",
   "execution_count": null,
   "id": "necessary-patrick",
   "metadata": {},
   "outputs": [],
   "source": []
  },
  {
   "cell_type": "code",
   "execution_count": null,
   "id": "dress-fleece",
   "metadata": {},
   "outputs": [],
   "source": []
  },
  {
   "cell_type": "code",
   "execution_count": null,
   "id": "acting-recipient",
   "metadata": {},
   "outputs": [],
   "source": []
  },
  {
   "cell_type": "code",
   "execution_count": null,
   "id": "applied-binding",
   "metadata": {},
   "outputs": [],
   "source": []
  },
  {
   "cell_type": "code",
   "execution_count": null,
   "id": "informed-lesson",
   "metadata": {},
   "outputs": [],
   "source": []
  },
  {
   "cell_type": "code",
   "execution_count": null,
   "id": "wicked-grocery",
   "metadata": {},
   "outputs": [],
   "source": []
  },
  {
   "cell_type": "code",
   "execution_count": null,
   "id": "affected-image",
   "metadata": {},
   "outputs": [],
   "source": []
  },
  {
   "cell_type": "code",
   "execution_count": 7,
   "id": "mobile-novelty",
   "metadata": {},
   "outputs": [],
   "source": []
  },
  {
   "cell_type": "code",
   "execution_count": 8,
   "id": "alike-folks",
   "metadata": {},
   "outputs": [
    {
     "data": {
      "text/plain": [
       "<AxesSubplot:>"
      ]
     },
     "execution_count": 8,
     "metadata": {},
     "output_type": "execute_result"
    },
    {
     "data": {
      "text/plain": [
       "<Figure size 432x288 with 0 Axes>"
      ]
     },
     "metadata": {},
     "output_type": "display_data"
    }
   ],
   "source": []
  },
  {
   "cell_type": "code",
   "execution_count": 9,
   "id": "alleged-implementation",
   "metadata": {},
   "outputs": [],
   "source": []
  },
  {
   "cell_type": "code",
   "execution_count": null,
   "id": "norman-declaration",
   "metadata": {},
   "outputs": [],
   "source": []
  },
  {
   "cell_type": "code",
   "execution_count": null,
   "id": "turned-citizenship",
   "metadata": {},
   "outputs": [],
   "source": []
  },
  {
   "cell_type": "code",
   "execution_count": null,
   "id": "native-daisy",
   "metadata": {},
   "outputs": [],
   "source": []
  },
  {
   "cell_type": "code",
   "execution_count": null,
   "id": "anticipated-cherry",
   "metadata": {},
   "outputs": [],
   "source": []
  },
  {
   "cell_type": "code",
   "execution_count": null,
   "id": "delayed-dispatch",
   "metadata": {},
   "outputs": [],
   "source": []
  },
  {
   "cell_type": "code",
   "execution_count": null,
   "id": "blocked-threat",
   "metadata": {},
   "outputs": [],
   "source": []
  },
  {
   "cell_type": "code",
   "execution_count": null,
   "id": "hispanic-producer",
   "metadata": {},
   "outputs": [],
   "source": []
  },
  {
   "cell_type": "code",
   "execution_count": null,
   "id": "arctic-bristol",
   "metadata": {},
   "outputs": [],
   "source": []
  },
  {
   "cell_type": "code",
   "execution_count": null,
   "id": "opening-absence",
   "metadata": {},
   "outputs": [],
   "source": []
  },
  {
   "cell_type": "code",
   "execution_count": null,
   "id": "uniform-bunny",
   "metadata": {},
   "outputs": [],
   "source": []
  },
  {
   "cell_type": "code",
   "execution_count": null,
   "id": "retained-cambridge",
   "metadata": {},
   "outputs": [],
   "source": []
  }
 ],
 "metadata": {
  "kernelspec": {
   "display_name": "Python 3",
   "language": "python",
   "name": "python3"
  },
  "language_info": {
   "codemirror_mode": {
    "name": "ipython",
    "version": 3
   },
   "file_extension": ".py",
   "mimetype": "text/x-python",
   "name": "python",
   "nbconvert_exporter": "python",
   "pygments_lexer": "ipython3",
   "version": "3.8.5"
  }
 },
 "nbformat": 4,
 "nbformat_minor": 5
}
