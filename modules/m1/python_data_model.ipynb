{
 "cells": [
  {
   "cell_type": "markdown",
   "metadata": {},
   "source": [
    "## M1:  The Python Data Model (Review)"
   ]
  },
  {
   "cell_type": "markdown",
   "metadata": {},
   "source": [
    "### What is the Python Data Model? \n",
    "\n",
    "The Python data model is a way to make your own custom objects play well with the operators built into the language.\n",
    "\n",
    "\n",
    "For example, wanting to get the number of items in your own custom ``set``, ``dict``, ``list`` methods instead of using the built-in ``len`` method. \n",
    "\n",
    "```python3 \n",
    "\n",
    "class MySet: \n",
    "\n",
    "    def size(self): \n",
    "       pass \n",
    "\n",
    "class MyDict: \n",
    "\n",
    "    def length(self): \n",
    "       pass \n",
    "\n",
    "class MyList: \n",
    "\n",
    "    def len(self):\n",
    "       pass \n",
    "       \n",
    "# Then to get the number of items in the list, we would\n",
    "# need to call their custom methods.\n",
    "\n",
    "s = MySet(...)\n",
    "d = MyDict(...)\n",
    "l = myList(...)\n",
    "\n",
    "print(s.size())\n",
    "print(d.length())\n",
    "print(l.len())\n",
    "\n",
    "# Instead of using the known Python built-in mechanism to get the number \n",
    "# of items.\n",
    "\n",
    "print(len(s))\n",
    "print(len(d))\n",
    "print(len(l))\n",
    "\n",
    "```\n",
    "It formalizes a way to use the operators by a mechanism known as *operator overloading*. \n",
    "\n",
    "### Operator Overloading \n",
    "\n",
    "Python allows for **operator overloading**, which allows classes their \n",
    "own implementations for predefined Python operators: \n",
    "\n",
    "- Allows us to define methods that make our user-defined types behave like built-in types.\n",
    "- Allows standard library tools to work with our user-defined types.\n",
    "\n",
    "\n",
    "Operator overloading is done by using *special methods* (i.e., dunder methods), which are methods surrounded by double underscores that, when implemented, customize the behavior of a class. \n",
    "\n",
    "Classes implicitly inherit from ``object`` class and thereby inherit its methods, including any default behavior for double-underscore methods. We already had exposure to the following dunder methods from 121: \n",
    " \n",
    " - ``__init__``\n",
    " - ``__str__``\n",
    " - ``__repr__``\n",
    " - ``__eq__``"
   ]
  },
  {
   "cell_type": "markdown",
   "metadata": {},
   "source": [
    "#### Motivating Example \n",
    "\n",
    "To demonstrate operator overloading, we'll implement a sequence type seen in other languages known as a *static array*:\n",
    "\n",
    "- A static array is a sequence type (i.e., an object that can hold a collection of items) where there is a fixed capacity to number of items the collection can hold.\n",
    "\n",
    "- Resizing of the array is not allowed after initialization. \n",
    "\n",
    "- We will define a class ``StaticArray`` that will allow use to use built-in python operators."
   ]
  },
  {
   "cell_type": "code",
   "execution_count": null,
   "metadata": {},
   "outputs": [],
   "source": [
    "#Do not run just showing what we eventually want to be able to do with StaticArray objects \n",
    "\n",
    "from static_array import StaticArray\n",
    "\n",
    "s_array = StaticArray([1,2,3])\n",
    "print(s_array * 2) \n",
    "# Should produce the following \n",
    "# (cap = 10, items = [1, 2, 3, None, None, 1, 2, 3, None, None])\n",
    "print(s_array[1]) \n",
    "# Should produce the following \n",
    "# 2     `"
   ]
  },
  {
   "cell_type": "markdown",
   "metadata": {},
   "source": [
    "Lets now take a look at the ``__init__`` method for ``Static Array``:"
   ]
  },
  {
   "cell_type": "code",
   "execution_count": 20,
   "metadata": {},
   "outputs": [],
   "source": [
    "from collections.abc import Iterable\n",
    "\n",
    "class StaticArray:\n",
    "\n",
    "    def __init__(self, initVal, capacity = 5):\n",
    "        if isinstance(initVal, Iterable):\n",
    "            self.items = [None] * capacity\n",
    "            for idx,item in enumerate(initVal): \n",
    "                if idx >= capacity:\n",
    "                    break \n",
    "                else:\n",
    "                    self.items[idx] = item \n",
    "            self.capacity = capacity\n",
    "        else: \n",
    "            raise ValueError(\"initVal needs to be an iterable object\")"
   ]
  },
  {
   "cell_type": "code",
   "execution_count": 21,
   "metadata": {},
   "outputs": [],
   "source": [
    "s_array = StaticArray([1,2,3])"
   ]
  },
  {
   "cell_type": "code",
   "execution_count": 22,
   "metadata": {},
   "outputs": [
    {
     "name": "stdout",
     "output_type": "stream",
     "text": [
      "<__main__.StaticArray object at 0x1083a0990>\n"
     ]
    }
   ],
   "source": [
    "#Printing doesn't provide use any useful information about the object.\n",
    "# Lets fix that now. \n",
    "print(s_array)"
   ]
  },
  {
   "cell_type": "markdown",
   "metadata": {},
   "source": [
    "#### String Representations \n",
    "\n",
    "There are two functions for getting a string representation of an object:\n",
    "    \n",
    "    1. ``repr()`` - Used to specify an unambiguous string representation of an instance. Mostly used for debugging and development. **Note**: the interpreter in the REPL calls the ``__repr__`` function when executing a variable that holds an object. \n",
    "    \n",
    "    2. ``str()`` - Used to specify a handy, readable string representation of an instance. Mostly used for creating output for end users. **Note**: ``print`` calls the ``__str__`` implementation. \n",
    "    \n",
    "As we seen previously, we just need to define ``__repr__`` and ``__str__`` methods to provide string representations for our classes. \n",
    "\n",
    "**Note**: ``__str__`` defaults to ``__repr__`` when not present. "
   ]
  },
  {
   "cell_type": "code",
   "execution_count": 4,
   "metadata": {},
   "outputs": [],
   "source": [
    "class StaticArray:\n",
    "\n",
    "    def __init__(self, initVal, capacity = 5):\n",
    "        if isinstance(initVal, Iterable):\n",
    "            self.items = [None] * capacity\n",
    "            for idx,item in enumerate(initVal): \n",
    "                if idx >= capacity:\n",
    "                    break \n",
    "                else:\n",
    "                    self.items[idx] = item \n",
    "            self.capacity = capacity\n",
    "        else: \n",
    "            raise ValueError(\"initVal needs to be an iterable object\")\n",
    "    \n",
    "    #### String Representations \n",
    "    def __repr__(self):\n",
    "        return f'(cap = {self.capacity}, items = {self.items})'\n",
    "    \n",
    "    def __str__(self):\n",
    "        # Printing it in just list form is more user friendly. \n",
    "        return f'{self.items}'"
   ]
  },
  {
   "cell_type": "code",
   "execution_count": 5,
   "metadata": {},
   "outputs": [],
   "source": [
    "s_array = StaticArray([1,2,3])"
   ]
  },
  {
   "cell_type": "code",
   "execution_count": 6,
   "metadata": {},
   "outputs": [
    {
     "data": {
      "text/plain": [
       "(cap = 5, items = [1, 2, 3, None, None])"
      ]
     },
     "execution_count": 6,
     "metadata": {},
     "output_type": "execute_result"
    }
   ],
   "source": [
    "s_array  # Calling the _repr_ implementation "
   ]
  },
  {
   "cell_type": "code",
   "execution_count": 7,
   "metadata": {},
   "outputs": [
    {
     "name": "stdout",
     "output_type": "stream",
     "text": [
      "[1, 2, 3, None, None]\n"
     ]
    }
   ],
   "source": [
    "print(s_array) # Calling the __str__ implementation "
   ]
  },
  {
   "cell_type": "markdown",
   "metadata": {},
   "source": [
    "#### Emulating Collections/Sequences \n",
    "\n",
    "**What makes an object a collection**? \n",
    "\n",
    "- Can take its length: ``len(obj)``\n",
    "- Can query membership: ``x in obj``\n",
    "- Can iterate over it: ``for x in obj`` \n",
    "\n",
    "**What makes an object a sequence**?\n",
    "\n",
    "- Everything a collection can do \n",
    "- Can index it: ``obg[i]``\n"
   ]
  },
  {
   "cell_type": "markdown",
   "metadata": {},
   "source": [
    "#### Collections and Sequences \n",
    "\n",
    "| You Write...   | Python calls...          |\n",
    "| ---            | ---                      |\n",
    "| ``len(obj)``   | ``obj.__len__()``        |\n",
    "| ``x in obj``   | ``obj.__contains__(x)``  |\n",
    "| ``obj[i]``     | ``obj.__getitem__(i)``   |\n",
    "| ``obj[i] = x`` | ``obj.__setitem__(i,x)`` |\n",
    "| ``del obj[i]`` | ``obj.__delitem__(i)``   |"
   ]
  },
  {
   "cell_type": "code",
   "execution_count": 17,
   "metadata": {},
   "outputs": [],
   "source": [
    "class StaticArray:\n",
    "\n",
    "    def __init__(self, initVal, capacity = 5):\n",
    "        if isinstance(initVal, Iterable):\n",
    "            self.items = [None] * capacity\n",
    "            for idx,item in enumerate(initVal): \n",
    "                if idx >= capacity:\n",
    "                    break \n",
    "                else:\n",
    "                    self.items[idx] = item \n",
    "            self.capacity = capacity\n",
    "        else: \n",
    "            raise ValueError(\"initVal needs to be an iterable object\")\n",
    "\n",
    "    def __repr__(self):\n",
    "        return f'(cap = {self.capacity}, items = {self.items})'\n",
    "    def __str__(self):\n",
    "        return f'{self.items}'\n",
    "    \n",
    "    ############################################\n",
    "    #### Sequence Operartions implementation ###\n",
    "#    def __len__(self):\n",
    " #       return self.capacity \n",
    "    def __contains__(self, x):\n",
    "        return x in self.items \n",
    "    def __getitem__(self, i):\n",
    "        if i >= self.capacity or i < -self.capacity:\n",
    "            raise IndexError # an Invalid index\n",
    "        return self.items[i]\n",
    "    def __setitem__(self, i, x):\n",
    "        if i >= self.capacity or i < -self.capacity:\n",
    "            raise IndexError # an Invalid index\n",
    "        self.items[i] = x \n",
    "    def __delitem__(self,i):\n",
    "        raise NotImplementedError(\"Cannot delete from a static array\")"
   ]
  },
  {
   "cell_type": "code",
   "execution_count": 18,
   "metadata": {},
   "outputs": [],
   "source": [
    "s_array = StaticArray([1,'hi',True])"
   ]
  },
  {
   "cell_type": "code",
   "execution_count": 19,
   "metadata": {},
   "outputs": [
    {
     "ename": "TypeError",
     "evalue": "object of type 'StaticArray' has no len()",
     "output_type": "error",
     "traceback": [
      "\u001b[0;31m---------------------------------------------------------------------------\u001b[0m",
      "\u001b[0;31mTypeError\u001b[0m                                 Traceback (most recent call last)",
      "\u001b[0;32m<ipython-input-19-098f8d23044e>\u001b[0m in \u001b[0;36m<module>\u001b[0;34m\u001b[0m\n\u001b[0;32m----> 1\u001b[0;31m \u001b[0mlen\u001b[0m\u001b[0;34m(\u001b[0m\u001b[0ms_array\u001b[0m\u001b[0;34m)\u001b[0m\u001b[0;34m\u001b[0m\u001b[0;34m\u001b[0m\u001b[0m\n\u001b[0m",
      "\u001b[0;31mTypeError\u001b[0m: object of type 'StaticArray' has no len()"
     ]
    }
   ],
   "source": [
    "len(s_array)"
   ]
  },
  {
   "cell_type": "code",
   "execution_count": 11,
   "metadata": {},
   "outputs": [
    {
     "data": {
      "text/plain": [
       "False"
      ]
     },
     "execution_count": 11,
     "metadata": {},
     "output_type": "execute_result"
    }
   ],
   "source": [
    "34 in s_array"
   ]
  },
  {
   "cell_type": "code",
   "execution_count": 12,
   "metadata": {},
   "outputs": [
    {
     "data": {
      "text/plain": [
       "True"
      ]
     },
     "execution_count": 12,
     "metadata": {},
     "output_type": "execute_result"
    }
   ],
   "source": [
    "'hi' in s_array"
   ]
  },
  {
   "cell_type": "code",
   "execution_count": 13,
   "metadata": {},
   "outputs": [
    {
     "data": {
      "text/plain": [
       "'hi'"
      ]
     },
     "execution_count": 13,
     "metadata": {},
     "output_type": "execute_result"
    }
   ],
   "source": [
    "s_array[1]"
   ]
  },
  {
   "cell_type": "code",
   "execution_count": 14,
   "metadata": {},
   "outputs": [
    {
     "ename": "IndexError",
     "evalue": "",
     "output_type": "error",
     "traceback": [
      "\u001b[0;31m---------------------------------------------------------------------------\u001b[0m",
      "\u001b[0;31mIndexError\u001b[0m                                Traceback (most recent call last)",
      "\u001b[0;32m<ipython-input-14-38cbfa738177>\u001b[0m in \u001b[0;36m<module>\u001b[0;34m\u001b[0m\n\u001b[0;32m----> 1\u001b[0;31m \u001b[0ms_array\u001b[0m\u001b[0;34m[\u001b[0m\u001b[0;36m32\u001b[0m\u001b[0;34m]\u001b[0m\u001b[0;34m\u001b[0m\u001b[0;34m\u001b[0m\u001b[0m\n\u001b[0m",
      "\u001b[0;32m<ipython-input-8-31f287953fbb>\u001b[0m in \u001b[0;36m__getitem__\u001b[0;34m(self, i)\u001b[0m\n\u001b[1;32m     26\u001b[0m     \u001b[0;32mdef\u001b[0m \u001b[0m__getitem__\u001b[0m\u001b[0;34m(\u001b[0m\u001b[0mself\u001b[0m\u001b[0;34m,\u001b[0m \u001b[0mi\u001b[0m\u001b[0;34m)\u001b[0m\u001b[0;34m:\u001b[0m\u001b[0;34m\u001b[0m\u001b[0;34m\u001b[0m\u001b[0m\n\u001b[1;32m     27\u001b[0m         \u001b[0;32mif\u001b[0m \u001b[0mi\u001b[0m \u001b[0;34m>=\u001b[0m \u001b[0mself\u001b[0m\u001b[0;34m.\u001b[0m\u001b[0mcapacity\u001b[0m \u001b[0;32mor\u001b[0m \u001b[0mi\u001b[0m \u001b[0;34m<\u001b[0m \u001b[0;34m-\u001b[0m\u001b[0mself\u001b[0m\u001b[0;34m.\u001b[0m\u001b[0mcapacity\u001b[0m\u001b[0;34m:\u001b[0m\u001b[0;34m\u001b[0m\u001b[0;34m\u001b[0m\u001b[0m\n\u001b[0;32m---> 28\u001b[0;31m             \u001b[0;32mraise\u001b[0m \u001b[0mIndexError\u001b[0m \u001b[0;31m# an Invalid index\u001b[0m\u001b[0;34m\u001b[0m\u001b[0;34m\u001b[0m\u001b[0m\n\u001b[0m\u001b[1;32m     29\u001b[0m         \u001b[0;32mreturn\u001b[0m \u001b[0mself\u001b[0m\u001b[0;34m.\u001b[0m\u001b[0mitems\u001b[0m\u001b[0;34m[\u001b[0m\u001b[0mi\u001b[0m\u001b[0;34m]\u001b[0m\u001b[0;34m\u001b[0m\u001b[0;34m\u001b[0m\u001b[0m\n\u001b[1;32m     30\u001b[0m     \u001b[0;32mdef\u001b[0m \u001b[0m__setitem__\u001b[0m\u001b[0;34m(\u001b[0m\u001b[0mself\u001b[0m\u001b[0;34m,\u001b[0m \u001b[0mi\u001b[0m\u001b[0;34m,\u001b[0m \u001b[0mx\u001b[0m\u001b[0;34m)\u001b[0m\u001b[0;34m:\u001b[0m\u001b[0;34m\u001b[0m\u001b[0;34m\u001b[0m\u001b[0m\n",
      "\u001b[0;31mIndexError\u001b[0m: "
     ]
    }
   ],
   "source": [
    "s_array[32]"
   ]
  },
  {
   "cell_type": "code",
   "execution_count": 15,
   "metadata": {},
   "outputs": [
    {
     "ename": "IndexError",
     "evalue": "",
     "output_type": "error",
     "traceback": [
      "\u001b[0;31m---------------------------------------------------------------------------\u001b[0m",
      "\u001b[0;31mIndexError\u001b[0m                                Traceback (most recent call last)",
      "\u001b[0;32m<ipython-input-15-09825d6b9750>\u001b[0m in \u001b[0;36m<module>\u001b[0;34m\u001b[0m\n\u001b[0;32m----> 1\u001b[0;31m \u001b[0ms_array\u001b[0m\u001b[0;34m[\u001b[0m\u001b[0;36m21\u001b[0m\u001b[0;34m]\u001b[0m \u001b[0;34m=\u001b[0m \u001b[0;36m0\u001b[0m\u001b[0;34m\u001b[0m\u001b[0;34m\u001b[0m\u001b[0m\n\u001b[0m",
      "\u001b[0;32m<ipython-input-8-31f287953fbb>\u001b[0m in \u001b[0;36m__setitem__\u001b[0;34m(self, i, x)\u001b[0m\n\u001b[1;32m     30\u001b[0m     \u001b[0;32mdef\u001b[0m \u001b[0m__setitem__\u001b[0m\u001b[0;34m(\u001b[0m\u001b[0mself\u001b[0m\u001b[0;34m,\u001b[0m \u001b[0mi\u001b[0m\u001b[0;34m,\u001b[0m \u001b[0mx\u001b[0m\u001b[0;34m)\u001b[0m\u001b[0;34m:\u001b[0m\u001b[0;34m\u001b[0m\u001b[0;34m\u001b[0m\u001b[0m\n\u001b[1;32m     31\u001b[0m         \u001b[0;32mif\u001b[0m \u001b[0mi\u001b[0m \u001b[0;34m>=\u001b[0m \u001b[0mself\u001b[0m\u001b[0;34m.\u001b[0m\u001b[0mcapacity\u001b[0m \u001b[0;32mor\u001b[0m \u001b[0mi\u001b[0m \u001b[0;34m<\u001b[0m \u001b[0;34m-\u001b[0m\u001b[0mself\u001b[0m\u001b[0;34m.\u001b[0m\u001b[0mcapacity\u001b[0m\u001b[0;34m:\u001b[0m\u001b[0;34m\u001b[0m\u001b[0;34m\u001b[0m\u001b[0m\n\u001b[0;32m---> 32\u001b[0;31m             \u001b[0;32mraise\u001b[0m \u001b[0mIndexError\u001b[0m \u001b[0;31m# an Invalid index\u001b[0m\u001b[0;34m\u001b[0m\u001b[0;34m\u001b[0m\u001b[0m\n\u001b[0m\u001b[1;32m     33\u001b[0m         \u001b[0mself\u001b[0m\u001b[0;34m.\u001b[0m\u001b[0mitems\u001b[0m\u001b[0;34m[\u001b[0m\u001b[0mi\u001b[0m\u001b[0;34m]\u001b[0m \u001b[0;34m=\u001b[0m \u001b[0mx\u001b[0m\u001b[0;34m\u001b[0m\u001b[0;34m\u001b[0m\u001b[0m\n\u001b[1;32m     34\u001b[0m     \u001b[0;32mdef\u001b[0m \u001b[0m__delitem__\u001b[0m\u001b[0;34m(\u001b[0m\u001b[0mself\u001b[0m\u001b[0;34m,\u001b[0m\u001b[0mi\u001b[0m\u001b[0;34m)\u001b[0m\u001b[0;34m:\u001b[0m\u001b[0;34m\u001b[0m\u001b[0;34m\u001b[0m\u001b[0m\n",
      "\u001b[0;31mIndexError\u001b[0m: "
     ]
    }
   ],
   "source": [
    "s_array[21] = 0"
   ]
  },
  {
   "cell_type": "code",
   "execution_count": 16,
   "metadata": {
    "scrolled": true
   },
   "outputs": [
    {
     "ename": "NotImplementedError",
     "evalue": "Cannot delete from a static array",
     "output_type": "error",
     "traceback": [
      "\u001b[0;31m---------------------------------------------------------------------------\u001b[0m",
      "\u001b[0;31mNotImplementedError\u001b[0m                       Traceback (most recent call last)",
      "\u001b[0;32m<ipython-input-16-d8468a7a1e82>\u001b[0m in \u001b[0;36m<module>\u001b[0;34m\u001b[0m\n\u001b[0;32m----> 1\u001b[0;31m \u001b[0;32mdel\u001b[0m \u001b[0ms_array\u001b[0m\u001b[0;34m[\u001b[0m\u001b[0;36m1\u001b[0m\u001b[0;34m]\u001b[0m\u001b[0;34m\u001b[0m\u001b[0;34m\u001b[0m\u001b[0m\n\u001b[0m",
      "\u001b[0;32m<ipython-input-8-31f287953fbb>\u001b[0m in \u001b[0;36m__delitem__\u001b[0;34m(self, i)\u001b[0m\n\u001b[1;32m     33\u001b[0m         \u001b[0mself\u001b[0m\u001b[0;34m.\u001b[0m\u001b[0mitems\u001b[0m\u001b[0;34m[\u001b[0m\u001b[0mi\u001b[0m\u001b[0;34m]\u001b[0m \u001b[0;34m=\u001b[0m \u001b[0mx\u001b[0m\u001b[0;34m\u001b[0m\u001b[0;34m\u001b[0m\u001b[0m\n\u001b[1;32m     34\u001b[0m     \u001b[0;32mdef\u001b[0m \u001b[0m__delitem__\u001b[0m\u001b[0;34m(\u001b[0m\u001b[0mself\u001b[0m\u001b[0;34m,\u001b[0m\u001b[0mi\u001b[0m\u001b[0;34m)\u001b[0m\u001b[0;34m:\u001b[0m\u001b[0;34m\u001b[0m\u001b[0;34m\u001b[0m\u001b[0m\n\u001b[0;32m---> 35\u001b[0;31m         \u001b[0;32mraise\u001b[0m \u001b[0mNotImplementedError\u001b[0m\u001b[0;34m(\u001b[0m\u001b[0;34m\"Cannot delete from a static array\"\u001b[0m\u001b[0;34m)\u001b[0m\u001b[0;34m\u001b[0m\u001b[0;34m\u001b[0m\u001b[0m\n\u001b[0m",
      "\u001b[0;31mNotImplementedError\u001b[0m: Cannot delete from a static array"
     ]
    }
   ],
   "source": [
    "del s_array[1]"
   ]
  },
  {
   "cell_type": "markdown",
   "metadata": {},
   "source": [
    "We will stop here for now. However, there are so many more operators that you can implement to work with your custom classes. Here are a few others:\n",
    "\n",
    "#### Emulating numeric operators \n",
    "\n",
    "\n",
    "| You Write...   | Python calls...          |\n",
    "| ---            | ---                      |\n",
    "| ``x + y``   | ``x.__add__(y)``        |\n",
    "| ``x - y``   | ``x.__sub__(y)``  |\n",
    "| ``x * y``     | ``x.__mul__(y)``   |\n",
    "| ``x / y`` | ``x.__truediv__(y)`` |\n",
    "| ``x // y`` | ``x.__floordiv__(y)``   |\n",
    "| ``x ** y`` | ``x.__pow__(y)``   |\n",
    "| ``x @ y`` | ``x.__matmul__(y)``   |"
   ]
  },
  {
   "cell_type": "markdown",
   "metadata": {},
   "source": [
    "#### Reverse/Reflected/Right operators \n",
    "\n",
    "\n",
    "| You Write...   | Python calls...          |\n",
    "| ---            | ---                      |\n",
    "| ``x + y``   | ``y.__radd__(x)``        |\n",
    "| ``x - y``   | ``y.__rsub__(x)``  |\n",
    "| ``x * y``     | ``y.__rmul__(x)``   |\n",
    "| ``x / y`` | ``y.__rtruediv__(x)`` |\n",
    "| ``x // y`` | ``y.__rfloordiv__(x)``   |\n",
    "| ``x ** y`` | ``y.__rpow__(x)``   |\n",
    "| ``x @ y`` | ``y.__rmatmul__(x)``   |"
   ]
  },
  {
   "cell_type": "markdown",
   "metadata": {},
   "source": [
    "#### Augmented (in-place) assignment operators \n",
    "\n",
    "\n",
    "| You Write...   | Python calls...          |\n",
    "| ---            | ---                      |\n",
    "| ``x += y``   | ``x.__iadd__(y)``        |\n",
    "| ``x -= y``   | ``x.__isub__(y)``  |\n",
    "| ``x *= y``     | ``x.__imul__(y)``   |\n",
    "| ``x /= y`` | ``x.__itruediv__(y)`` |\n",
    "| ``x //= y`` | ``x.__ifloordiv__(y)``   |\n",
    "| ``x **= y`` | ``x.__ipow__(y)``   |\n",
    "| ``x @= y`` | ``x.__imatmul__(y)``   |"
   ]
  },
  {
   "cell_type": "markdown",
   "metadata": {},
   "source": [
    "#### Rich Comparison\n",
    "\n",
    "- Python allows you to also overload comparison operators:\n",
    "   - ``==``, ``!=``, ``>``, ``>=``, ``<``, and ``<=``\n",
    "   \n",
    "  \n",
    "  | You Write...   | Python calls...          |\n",
    "| ---            | ---                      |\n",
    "| ``x == y``   | ``x.__eq__(y)``        |\n",
    "| ``x != y``   | ``x.__ne__(y)``  |\n",
    "| ``x < y``     | ``x.__lt__(y)``   |\n",
    "| ``x > y`` | ``x.__gt__(y)`` |\n",
    "| ``x <= y`` | ``x.__le__(y)``   |\n",
    "| ``x >= y`` | ``x.__ge__(y)``   |\n"
   ]
  },
  {
   "cell_type": "markdown",
   "metadata": {},
   "source": [
    "#### Equality fallback \n",
    "\n",
    "**What happends when x == y is encountered?**\n",
    "\n",
    "1. Try ``x.__eq__(y)``\n",
    "2. If Step #1 fails then Try ``y.__eq__(x)``\n",
    "3. If ``__eq__()`` is not defined for either, \n",
    "    ``return id(x) == id(y)```"
   ]
  },
  {
   "cell_type": "code",
   "execution_count": null,
   "metadata": {},
   "outputs": [],
   "source": [
    "### Here's a more detailed example of the staticarray \n",
    "### class implementing many of these operators. \n",
    "class StaticArray:\n",
    "\n",
    "    def __init__(self, initVal, capacity = 5):\n",
    "        if isinstance(initVal, Iterable):\n",
    "            self.items = [None] * capacity\n",
    "            for idx,item in enumerate(initVal): \n",
    "                if idx >= capacity:\n",
    "                    break \n",
    "                else:\n",
    "                    self.items[idx] = item \n",
    "            self.capacity = capacity\n",
    "        else: \n",
    "            raise ValueError(\"initVal needs to be an iterable object\")\n",
    "\n",
    "    def __repr__(self):\n",
    "        return f'(cap = {self.capacity}, items = {self.items})'\n",
    "    def __str__(self):\n",
    "        return f'{self.items}' \n",
    "    def __len__(self):\n",
    "        return self.capacity \n",
    "    def __contains__(self, x):\n",
    "        return x in self.items \n",
    "    def __getitem__(self, i):\n",
    "        if i >= self.capacity or i < -self.capacity:\n",
    "            raise IndexError # an Invalid index\n",
    "        return self.items[i]\n",
    "    def __setitem__(self, i, x):\n",
    "        if i >= self.capacity or i < -self.capacity:\n",
    "            raise IndexError # an Invalid index\n",
    "        self.items[i] = x\n",
    "    def __delitem__(self,i):\n",
    "        raise NotImplementedError(\"Cannot delete from a static array\")\n",
    "    def __mul__(self, other):\n",
    "        t = self.items * other \n",
    "        return StaticArray(t, len(t))\n",
    "    def __rmul__(self, other):\n",
    "        return self.__mul__(other)\n",
    "    def __imul__(self, other):\n",
    "        return self.__mul__(other)\n",
    "    \n",
    "    #############################\n",
    "    ### eq method implementation ###\n",
    "    def __eq__(self, other):\n",
    "        if isinstance(other, StaticArray):\n",
    "            return self.capacity == other.capacity and self.items == other.items \n",
    "        return False "
   ]
  },
  {
   "cell_type": "code",
   "execution_count": null,
   "metadata": {},
   "outputs": [],
   "source": []
  }
 ],
 "metadata": {
  "kernelspec": {
   "display_name": "Python 3",
   "language": "python",
   "name": "python3"
  },
  "language_info": {
   "codemirror_mode": {
    "name": "ipython",
    "version": 3
   },
   "file_extension": ".py",
   "mimetype": "text/x-python",
   "name": "python",
   "nbconvert_exporter": "python",
   "pygments_lexer": "ipython3",
   "version": "3.7.7"
  }
 },
 "nbformat": 4,
 "nbformat_minor": 2
}
