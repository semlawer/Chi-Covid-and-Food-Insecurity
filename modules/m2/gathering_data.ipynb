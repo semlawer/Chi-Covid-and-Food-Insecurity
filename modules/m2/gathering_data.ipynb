{
 "cells": [
  {
   "cell_type": "markdown",
   "metadata": {},
   "source": [
    "## M2:  Gathering Data - Data formats (Storage/Transportation), Web Scraping"
   ]
  },
  {
   "cell_type": "markdown",
   "metadata": {},
   "source": [
    "### Data Formats: Storage/Transportation \n",
    "\n",
    "As I stated in module 1, one of the main objectives of this course is for you to get a better understanding about working with and analyzing data. We already looked at one representation/model of data with Markov Models but lets know understand how we actually gather data since that's the first step to data analysis. \n",
    " \n",
    "For example, what if we were doing analysis on stock information and we needed to gather information about Google's previous stock value from 2019. Lets examine some different representations of this data. "
   ]
  },
  {
   "cell_type": "markdown",
   "metadata": {},
   "source": [
    "#### Plain Text\n",
    "> The closing price for GOOG on Jan 25, 2019 was $1090.99 and 1,114,785 shares were traded. \n",
    "\n",
    "#### Binary encoding\t\n",
    "\n",
    "                0xC8B10436001102A144885fae\n",
    "                \n",
    "Encoding (made up):\n",
    "\n",
    "  - Day:                 5 bits\n",
    "  - Month:               4 bits\n",
    "  - Year:                7 bits               (X-1970)\n",
    "  - Symbol:             16 bits       \n",
    "       (1078th in alphabetic order)\n",
    "  - Closing price: 32 bits             (32 bit IEEE floating point)\n",
    "  - Shares traded: 32 bits             (unsigned int)\n",
    "\n",
    "#### CSV \n",
    "Day,Month,Year,Symbol,Closing Price,Shares <-- header\n",
    "\n",
    "25,Jan,2019,GOOG,1090.99,1114785  <-- comma delimited line fo Google data \n",
    "\n",
    "#### XML \n",
    "\n",
    "```xml \n",
    "  <stock_info>\n",
    "      <symbol>GOOG</symbol>\n",
    "      <date>\n",
    "\t    <day>25</day>\n",
    "\t    <month>Jan</month>\n",
    "\t    <year>2019</year>\n",
    "      </date>\n",
    "      <closing_price>1090.99</closing_price>\n",
    "      <shares_traded>1114785</shares_traded>\n",
    "    </stock_info>\n",
    "```\n",
    "\n",
    "#### JSON \n",
    "\n",
    "```json \n",
    " {\"symbol\":\"GOOG\",\n",
    "  \"date\": {\"day\":\"25\", \n",
    "                 \"month\":\"Jan\",  \n",
    "                 \"year\":\"2019\"},\n",
    "   \"closing price\": “1090.99\",\n",
    "   \"shares traded\": “1114785\"}\n",
    "```\n",
    "\n",
    "#### HTML \n",
    "\n",
    "```html \n",
    "    <tr>\n",
    "    <td class=\"yfnc_tabledata1\" nowrap align=\"right\">Jan 25, 2019</td>\n",
    "    <td class=\"yfnc_tabledata1\" align=\"right\">1,090.99</td>\n",
    "    <td class=\"yfnc_tabledata1\" align=\"right\">GOOG</td>\n",
    "    <td class=\"yfnc_tabledata1\" align=\"right\">1,114,785</td>\n",
    "    </tr>\n",
    "```\n",
    "\n",
    "Again, some key ideas from seeing all these formats: \n",
    "\n",
    "- You need to understand what the data means before you can work with it.\n",
    "\n",
    "- Data comes in different formats and you may not have any control\n",
    "  over what you get.\n",
    "\n",
    "- JSON is a nice mix of readable and easy to work with."
   ]
  },
  {
   "cell_type": "markdown",
   "metadata": {},
   "source": [
    "### Gathering data from the web\n",
    "\n",
    "As stated above, a data scientist won't always be given the data they need handed to them in a easily to process format (e.g., CSV, JSON, etc.). Futhermore, there may not be an easy way to even access the data. A lot the data avaliable to you is on the internet and you may need to go out and get that data yourself. The data can be avaliable in many different ways: \n",
    "\n",
    "1. Downloadable from a website. The data is easily accessible and may come in different formats to make it easy to include your analaysis. \n",
    "\n",
    "2. API (Application Programming Interface) - is a set functions and communication protocols that provide access to the data for an application, operating system, etc. For example, Twitter provides an API to allow developers to retrieve information about the users of Twitter. \n",
    "  > \"The Twitter API enables programmatic access to Twitter in unique and advanced ways. Use it to analyze, learn from, and interact with Tweets, Direct Messages, users, and other key Twitter resources.\" Cite: Twitter\n",
    "  \n",
    "  Companies that provide an API might offer access to its data for free, or may charge for access. They might also limit the number of requests that a single user can make or the detail of the data they can access. \n",
    "  \n",
    "  \n",
    "3. Scraping the data -  process of extracting data from websites using an automated process is known as *web scraping*. Most developers use scraping when the data is not avaliable directly from a website, or access to the API is limited, or too expensive or just non-existent. However, some websites explicitly forbid users from scraping their data because   Making many repeated requests to a website’s server may use up bandwidth, slowing down the website for other users and potentially overloading the server such that the website stops responding entirely or there data is valuable (e.g., Twitter, Amazon Product Information) and they want to protect it from competiters or others. \n",
    "\n",
    "Since scraping is a very useful tool to know when working with data, we will learn how to scrape this week. However, it will require that you know some basic html. "
   ]
  },
  {
   "cell_type": "markdown",
   "metadata": {},
   "source": [
    "### Basic URL \n",
    "\n",
    "Before you can grab the data on a website, you need to first understand the process of getting to that page to access it's data. \n",
    "\n",
    "``  protocol://site address/path/filename ``\n",
    "\n",
    "Example: ``https://classes.cs.uchicago.edu/current/30122-1/pa/pa1/index.html``\n",
    "\n",
    "    - ``protocol``: http\n",
    "    - ``hostname``: www\n",
    "    - ``domain``: classes.cs.uchicago\n",
    "    - ``top-level domain``: edu\n",
    "    - ``path``: archive/2017/winter/12200-1/pa/pa1\n",
    "    - ``filename``: index.html\n",
    "\n",
    "Relative URL:\n",
    "   -  ``pa/index.html``\n",
    "\n",
    "Relative URL with a fragment:  \n",
    "   - ``pa/pa1/index.html#submission``"
   ]
  },
  {
   "cell_type": "markdown",
   "metadata": {},
   "source": [
    "### Basic HTML\n",
    "\n",
    "HTML (HyperText Markup Language) is the standard markup language for documents designed to be displayed in a web browser. It's similar to XML where you you embed the data within **tags** that describe the content of a document, and may also include formatting/style information. \n",
    "\n",
    "Standard syntax: ``<tagname> contents </tagname>`` \n",
    "\n",
    "#### Basic structure of HTML document\n",
    "\n",
    "```html \n",
    "  <!DOCTYPE HTML>\n",
    "   <html>\n",
    "     <head>\n",
    "        <title>...</title>\n",
    "     </head>\n",
    "     <body>\n",
    "       <p> ... </p>\n",
    "       <p> ... </p>\n",
    "       <p> ... </p>\n",
    "     </body>\n",
    "   </html>\n",
    "```\n",
    "You can also think of an HTML document's tags as making up a tree data structure since you embed tags within tags that act as children. \n",
    "\n",
    "![alt text](basic_html.png \"Basic HTML structure\")\n"
   ]
  },
  {
   "cell_type": "markdown",
   "metadata": {},
   "source": [
    "#### Some example tags \n",
    "\n",
    "**headers**:\n",
    " -   ``<h1>...</h1> through <h6>...</h6>``\n",
    "\n",
    "**links**: \n",
    " - ``<a href=\"http://college.uchicago.edu\">The College</a>``\n",
    "\n",
    " -  Attributes: ``href`` is an attribute and \"http://...\" is its value. An attribute provides additional information about HTML tags. \n",
    "\n",
    "**images**:\n",
    " -  ``<img style=\"height: 120px;\" alt=\"\" src=\"images/freelunch.png\">``\n",
    "\n",
    "**paragraph**:\n",
    "  -  ``<p> … some text … </p>``\n",
    "  -  ``<p class=\"courseblocktitle”>course title…</p>``\n",
    "\n",
    "**comment**:\n",
    "  - ``<!-- ... -->``\n",
    "\n",
    "**division or section**:\n",
    "  - ``<div> … </div>``\n",
    "  - ``<div class=\"courseblock main\">…stuff...</div>``\n",
    "\n",
    "\n",
    "**table**:\n",
    "```html\n",
    "     <table>\n",
    "       <tr>\n",
    "          <th>...</th>\n",
    "             ...\n",
    "          <th>...</th>\n",
    "       </tr>\n",
    "       <tr>\n",
    "          <td>...</td>\n",
    "             ...\n",
    "          <td>...</td>\n",
    "       </tr>\n",
    "     </table>\n",
    "```\n"
   ]
  },
  {
   "cell_type": "markdown",
   "metadata": {},
   "source": [
    "### Grabbing the HTML Code\n",
    "\n",
    "We know have a good understanding about the structure of an HTML document. Lets now talk about tools that Python provides to us that allow use to extract out the data from within the tags. \n",
    "\n",
    "First, you need to be able to access the HTML from a given website. You can use the ``requests`` package to retrieve the html code. "
   ]
  },
  {
   "cell_type": "code",
   "execution_count": 1,
   "metadata": {},
   "outputs": [],
   "source": [
    "import requests"
   ]
  },
  {
   "cell_type": "markdown",
   "metadata": {},
   "source": [
    "You now need to open a *connection* to your website of choice by using the ``get`` function of the ``requests`` package. \n",
    "\n",
    "For example, lets take a look at accessing The College's 2014-2015 catalog, which is located here: \n",
    "\n",
    "https://www.classes.cs.uchicago.edu/archive/2015/winter/12200-1/new.collegecatalog.uchicago.edu/thecollege/computerscience/index.html"
   ]
  },
  {
   "cell_type": "code",
   "execution_count": 2,
   "metadata": {},
   "outputs": [],
   "source": [
    "# requests.get  makes the connection and reads the data from the connection if possible.\n",
    "r = requests.get(\"https://www.classes.cs.uchicago.edu/archive/2015/winter/12200-1/new.collegecatalog.uchicago.edu/thecollege/computerscience/index.html\")"
   ]
  },
  {
   "cell_type": "code",
   "execution_count": 3,
   "metadata": {},
   "outputs": [
    {
     "data": {
      "text/plain": [
       "requests.models.Response"
      ]
     },
     "execution_count": 3,
     "metadata": {},
     "output_type": "execute_result"
    }
   ],
   "source": [
    "type(r) # r is just a Response object with information about the connection "
   ]
  },
  {
   "cell_type": "code",
   "execution_count": 4,
   "metadata": {},
   "outputs": [
    {
     "data": {
      "text/plain": [
       "200"
      ]
     },
     "execution_count": 4,
     "metadata": {},
     "output_type": "execute_result"
    }
   ],
   "source": [
    "# Checking the \"status_code\" attribute allows us to know if we were able to make a \n",
    "# connection with the website. \n",
    "#  r.status_code --\n",
    "#     200 - OK Standard response for successful HTTP requests\n",
    "#     403 - Forbidden\n",
    "#     404 - Not Found\n",
    "r.status_code"
   ]
  },
  {
   "cell_type": "markdown",
   "metadata": {},
   "source": [
    "How do we actually get the HTML? You can use ``r.text.encode(...)`` method to retrive an unicode string containing html code. "
   ]
  },
  {
   "cell_type": "code",
   "execution_count": 5,
   "metadata": {},
   "outputs": [
    {
     "data": {
      "text/plain": [
       "b'<!doctype html>\\n<html xml:lang=\"en\" lang=\"en\" dir=\"ltr\">\\n\\n<head>\\n<title>Computer Science &lt; University of Chicago Catalog</title>\\n<meta http-equiv=\"Content-Type\" content=\"text/html; charset=utf-8\" />\\n<link rel=\"search\" type=\"application/opensearchdescription+xml\"\\n\\t\\t\\thref=\"../search/opensearch.xml\" title=\"University of Chicago Catalog\" />\\n<meta name=\"viewport\" content=\"width=device-width, initial-scale=1.0, minimum-scale=1.0\" />\\n<link href=\"../favicon.ico\" rel=\"shortcut icon\" />\\n<link rel=\"stylesheet\" type=\"text/css\" href=\"../css/reset.css\" />\\n<link rel=\"stylesheet\" type=\"text/css\" href=\"../css/screen.css\" media=\"screen\" />\\n<link rel=\"stylesheet\" type=\"text/css\" href=\"../css/print.css\" media=\"print\" />\\n<script type=\"text/javascript\" src=\"../../js/jquery.js\"></script>\\n<script type=\"text/javascript\" src=\"../../js/lfjs.js\"></script>\\n<script type=\"text/javascript\" src=\"../../js/lfjs_any.js\"></script>\\n<link rel=\"stylesheet\" type=\"text/css\" href=\"../../js/lfjs.css\" />\\n<script type=\"text/javascript\" src=\"../../js/courseleaf.js\"></script>\\n<script type=\"text/javascript\" src=\"../js/custom.js\"></script>\\n<script type=\"text/javascript\">\\nvar edition = \"2014-2015\";\\n</script>\\n\\n\\n\\n<script>\\n(function(i,s,o,g,r,a,m){i[\\'GoogleAnalyticsObject\\']=r;i[r]=i[r]||function(){\\n(i[r].q=i[r].q||[]).push(arguments)},i[r].l=1*new Date();a=s.createElement(o),\\nm=s.getElementsByTagName(o)[0];a.async=1;a.src=g;m.parentNode.insertBefore(a,m)\\n})(window,document,\\'script\\',\\'//www.google-analytics.com/analytics.js\\',\\'ga\\');\\nga(\\'create\\', \\'UA-18333136-7\\', \\'auto\\');\\nga(\\'require\\', \\'displayfeatures\\');\\nga(\\'require\\', \\'linkid\\', \\'linkid.js\\');\\nga(\\'send\\', \\'pageview\\');\\n</script>\\n</head>\\n\\n<body>\\n\\n\\n\\n\\n<!--htdig_noindex-->\\n<div class=\"accessible noscript\">\\n\\t<div class=\"accessible-menu\">\\n\\t\\t<ul>\\n\\t\\t\\t<li><a href=\"index.html#content\" rel=\"section\">Skip to Content</a></li>\\n\\t\\t\\t<li><a href=\"../../azindex/index.html\">AZ Index</a></li>\\n\\t\\t\\t<li><a href=\"../../index.html\">Catalog Home</a></li>\\n\\t\\t\\t<li><a href=\"http://www.uchicago.edu\">Institution Home</a></li>\\n\\t\\t</ul>\\n\\t</div>\\n</div>\\n<!--/htdig_noindex-->\\n\\n\\t<!--htdig_noindex-->\\n\\t<div id=\"header\" class=\"clearfix\">\\n\\t\\t<div class=\"wrap\">\\n\\n\\t\\t\\t<div id=\"logo\">\\n\\t\\t\\t\\t<a href=\"http://college.uchicago.edu\">The University of Chicago</a>\\n\\t\\t\\t</div><!-- end #logo -->\\n\\n\\t\\t\\t<div id=\"edition\">\\n\\t\\t\\t\\t<h1><a href=\"../../index.html\">2014-2015 Catalog</a></h1>\\n\\t\\t\\t</div><!-- end #edition -->\\n\\n\\t\\t</div><!-- end .wrap -->\\n\\t</div><!-- end #header -->\\n\\t<!--/htdig_noindex-->\\n\\n\\t<div id=\"wrapper\">\\n\\n\\t\\t<div id=\"container\" class=\"clearfix\">\\n\\n\\t\\t\\t<div id=\"page-title\" class=\"clearfix\">\\n\\t\\t\\t\\t<h2>Computer Science</h2>\\n\\n\\t\\t\\t\\t<div id=\"cl-menu-control\" class=\"togglenav\">\\n\\t                <a class=\"cl-menu-btn\" href=\"index.html#\">Toggle Navigation</a>\\n\\t            </div><!--end #cl-menu-control-->\\n\\t        </div><!-- end #page-title -->\\n\\n\\t\\t\\t<div id=\"nav-col\">\\n\\n\\t\\t\\t\\t<div id=\"cl-menu\" role=\"navigation\">\\n\\t\\t\\t\\t\\t<a class=\"stickytop\" href=\"index.html#header\">Back to top</a>\\n<!--htdig_noindex-->\\n\\n<!-- Begin Nav -->\\n\\t<ul class=\"nav\" id=\"/thecollege/\">\\n\\t\\t<li><a href=\"../introduction/index.html\">Introduction</a></li>\\n\\t\\t<li class=\"active\"><a href=\"../programsofstudy.1.html\">Programs of Study</a>\\n\\t\\t<ul class=\"nav\" id=\"/thecollege/programsofstudy/\">\\n\\t\\t\\t<li><a href=\"../anthropology/index.html\">Anthropology</a></li>\\n\\t\\t\\t<li><a href=\"../arthistory/index.html\">Art History</a></li>\\n\\t\\t\\t<li><a href=\"../biologicalchemistry/index.html\">Biological Chemistry</a></li>\\n\\t\\t\\t<li><a href=\"../biologicalsciences.1.html\">Biological Sciences</a></li>\\n\\t\\t\\t<li><a href=\"../chemistry.1.html\">Chemistry</a></li>\\n\\t\\t\\t<li><a href=\"../cinemamediastudies/index.html\">Cinema and Media Studies</a></li>\\n\\t\\t\\t<li><a href=\"../civilizationstudies/index.html\">Civilization Studies</a></li>\\n\\t\\t\\t<li><a href=\"../classicalstudies/index.html\">Classical Studies</a></li>\\n\\t\\t\\t<li><a href=\"../comparativehumandevelopment/index.html\">Comparative Human Development</a></li>\\n\\t\\t\\t<li><a href=\"../comparativeliterature/index.html\">Comparative Literature</a></li>\\n\\t\\t\\t<li><a href=\"../comparativeraceethnicstudies/index.html\">Comparative Race and Ethnic Studies</a></li>\\n\\t\\t\\t<li><a href=\"../caam/index.html\">Computational and Applied Mathematics</a></li>\\n\\t\\t\\t<li class=\"active self\"><a href=\"index.html#\" onclick=\"return false;\">Computer Science</a></li>\\n\\t\\t\\t<li><a href=\"../eastasianlanguagescivilizations/index.html\">East Asian Languages and Civilizations</a></li>\\n\\t\\t\\t<li><a href=\"../economics/index.html\">Economics</a></li>\\n\\t\\t\\t<li><a href=\"../englishlanguageliterature.1.html\">English Language and Literature</a></li>\\n\\t\\t\\t<li><a href=\"../environmentalscience.1.html\">Environmental Science</a></li>\\n\\t\\t\\t<li><a href=\"../environmentalstudies/index.html\">Environmental Studies</a></li>\\n\\t\\t\\t<li><a href=\"../fundamentalsissuesandtexts/index.html\">Fundamentals: Issues and Texts</a></li>\\n\\t\\t\\t<li><a href=\"../genderstudies/index.html\">Gender and Sexuality Studies</a></li>\\n\\t\\t\\t<li><a href=\"../geographicalstudies/index.html\">Geographical Studies</a></li>\\n\\t\\t\\t<li><a href=\"../geophysicalsciences.1.html\">Geophysical Sciences</a></li>\\n\\t\\t\\t<li><a href=\"../germanicstudies/index.html\">Germanic Studies</a></li>\\n\\t\\t\\t<li><a href=\"../history/index.html\">History</a></li>\\n\\t\\t\\t<li><a href=\"../scienceandmedicinehips/index.html\">History, Philosophy, and Social Studies of Science and Medicine</a></li>\\n\\t\\t\\t<li><a href=\"../humanities/index.html\">Humanities</a></li>\\n\\t\\t\\t<li><a href=\"../interdisciplinarystudieshumanities.1.html\">Interdisciplinary Studies in the Humanities</a></li>\\n\\t\\t\\t<li><a href=\"../internationalstudies/index.html\">International Studies</a></li>\\n\\t\\t\\t<li><a href=\"../jewishstudies/index.html\">Jewish Studies</a></li>\\n\\t\\t\\t<li><a href=\"../latinamericanstudies/index.html\">Latin American Studies</a></li>\\n\\t\\t\\t<li><a href=\"../lawlettersandsociety/index.html\">Law, Letters, and Society</a></li>\\n\\t\\t\\t<li><a href=\"../linguistics.1.html\">Linguistics</a></li>\\n\\t\\t\\t<li><a href=\"../mathematics/index.html\">Mathematics</a></li>\\n\\t\\t\\t<li><a href=\"../medievalstudies/index.html\">Medieval Studies</a></li>\\n\\t\\t\\t<li><a href=\"../molecularengineering/index.html\">Molecular Engineering</a></li>\\n\\t\\t\\t<li><a href=\"../music/index.html\">Music</a></li>\\n\\t\\t\\t<li><a href=\"../naturalsciences/index.html\">Natural Sciences</a></li>\\n\\t\\t\\t<li><a href=\"../neareasternlanguagescivilizations/index.html\">Near Eastern Languages and Civilizations</a></li>\\n\\t\\t\\t<li><a href=\"../newcollegiatedivision/index.html\">New Collegiate Division</a></li>\\n\\t\\t\\t<li><a href=\"../philosophy/index.html\">Philosophy</a></li>\\n\\t\\t\\t<li><a href=\"../physicalsciences/index.html\">Physical Sciences</a></li>\\n\\t\\t\\t<li><a href=\"../physics/index.html\">Physics</a></li>\\n\\t\\t\\t<li><a href=\"../politicalscience/index.html\">Political Science</a></li>\\n\\t\\t\\t<li><a href=\"../psychology/index.html\">Psychology</a></li>\\n\\t\\t\\t<li><a href=\"../publicpolicystudies/index.html\">Public Policy Studies</a></li>\\n\\t\\t\\t<li><a href=\"../religiousstudies/index.html\">Religious Studies</a></li>\\n\\t\\t\\t<li><a href=\"../romancelanguagesliteratures/index.html\">Romance Languages and Literatures</a></li>\\n\\t\\t\\t<li><a href=\"../russianstudies/index.html\">Russian Studies</a></li>\\n\\t\\t\\t<li><a href=\"../slaviclanguagesliteratures/index.html\">Slavic Languages and Literatures</a></li>\\n\\t\\t\\t<li><a href=\"../socialsciences/index.html\">Social Sciences</a></li>\\n\\t\\t\\t<li><a href=\"../sociology/index.html\">Sociology</a></li>\\n\\t\\t\\t<li><a href=\"../southasianlanguagescivilizations/index.html\">South Asian Languages and Civilizations</a></li>\\n\\t\\t\\t<li><a href=\"../statistics/index.html\">Statistics</a></li>\\n\\t\\t\\t<li><a href=\"../theaterperformancestudies/index.html\">Theater and Performance Studies</a></li>\\n\\t\\t\\t<li><a href=\"../tutorialstudies/index.html\">Tutorial Studies</a></li>\\n\\t\\t\\t<li><a href=\"../visualarts/index.html\">Visual Arts</a></li>\\n\\t\\t</ul>\\n\\t\\t</li>\\n\\t\\t<li><a href=\"../thecurriculum.1.html\">The Curriculum</a></li>\\n\\t\\t<li><a href=\"../academicregulationsprocedures/index.html\">Academic Regulations and Procedures</a></li>\\n\\t\\t<li><a href=\"../examinationcreditandtransfercredit.1.html\">Examination Credit and Transfer Credit</a></li>\\n\\t\\t<li><a href=\"../interdisciplinaryopportunities/index.html\">Interdisciplinary Opportunities</a></li>\\n\\t\\t<li><a href=\"../jointdegreeprograms/index.html\">Joint Degree Programs</a></li>\\n\\t\\t<li><a href=\"../offcampusstudyprograms.1.html\">Study Abroad</a></li>\\n\\t\\t<li><a href=\"../preparationforprofessionalstudy/index.html\">Preparation for Professional Study</a></li>\\n\\t\\t<li><a href=\"../researchopportunities/index.html\">Research Opportunities</a></li>\\n\\t\\t<li><a href=\"../archives.1.html\">Archived Catalogs</a></li>\\n\\t</ul>\\n<!-- End Nav -->\\n<!--/htdig_noindex-->\\n                </div><!--end #cl-menu-->\\n\\n\\t\\t     \\t<div id=\"search\">\\n\\t\\t\\t\\t\\t<form id=\"cl-search\" action=\"http://collegecatalog.uchicago.edu/thecollege/search/\" class=\"clearfix\">\\n\\t\\t\\t\\t\\t\\t<input type=\"hidden\" name=\"caturl\" value=\"/thecollege\" />\\n\\t\\t\\t\\t\\t\\t<label for=\"name\">Search Catalog</label>\\n\\t\\t\\t\\t\\t\\t<input type=\"text\" name=\"P\" size=\"25\" class=\"searchbox\" id=\"name\" title=\"Search Catalog\" />\\n\\t\\t\\t\\t\\t\\t<input type=\"submit\" value=\"Search\" class=\"submit\" />\\n\\t\\t\\t\\t\\t</form>\\n\\t\\t        </div><!-- end #search -->\\n\\n\\t\\t\\t</div><!-- end #nav-col -->\\n\\n\\t\\t\\t\\t<div id=\"content-col\">\\n\\n<!--htdig_noindex-->\\n<!--/htdig_noindex-->\\n\\n<!--htdig_noindex-->\\n<div id=\"breadcrumb\" class=\"clearfix\" role=\"navigation\">\\n<ul><li><a href=\"../../index.html\">Home</a><span class=\"crumbsep\"> &gt; </span></li><li><a href=\"../index.html\">The&nbsp;College&nbsp;Catalog&nbsp;2014-2015</a><span class=\"crumbsep\"> &gt; </span></li><li><a href=\"../programsofstudy.1.html\">Programs&nbsp;of&nbsp;Study</a><span class=\"crumbsep\"> &gt; </span></li><li><span class=\"active\">Computer Science</span></li></ul>\\n</div><!-- end #breadcrumb -->\\n<!--/htdig_noindex-->\\n\\n<div id=\"content\" role=\"main\">\\n\\n\\n\\n\\n\\t\\t<p><a href=\"index.html#contacts\">Contacts</a> | <a href=\"index.html#programofstudy\">Program of Study</a> | <a href=\"index.html#programrequirements\">Program Requirements</a> | <a href=\"index.html#summaryofrequirements\">Summary of Requirements</a> | <a href=\"index.html#spangradingspan\"><span>Grading</span></a> | <a href=\"index.html#honors\">Honors</a> | <a href=\"index.html#recommendedsequencesincomputerscience\">Recommended Sequences in Computer Science</a> | <a href=\"index.html#minorprogramincomputerscience\">Minor Program in Computer Science</a> | <a href=\"index.html#jointbamsorbsmsprogram\">Joint BA/MS or BS/MS Program</a> | <a href=\"index.html#graduatecourses\">Graduate Courses</a> | <a href=\"index.html#courseinventory\">Courses</a></p>\\n<p>Department Website: <a href=\"http://www.cs.uchicago.edu\" target=\"_blank\">http://www.cs.uchicago.edu</a></p><a name=\"programofstudy\"></a>\\n<h3>Program of Study</h3>\\n\\n\\n\\n\\n<p>The computer science program prepares students for either graduate work or employment in computer science by offering both the BA and BS degrees. Students receiving the BA will have sufficient breadth and depth for either graduate study or immediate employment in computer science. Recipients of the BS will also have substantial depth and breadth in a field outside of computer science through the completion of an approved related area.</p>\\n\\n\\n\\n\\n<p>Students in other fields of study may complete a minor in computer science. Information follows the description of the major.</p>\\n\\n\\n\\n\\n<a name=\"programrequirements\"></a>\\n<h3>Program Requirements</h3>\\n\\n\\n\\n\\n<p>Both the BA and BS in computer science require fulfillment of the mathematical sciences requirement in general education by completing an approved two-quarter calculus sequence. The physical sciences requirement in general education must be satisfied by completing an approved two-quarter sequence in either chemistry or physics. Both BA and BS students take at least fourteen computer science courses chosen from an approved program. BS students also take three courses in an approved related field outside computer science.</p>\\n\\n\\n\\n\\n<p>Students pursuing a bachelor\\'s degree in computer science should note that by judicious choice of courses from another field a supplementary field can be developed that is often in itself a solid basis for graduate or professional work in that field. Some examples are biology, biophysics, chemistry, geophysical sciences, history, linguistics, mathematics, philosophy, political science, psychology, physics, sociology, statistics, and economics.</p>\\n\\n\\n\\n\\n<h4>Advanced Placement</h4>\\n\\n\\n\\n\\n<p>Students who are majoring in computer science may not use AP credit for computer science to meet requirements in the major. Students with AP scores of 4 or 5 on Computer Science A from May 2010 forward or Computer Science AB prior to that receive two quarters of elective credit. NOTE: Students must forgo AP elective credit if they register for one of the following:</p>\\n\\n\\n\\n\\n<table class=\"sc_courselist\" width=\"100%\"><colgroup><col class=\"codecol\"/><col class=\"titlecol\"/><col align=\"char\" char=\".\" class=\"hourscol\"/></colgroup><tbody><tr class=\"even firstrow\"><td class=\"codecol\"><a href=\"../../search/index.html@P=CMSC&#32;10500.html\" title=\"CMSC\\xc2\\xa010500\" class=\"bubblelink code\" onclick=\"return showCourse(this, \\'CMSC 10500\\');\">CMSC\\xc2\\xa010500</a></td><td>Fundamentals of Computer Programming I</td><td class=\"hourscol\">100</td></tr>\\n<tr class=\"odd\"><td class=\"codecol\"><a href=\"../../search/index.html@P=CMSC&#32;10600.html\" title=\"CMSC\\xc2\\xa010600\" class=\"bubblelink code\" onclick=\"return showCourse(this, \\'CMSC 10600\\');\">CMSC\\xc2\\xa010600</a></td><td>Fundamentals of Computer Programming II</td><td class=\"hourscol\">100</td></tr>\\n<tr class=\"even\"><td class=\"codecol\"><a href=\"../../search/index.html@P=CMSC&#32;15100.html\" title=\"CMSC\\xc2\\xa015100\" class=\"bubblelink code\" onclick=\"return showCourse(this, \\'CMSC 15100\\');\">CMSC\\xc2\\xa015100</a></td><td>Introduction to Computer Science I</td><td class=\"hourscol\">100</td></tr>\\n<tr class=\"odd lastrow\"><td class=\"codecol\"><a href=\"../../search/index.html@P=CMSC&#32;15200.html\" title=\"CMSC\\xc2\\xa015200\" class=\"bubblelink code\" onclick=\"return showCourse(this, \\'CMSC 15200\\');\">CMSC\\xc2\\xa015200</a></td><td>Introduction to Computer Science II</td><td class=\"hourscol\">100</td></tr>\\n</tbody></table>\\n\\n\\n\\n\\n\\n<p>Students who enroll in <span class=\"sc_courseinline\"><a href=\"../../search/index.html@P=CMSC&#32;12100.html\" title=\"CMSC\\xc2\\xa012100\" class=\"bubblelink code\" onclick=\"return showCourse(this, \\'CMSC 12100\\');\">CMSC\\xc2\\xa012100</a> Computer Science with Applications I</span>, <span class=\"sc_courseinline\"><a href=\"../../search/index.html@P=CMSC&#32;12200.html\" title=\"CMSC\\xc2\\xa012200\" class=\"bubblelink code\" onclick=\"return showCourse(this, \\'CMSC 12200\\');\">CMSC\\xc2\\xa012200</a> Computer Science with Applications II</span>, <span class=\"sc_courseinline\"><a href=\"../../search/index.html@P=CMSC&#32;16100.html\" title=\"CMSC\\xc2\\xa016100\" class=\"bubblelink code\" onclick=\"return showCourse(this, \\'CMSC 16100\\');\">CMSC\\xc2\\xa016100</a> Honors Introduction to Computer Science I</span>, and <span class=\"sc_courseinline\"><a href=\"../../search/index.html@P=CMSC&#32;16200.html\" title=\"CMSC\\xc2\\xa016200\" class=\"bubblelink code\" onclick=\"return showCourse(this, \\'CMSC 16200\\');\">CMSC\\xc2\\xa016200</a> Honors Introduction to Computer Science II</span> may retain AP elective credit.</p>\\n\\n\\n\\n\\n\\n<p>Computer science majors may use AP credit for chemistry or physics to meet their physical sciences requirement in general education or physical science components of the major. However, no credit designated simply as &quot;physical science&quot; (from either AP or the College\\'s physical sciences examinations) may be used to meet general education or requirements in the computer science majors.</p>\\n\\n\\n\\n\\n<h4>Approved Programs</h4>\\n\\n\\n\\n\\n<p>The notion of &quot;approval&quot; in the program requirements allows timely response to change in the course offerings of the various departments. The computer science department counselor is responsible for approval of specific courses and sequences. Students should consult the department counselor for details on specific courses they are considering taking to meet the requirements.</p>\\n\\n\\n\\n\\n<h4>Approved Computer Science Program</h4>\\n\\n\\n\\n\\n<p>For the authoritative version of the Department of Computer Science requirements and course descriptions, visit <a href=\"http://www.cs.uchicago.edu\" target=\"_blank\">http://www.cs.uchicago.edu</a>.</p>\\n\\n\\n\\n\\n<p>There is a single approved program comprising required courses in four topical areas, plus four elective computer science courses. This is a general program in computer science and is used for either the BA or the BS degree. Upper-level or graduate courses in similar topics may be substituted for those on the list that follows, with the approval of the department counselor.</p>\\n\\n\\n\\n\\n<p><span>Students considering a computer science major are strongly advised to register for an introductory sequence in their first year.</span></p>\\n\\n\\n\\n\\n<p>1. Introductory Sequence (three courses required):</p>\\n\\n\\n\\n\\n<table class=\"sc_courselist\" width=\"100%\"><colgroup><col class=\"codecol\"/><col class=\"titlecol\"/><col align=\"char\" char=\".\" class=\"hourscol\"/></colgroup><tbody><tr class=\"even firstrow\"><td class=\"codecol\"><a href=\"../../search/index.html@P=CMSC&#32;15100.html\" title=\"CMSC\\xc2\\xa015100\" class=\"bubblelink code\" onclick=\"return showCourse(this, \\'CMSC 15100\\');\">CMSC\\xc2\\xa015100</a></td><td>Introduction to Computer Science I</td><td class=\"hourscol\">100</td></tr>\\n<tr class=\"orclass even firstrow\"><td class=\"codecol orclass\">or\\xc2\\xa0<a href=\"../../search/index.html@P=CMSC&#32;16100.html\" title=\"CMSC\\xc2\\xa016100\" class=\"bubblelink code\" onclick=\"return showCourse(this, \\'CMSC 16100\\');\">CMSC\\xc2\\xa016100</a></td><td colspan=\"2\"> Honors Introduction to Computer Science I</td></tr>\\n<tr class=\"odd\"><td class=\"codecol\"><a href=\"../../search/index.html@P=CMSC&#32;15200.html\" title=\"CMSC\\xc2\\xa015200\" class=\"bubblelink code\" onclick=\"return showCourse(this, \\'CMSC 15200\\');\">CMSC\\xc2\\xa015200</a></td><td>Introduction to Computer Science II</td><td class=\"hourscol\">100</td></tr>\\n<tr class=\"orclass odd\"><td class=\"codecol orclass\">or\\xc2\\xa0<a href=\"../../search/index.html@P=CMSC&#32;16200.html\" title=\"CMSC\\xc2\\xa016200\" class=\"bubblelink code\" onclick=\"return showCourse(this, \\'CMSC 16200\\');\">CMSC\\xc2\\xa016200</a></td><td colspan=\"2\"> Honors Introduction to Computer Science II</td></tr>\\n<tr class=\"even lastrow\"><td class=\"codecol\"><a href=\"../../search/index.html@P=CMSC&#32;15400.html\" title=\"CMSC\\xc2\\xa015400\" class=\"bubblelink code\" onclick=\"return showCourse(this, \\'CMSC 15400\\');\">CMSC\\xc2\\xa015400</a></td><td>Introduction to Computer Systems</td><td class=\"hourscol\">100</td></tr>\\n</tbody></table>\\n\\n\\n\\n\\n\\n<p>Students may only receive credit for one introductory programming sequence: <span class=\"sc_courseinline\"><a href=\"../../search/index.html@P=CMSC&#32;10500-10600.html\" title=\"CMSC\\xc2\\xa010500-10600\" class=\"bubblelink seq2code\" onclick=\"return showCourse(this, \\'CMSC 10500-10600\\');\">CMSC\\xc2\\xa010500-10600</a> Fundamentals of Computer Programming I-II</span>, <span class=\"sc_courseinline\"><a href=\"../../search/index.html@P=CMSC&#32;12100-12200.html\" title=\"CMSC\\xc2\\xa012100-12200\" class=\"bubblelink seq2code\" onclick=\"return showCourse(this, \\'CMSC 12100-12200\\');\">CMSC\\xc2\\xa012100-12200</a> Computer Science with Applications I-II</span>, <span class=\"sc_courseinline\"><a href=\"../../search/index.html@P=CMSC&#32;15100-15200.html\" title=\"CMSC\\xc2\\xa015100-15200\" class=\"bubblelink seq2code\" onclick=\"return showCourse(this, \\'CMSC 15100-15200\\');\">CMSC\\xc2\\xa015100-15200</a> Introduction to Computer Science I-II</span>, or <span class=\"sc_courseinline\"><a href=\"../../search/index.html@P=CMSC&#32;16100-16200.html\" title=\"CMSC\\xc2\\xa016100-16200\" class=\"bubblelink seq2code\" onclick=\"return showCourse(this, \\'CMSC 16100-16200\\');\">CMSC\\xc2\\xa016100-16200</a> Honors Introduction to Computer Science I-II</span>. Exceptions must be approved by the department counselor <em>prior to taking the second sequence</em>.</p>\\n\\n\\n\\n\\n\\n<p>2. Programming Languages and Systems Sequence (two courses required):</p>\\n\\n\\n\\n\\n<table class=\"sc_courselist\" width=\"100%\"><colgroup><col class=\"codecol\"/><col class=\"titlecol\"/><col align=\"char\" char=\".\" class=\"hourscol\"/></colgroup><tbody><tr class=\"even firstrow\"><td colspan=\"2\"><span class=\"courselistcomment\">Two of the following:</span></td><td class=\"hourscol\"></td></tr>\\n<tr class=\"odd\"><td class=\"codecol\"><div style=\"margin-left: 20px;\"><a href=\"../../search/index.html@P=CMSC&#32;22100.html\" title=\"CMSC\\xc2\\xa022100\" class=\"bubblelink code\" onclick=\"return showCourse(this, \\'CMSC 22100\\');\">CMSC\\xc2\\xa022100</a></div></td><td>Programming Languages</td><td class=\"hourscol\"></td></tr>\\n<tr class=\"even\"><td class=\"codecol\"><div style=\"margin-left: 20px;\"><a href=\"../../search/index.html@P=CMSC&#32;22200.html\" title=\"CMSC\\xc2\\xa022200\" class=\"bubblelink code\" onclick=\"return showCourse(this, \\'CMSC 22200\\');\">CMSC\\xc2\\xa022200</a></div></td><td>Computer Architecture</td><td class=\"hourscol\"></td></tr>\\n<tr class=\"odd\"><td class=\"codecol\"><div style=\"margin-left: 20px;\"><a href=\"../../search/index.html@P=CMSC&#32;22300.html\" title=\"CMSC\\xc2\\xa022300\" class=\"bubblelink code\" onclick=\"return showCourse(this, \\'CMSC 22300\\');\">CMSC\\xc2\\xa022300</a></div></td><td>Functional Programming</td><td class=\"hourscol\"></td></tr>\\n<tr class=\"even\"><td class=\"codecol\"><div style=\"margin-left: 20px;\"><a href=\"../../search/index.html@P=CMSC&#32;22610.html\" title=\"CMSC\\xc2\\xa022610\" class=\"bubblelink code\" onclick=\"return showCourse(this, \\'CMSC 22610\\');\">CMSC\\xc2\\xa022610</a></div></td><td>Implementation of Computer Languages I</td><td class=\"hourscol\"></td></tr>\\n<tr class=\"odd\"><td class=\"codecol\"><div style=\"margin-left: 20px;\"><a href=\"../../search/index.html@P=CMSC&#32;23000.html\" title=\"CMSC\\xc2\\xa023000\" class=\"bubblelink code\" onclick=\"return showCourse(this, \\'CMSC 23000\\');\">CMSC\\xc2\\xa023000</a></div></td><td>Operating Systems</td><td class=\"hourscol\"></td></tr>\\n<tr class=\"even\"><td class=\"codecol\"><div style=\"margin-left: 20px;\"><a href=\"../../search/index.html@P=CMSC&#32;23200.html\" title=\"CMSC\\xc2\\xa023200\" class=\"bubblelink code\" onclick=\"return showCourse(this, \\'CMSC 23200\\');\">CMSC\\xc2\\xa023200</a></div></td><td>Introduction to Computer Security</td><td class=\"hourscol\"></td></tr>\\n<tr class=\"odd\"><td class=\"codecol\"><div style=\"margin-left: 20px;\"><a href=\"../../search/index.html@P=CMSC&#32;23300.html\" title=\"CMSC\\xc2\\xa023300\" class=\"bubblelink code\" onclick=\"return showCourse(this, \\'CMSC 23300\\');\">CMSC\\xc2\\xa023300</a></div></td><td>Networks and Distributed Systems</td><td class=\"hourscol\"></td></tr>\\n<tr class=\"even\"><td class=\"codecol\"><div style=\"margin-left: 20px;\"><a href=\"../../search/index.html@P=CMSC&#32;23400.html\" title=\"CMSC\\xc2\\xa023400\" class=\"bubblelink code\" onclick=\"return showCourse(this, \\'CMSC 23400\\');\">CMSC\\xc2\\xa023400</a></div></td><td>Mobile Computing</td><td class=\"hourscol\"></td></tr>\\n<tr class=\"odd\"><td class=\"codecol\"><div style=\"margin-left: 20px;\"><a href=\"../../search/index.html@P=CMSC&#32;23500.html\" title=\"CMSC\\xc2\\xa023500\" class=\"bubblelink code\" onclick=\"return showCourse(this, \\'CMSC 23500\\');\">CMSC\\xc2\\xa023500</a></div></td><td>Introduction to Database Systems</td><td class=\"hourscol\"></td></tr>\\n<tr class=\"even\"><td class=\"codecol\"><div style=\"margin-left: 20px;\"><a href=\"../../search/index.html@P=CMSC&#32;23700.html\" title=\"CMSC\\xc2\\xa023700\" class=\"bubblelink code\" onclick=\"return showCourse(this, \\'CMSC 23700\\');\">CMSC\\xc2\\xa023700</a></div></td><td>Introduction to Computer Graphics</td><td class=\"hourscol\"></td></tr>\\n<tr class=\"odd\"><td class=\"codecol\"><div style=\"margin-left: 20px;\"><a href=\"../../search/index.html@P=CMSC&#32;23710.html\" title=\"CMSC\\xc2\\xa023710\" class=\"bubblelink code\" onclick=\"return showCourse(this, \\'CMSC 23710\\');\">CMSC\\xc2\\xa023710</a></div></td><td>Scientific Visualization</td><td class=\"hourscol\"></td></tr>\\n<tr class=\"even lastrow\"><td class=\"codecol\"><div style=\"margin-left: 20px;\"><a href=\"../../search/index.html@P=CMSC&#32;23800.html\" title=\"CMSC\\xc2\\xa023800\" class=\"bubblelink code\" onclick=\"return showCourse(this, \\'CMSC 23800\\');\">CMSC\\xc2\\xa023800</a></div></td><td>Game Construction</td><td class=\"hourscol\"></td></tr>\\n</tbody></table>\\n\\n\\n\\n\\n\\n<p>3. Algorithms and Theory Sequence (three courses required):</p>\\n\\n\\n\\n\\n<table class=\"sc_courselist\" width=\"100%\"><colgroup><col class=\"codecol\"/><col class=\"titlecol\"/><col align=\"char\" char=\".\" class=\"hourscol\"/></colgroup><tbody><tr class=\"even firstrow\"><td colspan=\"2\"><span class=\"courselistcomment\">Three of the following:</span></td><td class=\"hourscol\"></td></tr>\\n<tr class=\"odd\"><td class=\"codecol\"><div style=\"margin-left: 20px;\"><a href=\"../../search/index.html@P=CMSC&#32;27100.html\" title=\"CMSC\\xc2\\xa027100\" class=\"bubblelink code\" onclick=\"return showCourse(this, \\'CMSC 27100\\');\">CMSC\\xc2\\xa027100</a></div></td><td>Discrete Mathematics</td><td class=\"hourscol\"></td></tr>\\n<tr class=\"even\"><td class=\"codecol\"><div style=\"margin-left: 20px;\"><a href=\"../../search/index.html@P=CMSC&#32;27200.html\" title=\"CMSC\\xc2\\xa027200\" class=\"bubblelink code\" onclick=\"return showCourse(this, \\'CMSC 27200\\');\">CMSC\\xc2\\xa027200</a></div></td><td>Theory of Algorithms</td><td class=\"hourscol\"></td></tr>\\n<tr class=\"odd lastrow\"><td class=\"codecol\"><div style=\"margin-left: 20px;\"><a href=\"../../search/index.html@P=CMSC&#32;28000.html\" title=\"CMSC\\xc2\\xa028000\" class=\"bubblelink code\" onclick=\"return showCourse(this, \\'CMSC 28000\\');\">CMSC\\xc2\\xa028000</a></div></td><td>Introduction to Formal Languages</td><td class=\"hourscol\"></td></tr>\\n<tr class=\"orclass odd lastrow\"><td class=\"codecol orclass\"><div style=\"margin-left: 20px;\">or\\xc2\\xa0<a href=\"../../search/index.html@P=CMSC&#32;28100.html\" title=\"CMSC\\xc2\\xa028100\" class=\"bubblelink code\" onclick=\"return showCourse(this, \\'CMSC 28100\\');\">CMSC\\xc2\\xa028100</a></div></td><td colspan=\"2\"> Introduction to Complexity Theory</td></tr>\\n</tbody></table>\\n\\n\\n\\n\\n\\n<p>4. Other Sequences (one two-course sequence required):</p>\\n\\n\\n\\n\\n<table class=\"sc_courselist\" width=\"100%\"><colgroup><col class=\"codecol\"/><col class=\"titlecol\"/><col align=\"char\" char=\".\" class=\"hourscol\"/></colgroup><tbody><tr class=\"even firstrow\"><td colspan=\"2\"><span class=\"courselistcomment\">Artificial Intelligence Sequence (two courses required):</span></td><td class=\"hourscol\"></td></tr>\\n<tr class=\"odd\"><td colspan=\"2\"><span class=\"courselistcomment\">Two of the following:</span></td><td class=\"hourscol\"></td></tr>\\n<tr class=\"even\"><td class=\"codecol\"><div style=\"margin-left: 20px;\"><a href=\"../../search/index.html@P=CMSC&#32;25010.html\" title=\"CMSC\\xc2\\xa025010\" class=\"bubblelink code\" onclick=\"return showCourse(this, \\'CMSC 25010\\');\">CMSC\\xc2\\xa025010</a></div></td><td>Artificial Intelligence</td><td class=\"hourscol\"></td></tr>\\n<tr class=\"odd\"><td class=\"codecol\"><div style=\"margin-left: 20px;\"><a href=\"../../search/index.html@P=CMSC&#32;25020.html\" title=\"CMSC\\xc2\\xa025020\" class=\"bubblelink code\" onclick=\"return showCourse(this, \\'CMSC 25020\\');\">CMSC\\xc2\\xa025020</a></div></td><td>Computational Linguistics</td><td class=\"hourscol\"></td></tr>\\n<tr class=\"even\"><td class=\"codecol\"><div style=\"margin-left: 20px;\"><a href=\"../../search/index.html@P=CMSC&#32;25025.html\" title=\"CMSC\\xc2\\xa025025\" class=\"bubblelink code\" onclick=\"return showCourse(this, \\'CMSC 25025\\');\">CMSC\\xc2\\xa025025</a></div></td><td>Machine Learning and Large-Scale Data Analysis</td><td class=\"hourscol\"></td></tr>\\n<tr class=\"odd\"><td class=\"codecol\"><div style=\"margin-left: 20px;\"><a href=\"../../search/index.html@P=CMSC&#32;25050.html\" title=\"CMSC\\xc2\\xa025050\" class=\"bubblelink code\" onclick=\"return showCourse(this, \\'CMSC 25050\\');\">CMSC\\xc2\\xa025050</a></div></td><td>Computer Vision</td><td class=\"hourscol\"></td></tr>\\n<tr class=\"even\"><td class=\"codecol\"><div style=\"margin-left: 20px;\"><a href=\"../../search/index.html@P=CMSC&#32;25400.html\" title=\"CMSC\\xc2\\xa025400\" class=\"bubblelink code\" onclick=\"return showCourse(this, \\'CMSC 25400\\');\">CMSC\\xc2\\xa025400</a></div></td><td>Machine Learning</td><td class=\"hourscol\"></td></tr>\\n<tr class=\"odd lastrow\"><td class=\"codecol\"><div style=\"margin-left: 20px;\"><a href=\"../../search/index.html@P=CMSC&#32;27600.html\" title=\"CMSC\\xc2\\xa027600\" class=\"bubblelink code\" onclick=\"return showCourse(this, \\'CMSC 27600\\');\">CMSC\\xc2\\xa027600</a></div></td><td>Computational Biology</td><td class=\"hourscol\"></td></tr>\\n</tbody></table>\\n\\n\\n\\n\\n\\n<table class=\"sc_courselist\" width=\"100%\"><colgroup><col class=\"codecol\"/><col class=\"titlecol\"/><col align=\"char\" char=\".\" class=\"hourscol\"/></colgroup><tbody><tr class=\"even firstrow\"><td colspan=\"2\"><span class=\"courselistcomment\">Advanced Systems Sequence (two courses required):</span></td><td class=\"hourscol\"></td></tr>\\n<tr class=\"odd\"><td colspan=\"2\"><span class=\"courselistcomment\">Two of the following:</span> <sup>*</sup></td><td class=\"hourscol\"></td></tr>\\n<tr class=\"even\"><td class=\"codecol\"><div style=\"margin-left: 20px;\"><a href=\"../../search/index.html@P=CMSC&#32;22001.html\" title=\"CMSC\\xc2\\xa022001\" class=\"bubblelink code\" onclick=\"return showCourse(this, \\'CMSC 22001\\');\">CMSC\\xc2\\xa022001</a></div></td><td>Software Construction</td><td class=\"hourscol\"></td></tr>\\n<tr class=\"odd\"><td class=\"codecol\"><div style=\"margin-left: 20px;\"><a href=\"../../search/index.html@P=CMSC&#32;22010.html\" title=\"CMSC\\xc2\\xa022010\" class=\"bubblelink code\" onclick=\"return showCourse(this, \\'CMSC 22010\\');\">CMSC\\xc2\\xa022010</a></div></td><td>Digital Fabrication</td><td class=\"hourscol\"></td></tr>\\n<tr class=\"even\"><td class=\"codecol\"><div style=\"margin-left: 20px;\"><a href=\"../../search/index.html@P=CMSC&#32;22100.html\" title=\"CMSC\\xc2\\xa022100\" class=\"bubblelink code\" onclick=\"return showCourse(this, \\'CMSC 22100\\');\">CMSC\\xc2\\xa022100</a></div></td><td>Programming Languages</td><td class=\"hourscol\"></td></tr>\\n<tr class=\"odd\"><td class=\"codecol\"><div style=\"margin-left: 20px;\"><a href=\"../../search/index.html@P=CMSC&#32;22200.html\" title=\"CMSC\\xc2\\xa022200\" class=\"bubblelink code\" onclick=\"return showCourse(this, \\'CMSC 22200\\');\">CMSC\\xc2\\xa022200</a></div></td><td>Computer Architecture</td><td class=\"hourscol\"></td></tr>\\n<tr class=\"even\"><td class=\"codecol\"><div style=\"margin-left: 20px;\"><a href=\"../../search/index.html@P=CMSC&#32;22300.html\" title=\"CMSC\\xc2\\xa022300\" class=\"bubblelink code\" onclick=\"return showCourse(this, \\'CMSC 22300\\');\">CMSC\\xc2\\xa022300</a></div></td><td>Functional Programming</td><td class=\"hourscol\"></td></tr>\\n<tr class=\"odd\"><td class=\"codecol\"><div style=\"margin-left: 20px;\"><a href=\"../../search/index.html@P=CMSC&#32;22610.html\" title=\"CMSC\\xc2\\xa022610\" class=\"bubblelink code\" onclick=\"return showCourse(this, \\'CMSC 22610\\');\">CMSC\\xc2\\xa022610</a></div></td><td>Implementation of Computer Languages I</td><td class=\"hourscol\"></td></tr>\\n<tr class=\"even\"><td class=\"codecol\"><div style=\"margin-left: 20px;\"><a href=\"../../search/index.html@P=CMSC&#32;22620.html\" title=\"CMSC\\xc2\\xa022620\" class=\"bubblelink code\" onclick=\"return showCourse(this, \\'CMSC 22620\\');\">CMSC\\xc2\\xa022620</a></div></td><td>Implementation of Computer Languages II</td><td class=\"hourscol\"></td></tr>\\n<tr class=\"odd\"><td class=\"codecol\"><div style=\"margin-left: 20px;\"><a href=\"../../search/index.html@P=CMSC&#32;23000.html\" title=\"CMSC\\xc2\\xa023000\" class=\"bubblelink code\" onclick=\"return showCourse(this, \\'CMSC 23000\\');\">CMSC\\xc2\\xa023000</a></div></td><td>Operating Systems</td><td class=\"hourscol\"></td></tr>\\n<tr class=\"even\"><td class=\"codecol\"><div style=\"margin-left: 20px;\"><a href=\"../../search/index.html@P=CMSC&#32;23010.html\" title=\"CMSC\\xc2\\xa023010\" class=\"bubblelink code\" onclick=\"return showCourse(this, \\'CMSC 23010\\');\">CMSC\\xc2\\xa023010</a></div></td><td>Parallel Computing</td><td class=\"hourscol\"></td></tr>\\n<tr class=\"odd\"><td class=\"codecol\"><div style=\"margin-left: 20px;\"><a href=\"../../search/index.html@P=CMSC&#32;23200.html\" title=\"CMSC\\xc2\\xa023200\" class=\"bubblelink code\" onclick=\"return showCourse(this, \\'CMSC 23200\\');\">CMSC\\xc2\\xa023200</a></div></td><td>Introduction to Computer Security</td><td class=\"hourscol\"></td></tr>\\n<tr class=\"even\"><td class=\"codecol\"><div style=\"margin-left: 20px;\"><a href=\"../../search/index.html@P=CMSC&#32;23300.html\" title=\"CMSC\\xc2\\xa023300\" class=\"bubblelink code\" onclick=\"return showCourse(this, \\'CMSC 23300\\');\">CMSC\\xc2\\xa023300</a></div></td><td>Networks and Distributed Systems</td><td class=\"hourscol\"></td></tr>\\n<tr class=\"odd\"><td class=\"codecol\"><div style=\"margin-left: 20px;\"><a href=\"../../search/index.html@P=CMSC&#32;23310.html\" title=\"CMSC\\xc2\\xa023310\" class=\"bubblelink code\" onclick=\"return showCourse(this, \\'CMSC 23310\\');\">CMSC\\xc2\\xa023310</a></div></td><td>Advanced Distributed Systems</td><td class=\"hourscol\"></td></tr>\\n<tr class=\"even\"><td class=\"codecol\"><div style=\"margin-left: 20px;\"><a href=\"../../search/index.html@P=CMSC&#32;23400.html\" title=\"CMSC\\xc2\\xa023400\" class=\"bubblelink code\" onclick=\"return showCourse(this, \\'CMSC 23400\\');\">CMSC\\xc2\\xa023400</a></div></td><td>Mobile Computing</td><td class=\"hourscol\"></td></tr>\\n<tr class=\"odd\"><td class=\"codecol\"><div style=\"margin-left: 20px;\"><a href=\"../../search/index.html@P=CMSC&#32;23500.html\" title=\"CMSC\\xc2\\xa023500\" class=\"bubblelink code\" onclick=\"return showCourse(this, \\'CMSC 23500\\');\">CMSC\\xc2\\xa023500</a></div></td><td>Introduction to Database Systems</td><td class=\"hourscol\"></td></tr>\\n<tr class=\"even\"><td class=\"codecol\"><div style=\"margin-left: 20px;\"><a href=\"../../search/index.html@P=CMSC&#32;23700.html\" title=\"CMSC\\xc2\\xa023700\" class=\"bubblelink code\" onclick=\"return showCourse(this, \\'CMSC 23700\\');\">CMSC\\xc2\\xa023700</a></div></td><td>Introduction to Computer Graphics</td><td class=\"hourscol\"></td></tr>\\n<tr class=\"odd\"><td class=\"codecol\"><div style=\"margin-left: 20px;\"><a href=\"../../search/index.html@P=CMSC&#32;23710.html\" title=\"CMSC\\xc2\\xa023710\" class=\"bubblelink code\" onclick=\"return showCourse(this, \\'CMSC 23710\\');\">CMSC\\xc2\\xa023710</a></div></td><td>Scientific Visualization</td><td class=\"hourscol\"></td></tr>\\n<tr class=\"even lastrow\"><td class=\"codecol\"><div style=\"margin-left: 20px;\"><a href=\"../../search/index.html@P=CMSC&#32;23800.html\" title=\"CMSC\\xc2\\xa023800\" class=\"bubblelink code\" onclick=\"return showCourse(this, \\'CMSC 23800\\');\">CMSC\\xc2\\xa023800</a></div></td><td>Game Construction</td><td class=\"hourscol\"></td></tr>\\n</tbody></table>\\n\\n\\n\\n\\n\\n<table class=\"sc_courselist\" width=\"100%\"><colgroup><col class=\"codecol\"/><col class=\"titlecol\"/><col align=\"char\" char=\".\" class=\"hourscol\"/></colgroup><tbody><tr class=\"even firstrow\"><td colspan=\"2\"><span class=\"courselistcomment\">Scientific Computing Sequence (two courses required):</span></td><td class=\"hourscol\"></td></tr>\\n<tr class=\"odd\"><td colspan=\"2\"><span class=\"courselistcomment\">Two of the following:</span></td><td class=\"hourscol\"></td></tr>\\n<tr class=\"even\"><td class=\"codecol\"><div style=\"margin-left: 20px;\"><a href=\"../../search/index.html@P=CMSC&#32;23710.html\" title=\"CMSC\\xc2\\xa023710\" class=\"bubblelink code\" onclick=\"return showCourse(this, \\'CMSC 23710\\');\">CMSC\\xc2\\xa023710</a></div></td><td>Scientific Visualization</td><td class=\"hourscol\"></td></tr>\\n<tr class=\"odd\"><td class=\"codecol\"><div style=\"margin-left: 20px;\"><a href=\"../../search/index.html@P=CMSC&#32;27610.html\" title=\"CMSC\\xc2\\xa027610\" class=\"bubblelink code\" onclick=\"return showCourse(this, \\'CMSC 27610\\');\">CMSC\\xc2\\xa027610</a></div></td><td>Digital Biology</td><td class=\"hourscol\"></td></tr>\\n<tr class=\"even lastrow\"><td class=\"codecol\"><div style=\"margin-left: 20px;\"><a href=\"../../search/index.html@P=CMSC&#32;28510.html\" title=\"CMSC\\xc2\\xa028510\" class=\"bubblelink code\" onclick=\"return showCourse(this, \\'CMSC 28510\\');\">CMSC\\xc2\\xa028510</a></div></td><td>Introduction to Scientific Computing</td><td class=\"hourscol\"></td></tr>\\n</tbody></table>\\n\\n\\n\\n\\n\\n<p>5. Electives (four courses required):</p>\\n\\n\\n\\n\\n<p>Four additional elective Computer Science courses numbered 20000 or above. A BS student with a double major in a related area may petition to have some of the electives be courses in the other major.</p>\\n\\n\\n\\n\\n<table border=\"0\" width=\"100%\" class=\"sc_footnotes\"><tr><td valign=\"top\" class=\"symcol\">*</td><td class=\"notecol\"><p>depending upon what courses the student has taken in the Programming Languages and Systems Sequence (courses may not be used to meet both requirements)</p></td></tr></table>\\n\\n\\n\\n\\n<a name=\"summaryofrequirements\"></a>\\n<h3>Summary of Requirements</h3>\\n\\n\\n\\n\\n<table class=\"sc_courselist\" width=\"100%\"><colgroup><col class=\"codecol\"/><col class=\"titlecol\"/><col align=\"char\" char=\".\" class=\"hourscol\"/></colgroup><tbody><tr class=\"even firstrow\"><td colspan=\"2\"><span class=\"courselistcomment\">GENERAL EDUCATION</span></td><td class=\"hourscol\"></td></tr>\\n<tr class=\"odd\"><td colspan=\"2\"><span class=\"courselistcomment\">One of the following sequences:</span></td><td class=\"hourscol\">200</td></tr>\\n<tr class=\"even\"><td class=\"codecol\"><div style=\"margin-left: 20px;\"><a href=\"../../search/index.html@P=CHEM&#32;10100.html\" title=\"CHEM\\xc2\\xa010100\" class=\"bubblelink code\" onclick=\"return showCourse(this, \\'CHEM 10100\\');\">CHEM\\xc2\\xa010100</a><br/> \\xc2\\xa0\\xc2\\xa0&amp;\\xc2\\xa0<a href=\"../../search/index.html@P=CHEM&#32;10200.html\" title=\"CHEM\\xc2\\xa010200\" class=\"bubblelink code\" onclick=\"return showCourse(this, \\'CHEM 10200\\');\">\\xc2\\xa010200</a></div></td><td>Introductory General Chemistry I<br/>\\xc2\\xa0\\xc2\\xa0 and Introductory General Chemistry II (or higher or equivalent) <sup>*</sup></td><td class=\"hourscol\"></td></tr>\\n<tr class=\"odd\"><td class=\"codecol\"><div style=\"margin-left: 20px;\"><a href=\"../../search/index.html@P=PHYS&#32;12100-12200.html\" title=\"PHYS\\xc2\\xa012100-12200\" class=\"bubblelink seq2code\" onclick=\"return showCourse(this, \\'PHYS 12100-12200\\');\">PHYS\\xc2\\xa012100-12200</a></div></td><td>General Physics I-II (or higher) <sup>*</sup></td><td class=\"hourscol\"></td></tr>\\n<tr class=\"even lastrow\"><td class=\"codecol\"><a href=\"../../search/index.html@P=MATH&#32;13100-13200.html\" title=\"MATH\\xc2\\xa013100-13200\" class=\"bubblelink seq2code\" onclick=\"return showCourse(this, \\'MATH 13100-13200\\');\">MATH\\xc2\\xa013100-13200</a></td><td>Elementary Functions and Calculus I-II (or higher) <sup>*</sup></td><td class=\"hourscol\">200</td></tr>\\n<tr class=\"listsum\"><td colspan=\"2\">Total Units</td><td class=\"hourscol\">400</td></tr></tbody></table>\\n\\n\\n\\n\\n\\n<table border=\"0\" width=\"100%\" class=\"sc_footnotes\"><tr><td valign=\"top\" class=\"symcol\">*</td><td class=\"notecol\"><p>Credit may be granted by examination.</p></td></tr></table>\\n\\n\\n\\n\\n<table class=\"sc_courselist\" width=\"100%\"><colgroup><col class=\"codecol\"/><col class=\"titlecol\"/><col align=\"char\" char=\".\" class=\"hourscol\"/></colgroup><tbody><tr class=\"even firstrow\"><td colspan=\"2\"><span class=\"courselistcomment\">MAJOR</span></td><td class=\"hourscol\"></td></tr>\\n<tr class=\"odd\"><td colspan=\"2\"><span class=\"courselistcomment\">Introductory Sequence:</span></td><td class=\"hourscol\">300</td></tr>\\n<tr class=\"even\"><td class=\"codecol\"><div style=\"margin-left: 20px;\"><a href=\"../../search/index.html@P=CMSC&#32;15100.html\" title=\"CMSC\\xc2\\xa015100\" class=\"bubblelink code\" onclick=\"return showCourse(this, \\'CMSC 15100\\');\">CMSC\\xc2\\xa015100</a></div></td><td>Introduction to Computer Science I</td><td class=\"hourscol\"></td></tr>\\n<tr class=\"orclass even\"><td class=\"codecol orclass\"><div style=\"margin-left: 20px;\">or\\xc2\\xa0<a href=\"../../search/index.html@P=CMSC&#32;16100.html\" title=\"CMSC\\xc2\\xa016100\" class=\"bubblelink code\" onclick=\"return showCourse(this, \\'CMSC 16100\\');\">CMSC\\xc2\\xa016100</a></div></td><td colspan=\"2\"> Honors Introduction to Computer Science I</td></tr>\\n<tr class=\"odd\"><td class=\"codecol\"><div style=\"margin-left: 20px;\"><a href=\"../../search/index.html@P=CMSC&#32;15200.html\" title=\"CMSC\\xc2\\xa015200\" class=\"bubblelink code\" onclick=\"return showCourse(this, \\'CMSC 15200\\');\">CMSC\\xc2\\xa015200</a></div></td><td>Introduction to Computer Science II</td><td class=\"hourscol\"></td></tr>\\n<tr class=\"orclass odd\"><td class=\"codecol orclass\"><div style=\"margin-left: 20px;\">or\\xc2\\xa0<a href=\"../../search/index.html@P=CMSC&#32;16200.html\" title=\"CMSC\\xc2\\xa016200\" class=\"bubblelink code\" onclick=\"return showCourse(this, \\'CMSC 16200\\');\">CMSC\\xc2\\xa016200</a></div></td><td colspan=\"2\"> Honors Introduction to Computer Science II</td></tr>\\n<tr class=\"even\"><td class=\"codecol\"><div style=\"margin-left: 20px;\"><a href=\"../../search/index.html@P=CMSC&#32;15400.html\" title=\"CMSC\\xc2\\xa015400\" class=\"bubblelink code\" onclick=\"return showCourse(this, \\'CMSC 15400\\');\">CMSC\\xc2\\xa015400</a></div></td><td>Introduction to Computer Systems</td><td class=\"hourscol\"></td></tr>\\n<tr class=\"odd\"><td colspan=\"2\"><span class=\"courselistcomment\">Programming Languages and Systems Sequence (two of the following):</span></td><td class=\"hourscol\">200</td></tr>\\n<tr class=\"even\"><td class=\"codecol\"><div style=\"margin-left: 20px;\"><a href=\"../../search/index.html@P=CMSC&#32;22100.html\" title=\"CMSC\\xc2\\xa022100\" class=\"bubblelink code\" onclick=\"return showCourse(this, \\'CMSC 22100\\');\">CMSC\\xc2\\xa022100</a></div></td><td>Programming Languages</td><td class=\"hourscol\"></td></tr>\\n<tr class=\"odd\"><td class=\"codecol\"><div style=\"margin-left: 20px;\"><a href=\"../../search/index.html@P=CMSC&#32;22200.html\" title=\"CMSC\\xc2\\xa022200\" class=\"bubblelink code\" onclick=\"return showCourse(this, \\'CMSC 22200\\');\">CMSC\\xc2\\xa022200</a></div></td><td>Computer Architecture</td><td class=\"hourscol\"></td></tr>\\n<tr class=\"even\"><td class=\"codecol\"><div style=\"margin-left: 20px;\"><a href=\"../../search/index.html@P=CMSC&#32;22300.html\" title=\"CMSC\\xc2\\xa022300\" class=\"bubblelink code\" onclick=\"return showCourse(this, \\'CMSC 22300\\');\">CMSC\\xc2\\xa022300</a></div></td><td>Functional Programming</td><td class=\"hourscol\"></td></tr>\\n<tr class=\"odd\"><td class=\"codecol\"><div style=\"margin-left: 20px;\"><a href=\"../../search/index.html@P=CMSC&#32;22610.html\" title=\"CMSC\\xc2\\xa022610\" class=\"bubblelink code\" onclick=\"return showCourse(this, \\'CMSC 22610\\');\">CMSC\\xc2\\xa022610</a></div></td><td>Implementation of Computer Languages I</td><td class=\"hourscol\"></td></tr>\\n<tr class=\"even\"><td class=\"codecol\"><div style=\"margin-left: 20px;\"><a href=\"../../search/index.html@P=CMSC&#32;23000.html\" title=\"CMSC\\xc2\\xa023000\" class=\"bubblelink code\" onclick=\"return showCourse(this, \\'CMSC 23000\\');\">CMSC\\xc2\\xa023000</a></div></td><td>Operating Systems</td><td class=\"hourscol\"></td></tr>\\n<tr class=\"odd\"><td class=\"codecol\"><div style=\"margin-left: 20px;\"><a href=\"../../search/index.html@P=CMSC&#32;23200.html\" title=\"CMSC\\xc2\\xa023200\" class=\"bubblelink code\" onclick=\"return showCourse(this, \\'CMSC 23200\\');\">CMSC\\xc2\\xa023200</a></div></td><td>Introduction to Computer Security</td><td class=\"hourscol\"></td></tr>\\n<tr class=\"even\"><td class=\"codecol\"><div style=\"margin-left: 20px;\"><a href=\"../../search/index.html@P=CMSC&#32;23300.html\" title=\"CMSC\\xc2\\xa023300\" class=\"bubblelink code\" onclick=\"return showCourse(this, \\'CMSC 23300\\');\">CMSC\\xc2\\xa023300</a></div></td><td>Networks and Distributed Systems</td><td class=\"hourscol\"></td></tr>\\n<tr class=\"odd\"><td class=\"codecol\"><div style=\"margin-left: 20px;\"><a href=\"../../search/index.html@P=CMSC&#32;23400.html\" title=\"CMSC\\xc2\\xa023400\" class=\"bubblelink code\" onclick=\"return showCourse(this, \\'CMSC 23400\\');\">CMSC\\xc2\\xa023400</a></div></td><td>Mobile Computing</td><td class=\"hourscol\"></td></tr>\\n<tr class=\"even\"><td class=\"codecol\"><div style=\"margin-left: 20px;\"><a href=\"../../search/index.html@P=CMSC&#32;23500.html\" title=\"CMSC\\xc2\\xa023500\" class=\"bubblelink code\" onclick=\"return showCourse(this, \\'CMSC 23500\\');\">CMSC\\xc2\\xa023500</a></div></td><td>Introduction to Database Systems</td><td class=\"hourscol\"></td></tr>\\n<tr class=\"odd\"><td class=\"codecol\"><div style=\"margin-left: 20px;\"><a href=\"../../search/index.html@P=CMSC&#32;23700.html\" title=\"CMSC\\xc2\\xa023700\" class=\"bubblelink code\" onclick=\"return showCourse(this, \\'CMSC 23700\\');\">CMSC\\xc2\\xa023700</a></div></td><td>Introduction to Computer Graphics</td><td class=\"hourscol\"></td></tr>\\n<tr class=\"even\"><td class=\"codecol\"><div style=\"margin-left: 20px;\"><a href=\"../../search/index.html@P=CMSC&#32;23710.html\" title=\"CMSC\\xc2\\xa023710\" class=\"bubblelink code\" onclick=\"return showCourse(this, \\'CMSC 23710\\');\">CMSC\\xc2\\xa023710</a></div></td><td>Scientific Visualization</td><td class=\"hourscol\"></td></tr>\\n<tr class=\"odd\"><td class=\"codecol\"><div style=\"margin-left: 20px;\"><a href=\"../../search/index.html@P=CMSC&#32;23800.html\" title=\"CMSC\\xc2\\xa023800\" class=\"bubblelink code\" onclick=\"return showCourse(this, \\'CMSC 23800\\');\">CMSC\\xc2\\xa023800</a></div></td><td>Game Construction</td><td class=\"hourscol\"></td></tr>\\n<tr class=\"even\"><td colspan=\"2\"><span class=\"courselistcomment\">Algorithms and Theory Sequence:</span></td><td class=\"hourscol\">300</td></tr>\\n<tr class=\"odd\"><td class=\"codecol\"><div style=\"margin-left: 20px;\"><a href=\"../../search/index.html@P=CMSC&#32;27100.html\" title=\"CMSC\\xc2\\xa027100\" class=\"bubblelink code\" onclick=\"return showCourse(this, \\'CMSC 27100\\');\">CMSC\\xc2\\xa027100</a></div></td><td>Discrete Mathematics</td><td class=\"hourscol\"></td></tr>\\n<tr class=\"even\"><td class=\"codecol\"><div style=\"margin-left: 20px;\"><a href=\"../../search/index.html@P=CMSC&#32;27200.html\" title=\"CMSC\\xc2\\xa027200\" class=\"bubblelink code\" onclick=\"return showCourse(this, \\'CMSC 27200\\');\">CMSC\\xc2\\xa027200</a></div></td><td>Theory of Algorithms</td><td class=\"hourscol\"></td></tr>\\n<tr class=\"odd\"><td class=\"codecol\"><div style=\"margin-left: 20px;\"><a href=\"../../search/index.html@P=CMSC&#32;28000.html\" title=\"CMSC\\xc2\\xa028000\" class=\"bubblelink code\" onclick=\"return showCourse(this, \\'CMSC 28000\\');\">CMSC\\xc2\\xa028000</a></div></td><td>Introduction to Formal Languages</td><td class=\"hourscol\"></td></tr>\\n<tr class=\"orclass odd\"><td class=\"codecol orclass\"><div style=\"margin-left: 20px;\">or\\xc2\\xa0<a href=\"../../search/index.html@P=CMSC&#32;28100.html\" title=\"CMSC\\xc2\\xa028100\" class=\"bubblelink code\" onclick=\"return showCourse(this, \\'CMSC 28100\\');\">CMSC\\xc2\\xa028100</a></div></td><td colspan=\"2\"> Introduction to Complexity Theory</td></tr>\\n<tr class=\"even\"><td colspan=\"2\"><span class=\"courselistcomment\">Two courses from an approved sequence</span></td><td class=\"hourscol\">200</td></tr>\\n<tr class=\"odd\"><td colspan=\"2\"><span class=\"courselistcomment\">Four electives numbered CMSC 20000 or above</span></td><td class=\"hourscol\">400</td></tr>\\n<tr class=\"even\"><td colspan=\"2\"><span class=\"courselistcomment\">Plus the following requirements:</span></td><td class=\"hourscol\">0-300</td></tr>\\n<tr class=\"odd\"><td colspan=\"2\"><div style=\"margin-left: 20px;\"><span class=\"courselistcomment commentindent\">BA (no other courses required)</span></div></td><td class=\"hourscol\"></td></tr>\\n<tr class=\"even lastrow\"><td colspan=\"2\"><div style=\"margin-left: 20px;\"><span class=\"courselistcomment commentindent\">BS (3 courses in an approved program in a related field)</span></div></td><td class=\"hourscol\"></td></tr>\\n<tr class=\"listsum\"><td colspan=\"2\">Total Units</td><td class=\"hourscol\">1400-1700</td></tr></tbody></table>\\n\\n\\n\\n\\n\\n<a name=\"spangradingspan\"></a>\\n<h3><span>Grading</span></h3>\\n\\n\\n\\n\\n<p>Computer science majors must take courses in the major for quality grades. A grade of <em>C-</em> or higher must be received in each course in the major. Any 20000-level computer science course taken as an elective beyond requirements for the major may, with consent of instructor, be taken for <em>P/F</em> grading.</p>\\n\\n\\n\\n\\n<p>Non-majors may take courses for either quality grades or, subject to College regulations and with consent of instructor, for <em>P/F</em> grading. A Pass grade is given only for work of <em>C-</em> quality or higher. Courses taken to meet general education requirements must be taken for quality grades.</p>\\n\\n\\n\\n\\n<p>Incompletes are typically given in the Department of Computer Science only to students who have done at least 60 percent of the course\\'s work of a passing quality and who are unable to complete all course work by the end of the quarter. Other restrictions on Incompletes are the province of individual instructors, many of whom do not permit Incompletes. To receive an Incomplete, students must make arrangements in advance with the instructor; a consent form to be signed by the instructor is available from the College adviser.</p>\\n\\n\\n\\n\\n<a name=\"honors\"></a>\\n<h3>Honors</h3>\\n\\n\\n\\n\\n<p>Students may earn a BA or BS degree with honors by attaining a grade of <em>B</em> or higher in all courses in the major and a grade of B or higher in three approved graduate computer science courses (30000-level and above). These courses may be courses taken for the major or as electives.</p>\\n\\n\\n\\n\\n<p>Students may also earn a BA or BS degree with honors by attaining the same minimum <em>B</em> grade in all courses in the major and by writing a successful bachelor\\'s thesis as part of <span class=\"sc_courseinline\"><a href=\"../../search/index.html@P=CMSC&#32;29900.html\" title=\"CMSC\\xc2\\xa029900\" class=\"bubblelink code\" onclick=\"return showCourse(this, \\'CMSC 29900\\');\">CMSC\\xc2\\xa029900</a> Bachelor\\'s Thesis</span>. This thesis must be based on an approved research project that is directed by a faculty member and approved by the department counselor.</p>\\n\\n\\n\\n\\n\\n<a name=\"recommendedsequencesincomputerscience\"></a>\\n<h3>Recommended Sequences in Computer Science</h3>\\n\\n\\n\\n\\n<h4>Introductory Sequences</h4>\\n\\n\\n\\n\\n<p>The Department of Computer Science offers many different introductory pathways into the program. In consultation with their College adviser and the Computer Science Department advisers, students should choose their introductory courses carefully. Some guidelines follow.</p>\\n\\n\\n\\n\\n<ul>\\n\\t<li>Students interested in a technical introduction to computer science, without assuming prior experience or unusually strong preparation in mathematics, are encouraged to take\\xc2\\xa0<span class=\"sc_courseinline\"><a href=\"../../search/index.html@P=CMSC&#32;15100-15200.html\" title=\"CMSC\\xc2\\xa015100-15200\" class=\"bubblelink seq2code\" onclick=\"return showCourse(this, \\'CMSC 15100-15200\\');\">CMSC\\xc2\\xa015100-15200</a> Introduction to Computer Science I-II</span>.</li>\\n\\n\\t<li>Students with a strong mathematics background should consider\\xc2\\xa0<span class=\"sc_courseinline\"><a href=\"../../search/index.html@P=CMSC&#32;16100-16200.html\" title=\"CMSC\\xc2\\xa016100-16200\" class=\"bubblelink seq2code\" onclick=\"return showCourse(this, \\'CMSC 16100-16200\\');\">CMSC\\xc2\\xa016100-16200</a> Honors Introduction to Computer Science I-II</span>.</li>\\n\\n\\t<li>Students majoring in quantitative fields other than computer science, including other sciences, mathematics, and economics, should consider <span class=\"sc_courseinline\"><a href=\"../../search/index.html@P=CMSC&#32;12100-12200.html\" title=\"CMSC\\xc2\\xa012100-12200\" class=\"bubblelink seq2code\" onclick=\"return showCourse(this, \\'CMSC 12100-12200\\');\">CMSC\\xc2\\xa012100-12200</a> Computer Science with Applications I-II</span>, possibly followed by\\xc2\\xa0<span class=\"sc_courseinline\"><a href=\"../../search/index.html@P=CMSC&#32;12300.html\" title=\"CMSC\\xc2\\xa012300\" class=\"bubblelink code\" onclick=\"return showCourse(this, \\'CMSC 12300\\');\">CMSC\\xc2\\xa012300</a> Computer Science with Applications III</span>.</li>\\n\\n\\t<li>Students in the humanities (or others with a humanistic background) and social sciences may consider\\xc2\\xa0<span class=\"sc_courseinline\"><a href=\"../../search/index.html@P=CMSC&#32;11000.html\" title=\"CMSC\\xc2\\xa011000\" class=\"bubblelink code\" onclick=\"return showCourse(this, \\'CMSC 11000\\');\">CMSC\\xc2\\xa011000</a> Multimedia Programming as an Interdisciplinary Art I</span>.</li>\\n\\n\\t<li>Students interested in two quarters of study altogether should consider\\xc2\\xa0<span class=\"sc_courseinline\"><a href=\"../../search/index.html@P=CMSC&#32;10500-10600.html\" title=\"CMSC\\xc2\\xa010500-10600\" class=\"bubblelink seq2code\" onclick=\"return showCourse(this, \\'CMSC 10500-10600\\');\">CMSC\\xc2\\xa010500-10600</a> Fundamentals of Computer Programming I-II</span> or <span class=\"sc_courseinline\"><a href=\"../../search/index.html@P=CMSC&#32;12100-12200.html\" title=\"CMSC\\xc2\\xa012100-12200\" class=\"bubblelink seq2code\" onclick=\"return showCourse(this, \\'CMSC 12100-12200\\');\">CMSC\\xc2\\xa012100-12200</a> Computer Science with Applications I-II</span>. We recommend\\xc2\\xa0<span class=\"sc_courseinline\"><a href=\"../../search/index.html@P=CMSC&#32;15100.html\" title=\"CMSC\\xc2\\xa015100\" class=\"bubblelink code\" onclick=\"return showCourse(this, \\'CMSC 15100\\');\">CMSC\\xc2\\xa015100</a> Introduction to Computer Science I</span> or <span class=\"sc_courseinline\"><a href=\"../../search/index.html@P=CMSC&#32;16100.html\" title=\"CMSC\\xc2\\xa016100\" class=\"bubblelink code\" onclick=\"return showCourse(this, \\'CMSC 16100\\');\">CMSC\\xc2\\xa016100</a> Honors Introduction to Computer Science I</span>\\xc2\\xa0as the first course to students intent from the outset on advanced study.</li>\\n\\n\\t<li>Students who are interested in web design should take\\xc2\\xa0<span class=\"sc_courseinline\"><a href=\"../../search/index.html@P=CMSC&#32;10100.html\" title=\"CMSC\\xc2\\xa010100\" class=\"bubblelink code\" onclick=\"return showCourse(this, \\'CMSC 10100\\');\">CMSC\\xc2\\xa010100</a> Introduction to Programming for the World Wide Web I</span>.</li>\\n\\n\\t<li>Students may only receive credit for one introductory programming sequence: <span class=\"sc_courseinline\"><a href=\"../../search/index.html@P=CMSC&#32;10500-10600.html\" title=\"CMSC\\xc2\\xa010500-10600\" class=\"bubblelink seq2code\" onclick=\"return showCourse(this, \\'CMSC 10500-10600\\');\">CMSC\\xc2\\xa010500-10600</a> Fundamentals of Computer Programming I-II</span>, <span class=\"sc_courseinline\"><a href=\"../../search/index.html@P=CMSC&#32;12100-12200.html\" title=\"CMSC\\xc2\\xa012100-12200\" class=\"bubblelink seq2code\" onclick=\"return showCourse(this, \\'CMSC 12100-12200\\');\">CMSC\\xc2\\xa012100-12200</a> Computer Science with Applications I-II</span>, <span class=\"sc_courseinline\"><a href=\"../../search/index.html@P=CMSC&#32;15100-15200.html\" title=\"CMSC\\xc2\\xa015100-15200\" class=\"bubblelink seq2code\" onclick=\"return showCourse(this, \\'CMSC 15100-15200\\');\">CMSC\\xc2\\xa015100-15200</a> Introduction to Computer Science I-II</span>, or <span class=\"sc_courseinline\"><a href=\"../../search/index.html@P=CMSC&#32;16100-16200.html\" title=\"CMSC\\xc2\\xa016100-16200\" class=\"bubblelink seq2code\" onclick=\"return showCourse(this, \\'CMSC 16100-16200\\');\">CMSC\\xc2\\xa016100-16200</a> Honors Introduction to Computer Science I-II</span>. Exceptions must be approved by the department counselor <em>prior to taking the second sequence</em>.</li>\\n\\n\\t<li>Students who have credit for any of the following courses (or equivalent) may not take <span class=\"sc_courseinline\"><a href=\"../../search/index.html@P=CMSC&#32;10200.html\" title=\"CMSC\\xc2\\xa010200\" class=\"bubblelink code\" onclick=\"return showCourse(this, \\'CMSC 10200\\');\">CMSC\\xc2\\xa010200</a> Introduction to Programming for the World Wide Web II</span> for credit: <span class=\"sc_courseinline\"><a href=\"../../search/index.html@P=CMSC&#32;10600.html\" title=\"CMSC\\xc2\\xa010600\" class=\"bubblelink code\" onclick=\"return showCourse(this, \\'CMSC 10600\\');\">CMSC\\xc2\\xa010600</a> Fundamentals of Computer Programming II</span>, <span class=\"sc_courseinline\"><a href=\"../../search/index.html@P=CMSC&#32;12100.html\" title=\"CMSC\\xc2\\xa012100\" class=\"bubblelink code\" onclick=\"return showCourse(this, \\'CMSC 12100\\');\">CMSC\\xc2\\xa012100</a> Computer Science with Applications I</span>, <span class=\"sc_courseinline\"><a href=\"../../search/index.html@P=CMSC&#32;15200.html\" title=\"CMSC\\xc2\\xa015200\" class=\"bubblelink code\" onclick=\"return showCourse(this, \\'CMSC 15200\\');\">CMSC\\xc2\\xa015200</a> Introduction to Computer Science II</span>, or <span class=\"sc_courseinline\"><a href=\"../../search/index.html@P=CMSC&#32;16200.html\" title=\"CMSC\\xc2\\xa016200\" class=\"bubblelink code\" onclick=\"return showCourse(this, \\'CMSC 16200\\');\">CMSC\\xc2\\xa016200</a> Honors Introduction to Computer Science II</span>.</li>\\n\\n</ul>\\n\\n\\n\\n\\n\\n<h4>Courses in Specific Areas of Computer Science</h4>\\n\\n\\n\\n\\n<ul>\\n\\t<li>Students interested in artificial intelligence (AI) should take any of the elective AI courses numbered 25000-25400.</li>\\n\\t<li>Students interested in advanced programming and systems should take:\\n\\t\\n<table class=\"sc_courselist\" width=\"100%\"><colgroup><col class=\"codecol\"/><col class=\"titlecol\"/><col align=\"char\" char=\".\" class=\"hourscol\"/></colgroup><tbody><tr class=\"even firstrow\"><td class=\"codecol\"><a href=\"../../search/index.html@P=CMSC&#32;22100.html\" title=\"CMSC\\xc2\\xa022100\" class=\"bubblelink code\" onclick=\"return showCourse(this, \\'CMSC 22100\\');\">CMSC\\xc2\\xa022100</a></td><td>Programming Languages</td><td class=\"hourscol\">100</td></tr>\\n<tr class=\"odd\"><td class=\"codecol\"><a href=\"../../search/index.html@P=CMSC&#32;22200.html\" title=\"CMSC\\xc2\\xa022200\" class=\"bubblelink code\" onclick=\"return showCourse(this, \\'CMSC 22200\\');\">CMSC\\xc2\\xa022200</a></td><td>Computer Architecture</td><td class=\"hourscol\">100</td></tr>\\n<tr class=\"even\"><td colspan=\"2\"><span class=\"courselistcomment\">Time permitting, they should also take advanced programming topics including but not limited to the following:</span></td><td class=\"hourscol\"></td></tr>\\n<tr class=\"odd\"><td class=\"codecol\"><a href=\"../../search/index.html@P=CMSC&#32;22610.html\" title=\"CMSC\\xc2\\xa022610\" class=\"bubblelink code\" onclick=\"return showCourse(this, \\'CMSC 22610\\');\">CMSC\\xc2\\xa022610</a><br/> \\xc2\\xa0\\xc2\\xa0&amp;\\xc2\\xa0<a href=\"../../search/index.html@P=CMSC&#32;22620.html\" title=\"CMSC\\xc2\\xa022620\" class=\"bubblelink code\" onclick=\"return showCourse(this, \\'CMSC 22620\\');\">\\xc2\\xa022620</a></td><td>Implementation of Computer Languages I<br/>\\xc2\\xa0\\xc2\\xa0 and Implementation of Computer Languages II</td><td class=\"hourscol\">200</td></tr>\\n<tr class=\"even\"><td class=\"codecol\"><a href=\"../../search/index.html@P=CMSC&#32;23000.html\" title=\"CMSC\\xc2\\xa023000\" class=\"bubblelink code\" onclick=\"return showCourse(this, \\'CMSC 23000\\');\">CMSC\\xc2\\xa023000</a></td><td>Operating Systems</td><td class=\"hourscol\">100</td></tr>\\n<tr class=\"odd\"><td class=\"codecol\"><a href=\"../../search/index.html@P=CMSC&#32;23010.html\" title=\"CMSC\\xc2\\xa023010\" class=\"bubblelink code\" onclick=\"return showCourse(this, \\'CMSC 23010\\');\">CMSC\\xc2\\xa023010</a></td><td>Parallel Computing</td><td class=\"hourscol\">100</td></tr>\\n<tr class=\"even\"><td class=\"codecol\"><a href=\"../../search/index.html@P=CMSC&#32;23300.html\" title=\"CMSC\\xc2\\xa023300\" class=\"bubblelink code\" onclick=\"return showCourse(this, \\'CMSC 23300\\');\">CMSC\\xc2\\xa023300</a></td><td>Networks and Distributed Systems</td><td class=\"hourscol\">100</td></tr>\\n<tr class=\"odd\"><td class=\"codecol\"><a href=\"../../search/index.html@P=CMSC&#32;23400.html\" title=\"CMSC\\xc2\\xa023400\" class=\"bubblelink code\" onclick=\"return showCourse(this, \\'CMSC 23400\\');\">CMSC\\xc2\\xa023400</a></td><td>Mobile Computing</td><td class=\"hourscol\">100</td></tr>\\n<tr class=\"even\"><td class=\"codecol\"><a href=\"../../search/index.html@P=CMSC&#32;23500.html\" title=\"CMSC\\xc2\\xa023500\" class=\"bubblelink code\" onclick=\"return showCourse(this, \\'CMSC 23500\\');\">CMSC\\xc2\\xa023500</a></td><td>Introduction to Database Systems</td><td class=\"hourscol\">100</td></tr>\\n<tr class=\"odd\"><td class=\"codecol\"><a href=\"../../search/index.html@P=CMSC&#32;23700.html\" title=\"CMSC\\xc2\\xa023700\" class=\"bubblelink code\" onclick=\"return showCourse(this, \\'CMSC 23700\\');\">CMSC\\xc2\\xa023700</a></td><td>Introduction to Computer Graphics</td><td class=\"hourscol\">100</td></tr>\\n<tr class=\"even\"><td class=\"codecol\"><a href=\"../../search/index.html@P=CMSC&#32;23710.html\" title=\"CMSC\\xc2\\xa023710\" class=\"bubblelink code\" onclick=\"return showCourse(this, \\'CMSC 23710\\');\">CMSC\\xc2\\xa023710</a></td><td>Scientific Visualization</td><td class=\"hourscol\">100</td></tr>\\n<tr class=\"odd\"><td class=\"codecol\"><a href=\"../../search/index.html@P=CMSC&#32;23800.html\" title=\"CMSC\\xc2\\xa023800\" class=\"bubblelink code\" onclick=\"return showCourse(this, \\'CMSC 23800\\');\">CMSC\\xc2\\xa023800</a></td><td>Game Construction</td><td class=\"hourscol\">100</td></tr>\\n<tr class=\"even lastrow\"><td colspan=\"2\"><span class=\"courselistcomment\">and such courses in advanced  programming topics as may be offered</span></td><td class=\"hourscol\"></td></tr>\\n</tbody></table>\\n\\n\\t</li>\\n\\n\\t<li>Students interested in theoretical computer science should take:\\n\\t\\n<table class=\"sc_courselist\" width=\"100%\"><colgroup><col class=\"codecol\"/><col class=\"titlecol\"/><col align=\"char\" char=\".\" class=\"hourscol\"/></colgroup><tbody><tr class=\"even firstrow\"><td class=\"codecol\"><a href=\"../../search/index.html@P=CMSC&#32;27100.html\" title=\"CMSC\\xc2\\xa027100\" class=\"bubblelink code\" onclick=\"return showCourse(this, \\'CMSC 27100\\');\">CMSC\\xc2\\xa027100</a></td><td>Discrete Mathematics</td><td class=\"hourscol\">100</td></tr>\\n<tr class=\"odd\"><td class=\"codecol\"><a href=\"../../search/index.html@P=CMSC&#32;27200.html\" title=\"CMSC\\xc2\\xa027200\" class=\"bubblelink code\" onclick=\"return showCourse(this, \\'CMSC 27200\\');\">CMSC\\xc2\\xa027200</a></td><td>Theory of Algorithms</td><td class=\"hourscol\">100</td></tr>\\n<tr class=\"even\"><td class=\"codecol\"><a href=\"../../search/index.html@P=CMSC&#32;28000.html\" title=\"CMSC\\xc2\\xa028000\" class=\"bubblelink code\" onclick=\"return showCourse(this, \\'CMSC 28000\\');\">CMSC\\xc2\\xa028000</a></td><td>Introduction to Formal Languages</td><td class=\"hourscol\">100</td></tr>\\n<tr class=\"odd lastrow\"><td class=\"codecol\"><a href=\"../../search/index.html@P=CMSC&#32;28100.html\" title=\"CMSC\\xc2\\xa028100\" class=\"bubblelink code\" onclick=\"return showCourse(this, \\'CMSC 28100\\');\">CMSC\\xc2\\xa028100</a></td><td>Introduction to Complexity Theory</td><td class=\"hourscol\">100</td></tr>\\n</tbody></table>\\n\\n\\tOnce students have completed <span class=\"sc_courseinline\"><a href=\"../../search/index.html@P=CMSC&#32;27100.html\" title=\"CMSC\\xc2\\xa027100\" class=\"bubblelink code\" onclick=\"return showCourse(this, \\'CMSC 27100\\');\">CMSC\\xc2\\xa027100</a> Discrete Mathematics</span>, <span class=\"sc_courseinline\"><a href=\"../../search/index.html@P=CMSC&#32;27200.html\" title=\"CMSC\\xc2\\xa027200\" class=\"bubblelink code\" onclick=\"return showCourse(this, \\'CMSC 27200\\');\">CMSC\\xc2\\xa027200</a> Theory of Algorithms</span>, <span class=\"sc_courseinline\"><a href=\"../../search/index.html@P=CMSC&#32;28000.html\" title=\"CMSC\\xc2\\xa028000\" class=\"bubblelink code\" onclick=\"return showCourse(this, \\'CMSC 28000\\');\">CMSC\\xc2\\xa028000</a> Introduction to Formal Languages</span>, and/or <span class=\"sc_courseinline\"><a href=\"../../search/index.html@P=CMSC&#32;28100.html\" title=\"CMSC\\xc2\\xa028100\" class=\"bubblelink code\" onclick=\"return showCourse(this, \\'CMSC 28100\\');\">CMSC\\xc2\\xa028100</a> Introduction to Complexity Theory</span>, they will be qualified for most of the advanced topics courses offered at the 30000-level and above.</li>\\n\\n\\t<li>Students interested in numerical and scientific computing should take <span class=\"sc_courseinline\"><a href=\"../../search/index.html@P=CMSC&#32;28510.html\" title=\"CMSC\\xc2\\xa028510\" class=\"bubblelink code\" onclick=\"return showCourse(this, \\'CMSC 28510\\');\">CMSC\\xc2\\xa028510</a> Introduction to Scientific Computing</span>.</li>\\n\\n</ul>\\n\\n\\n\\n\\n\\n<p>The department also offers a number of special-interest courses that are detailed in the course descriptions. For information on new courses that are added on a regular basis, consult the department counselor and visit <a href=\"http://www.cs.uchicago.edu\">www.cs.uchicago.edu</a>.</p>\\n\\n\\n\\n\\n<h4>Preparation for Graduate Study in Computer Science</h4>\\n\\n\\n\\n\\n<p>Students interested in continuing their studies beyond the undergraduate level should major in computer science and take as many computer science courses as possible. The following courses are especially important:</p>\\n\\n\\n\\n\\n<table class=\"sc_courselist\" width=\"100%\"><colgroup><col class=\"codecol\"/><col class=\"titlecol\"/><col align=\"char\" char=\".\" class=\"hourscol\"/></colgroup><tbody><tr class=\"even firstrow\"><td class=\"codecol\"><a href=\"../../search/index.html@P=CMSC&#32;15100.html\" title=\"CMSC\\xc2\\xa015100\" class=\"bubblelink code\" onclick=\"return showCourse(this, \\'CMSC 15100\\');\">CMSC\\xc2\\xa015100</a></td><td>Introduction to Computer Science I</td><td class=\"hourscol\">100</td></tr>\\n<tr class=\"odd\"><td class=\"codecol\"><a href=\"../../search/index.html@P=CMSC&#32;15200.html\" title=\"CMSC\\xc2\\xa015200\" class=\"bubblelink code\" onclick=\"return showCourse(this, \\'CMSC 15200\\');\">CMSC\\xc2\\xa015200</a></td><td>Introduction to Computer Science II</td><td class=\"hourscol\">100</td></tr>\\n<tr class=\"even\"><td class=\"codecol\"><a href=\"../../search/index.html@P=CMSC&#32;15400.html\" title=\"CMSC\\xc2\\xa015400\" class=\"bubblelink code\" onclick=\"return showCourse(this, \\'CMSC 15400\\');\">CMSC\\xc2\\xa015400</a></td><td>Introduction to Computer Systems</td><td class=\"hourscol\">100</td></tr>\\n<tr class=\"odd\"><td class=\"codecol\"><a href=\"../../search/index.html@P=CMSC&#32;22100.html\" title=\"CMSC\\xc2\\xa022100\" class=\"bubblelink code\" onclick=\"return showCourse(this, \\'CMSC 22100\\');\">CMSC\\xc2\\xa022100</a></td><td>Programming Languages</td><td class=\"hourscol\">100</td></tr>\\n<tr class=\"even\"><td class=\"codecol\"><a href=\"../../search/index.html@P=CMSC&#32;22200.html\" title=\"CMSC\\xc2\\xa022200\" class=\"bubblelink code\" onclick=\"return showCourse(this, \\'CMSC 22200\\');\">CMSC\\xc2\\xa022200</a></td><td>Computer Architecture</td><td class=\"hourscol\">100</td></tr>\\n<tr class=\"odd\"><td class=\"codecol\"><a href=\"../../search/index.html@P=CMSC&#32;22610.html\" title=\"CMSC\\xc2\\xa022610\" class=\"bubblelink code\" onclick=\"return showCourse(this, \\'CMSC 22610\\');\">CMSC\\xc2\\xa022610</a></td><td>Implementation of Computer Languages I</td><td class=\"hourscol\">100</td></tr>\\n<tr class=\"even\"><td class=\"codecol\"><a href=\"../../search/index.html@P=CMSC&#32;23000.html\" title=\"CMSC\\xc2\\xa023000\" class=\"bubblelink code\" onclick=\"return showCourse(this, \\'CMSC 23000\\');\">CMSC\\xc2\\xa023000</a></td><td>Operating Systems</td><td class=\"hourscol\">100</td></tr>\\n<tr class=\"odd\"><td class=\"codecol\"><a href=\"../../search/index.html@P=CMSC&#32;23300.html\" title=\"CMSC\\xc2\\xa023300\" class=\"bubblelink code\" onclick=\"return showCourse(this, \\'CMSC 23300\\');\">CMSC\\xc2\\xa023300</a></td><td>Networks and Distributed Systems</td><td class=\"hourscol\">100</td></tr>\\n<tr class=\"even\"><td class=\"codecol\"><a href=\"../../search/index.html@P=CMSC&#32;23500.html\" title=\"CMSC\\xc2\\xa023500\" class=\"bubblelink code\" onclick=\"return showCourse(this, \\'CMSC 23500\\');\">CMSC\\xc2\\xa023500</a></td><td>Introduction to Database Systems</td><td class=\"hourscol\">100</td></tr>\\n<tr class=\"odd\"><td class=\"codecol\"><a href=\"../../search/index.html@P=CMSC&#32;23700.html\" title=\"CMSC\\xc2\\xa023700\" class=\"bubblelink code\" onclick=\"return showCourse(this, \\'CMSC 23700\\');\">CMSC\\xc2\\xa023700</a></td><td>Introduction to Computer Graphics</td><td class=\"hourscol\">100</td></tr>\\n<tr class=\"even\"><td class=\"codecol\"><a href=\"../../search/index.html@P=CMSC&#32;25400.html\" title=\"CMSC\\xc2\\xa025400\" class=\"bubblelink code\" onclick=\"return showCourse(this, \\'CMSC 25400\\');\">CMSC\\xc2\\xa025400</a></td><td>Machine Learning</td><td class=\"hourscol\">100</td></tr>\\n<tr class=\"odd\"><td class=\"codecol\"><a href=\"../../search/index.html@P=CMSC&#32;27100.html\" title=\"CMSC\\xc2\\xa027100\" class=\"bubblelink code\" onclick=\"return showCourse(this, \\'CMSC 27100\\');\">CMSC\\xc2\\xa027100</a></td><td>Discrete Mathematics</td><td class=\"hourscol\">100</td></tr>\\n<tr class=\"even\"><td class=\"codecol\"><a href=\"../../search/index.html@P=CMSC&#32;27200.html\" title=\"CMSC\\xc2\\xa027200\" class=\"bubblelink code\" onclick=\"return showCourse(this, \\'CMSC 27200\\');\">CMSC\\xc2\\xa027200</a></td><td>Theory of Algorithms</td><td class=\"hourscol\">100</td></tr>\\n<tr class=\"odd\"><td class=\"codecol\"><a href=\"../../search/index.html@P=CMSC&#32;28000.html\" title=\"CMSC\\xc2\\xa028000\" class=\"bubblelink code\" onclick=\"return showCourse(this, \\'CMSC 28000\\');\">CMSC\\xc2\\xa028000</a></td><td>Introduction to Formal Languages</td><td class=\"hourscol\">100</td></tr>\\n<tr class=\"even lastrow\"><td class=\"codecol\"><a href=\"../../search/index.html@P=CMSC&#32;28100.html\" title=\"CMSC\\xc2\\xa028100\" class=\"bubblelink code\" onclick=\"return showCourse(this, \\'CMSC 28100\\');\">CMSC\\xc2\\xa028100</a></td><td>Introduction to Complexity Theory</td><td class=\"hourscol\">100</td></tr>\\n</tbody></table>\\n\\n\\n\\n\\n\\n<p>For more information about options for graduate study, consult the department counselor and the director of graduate studies.</p>\\n\\n\\n\\n\\n<a name=\"minorprogramincomputerscience\"></a>\\n<h3>Minor Program in Computer Science</h3>\\n\\n\\n\\n\\n<p>The minor in computer science requires seven courses. The introductory sequence of three courses is followed by four approved upper-level courses. Courses in the minor must be taken for quality grades, with a grade of <em>C-</em> or higher in each course. Students may not use AP credit for computer science to meet requirements for the minor.</p>\\n\\n\\n\\n\\n<p>No courses in the minor can be double counted with the student\\'s major(s) or with other minors; nor can they be counted toward general education requirements. More than half of the requirements for the minor must be met by registering for courses bearing University of Chicago course numbers. The minor advisor must approve the student\\'s minor consent form and the student must submit that form to their College adviser by the\\xc2\\xa0end of Spring Quarter of their third year.</p>\\n\\n\\n\\n\\n<h4><span>Introductory Courses</span></h4>\\n\\n\\n\\n\\n<p>Students must choose three courses from the following (one course from Area A and one course from Area B):</p>\\n\\n\\n\\n\\n<table class=\"sc_courselist\" width=\"100%\"><colgroup><col class=\"codecol\"/><col class=\"titlecol\"/><col align=\"char\" char=\".\" class=\"hourscol\"/></colgroup><tbody><tr class=\"even firstrow\"><td colspan=\"2\"><span class=\"courselistcomment\">Area A:</span></td><td class=\"hourscol\">100</td></tr>\\n<tr class=\"odd\"><td class=\"codecol\"><div style=\"margin-left: 20px;\"><a href=\"../../search/index.html@P=CMSC&#32;12100.html\" title=\"CMSC\\xc2\\xa012100\" class=\"bubblelink code\" onclick=\"return showCourse(this, \\'CMSC 12100\\');\">CMSC\\xc2\\xa012100</a></div></td><td>Computer Science with Applications I</td><td class=\"hourscol\"></td></tr>\\n<tr class=\"even\"><td class=\"codecol\"><div style=\"margin-left: 20px;\"><a href=\"../../search/index.html@P=CMSC&#32;15100.html\" title=\"CMSC\\xc2\\xa015100\" class=\"bubblelink code\" onclick=\"return showCourse(this, \\'CMSC 15100\\');\">CMSC\\xc2\\xa015100</a></div></td><td>Introduction to Computer Science I</td><td class=\"hourscol\"></td></tr>\\n<tr class=\"odd\"><td class=\"codecol\"><div style=\"margin-left: 20px;\"><a href=\"../../search/index.html@P=CMSC&#32;16100.html\" title=\"CMSC\\xc2\\xa016100\" class=\"bubblelink code\" onclick=\"return showCourse(this, \\'CMSC 16100\\');\">CMSC\\xc2\\xa016100</a></div></td><td>Honors Introduction to Computer Science I</td><td class=\"hourscol\"></td></tr>\\n<tr class=\"even\"><td colspan=\"2\"><span class=\"courselistcomment\">Area B:</span></td><td class=\"hourscol\">100</td></tr>\\n<tr class=\"odd\"><td class=\"codecol\"><div style=\"margin-left: 20px;\"><a href=\"../../search/index.html@P=CMSC&#32;12200.html\" title=\"CMSC\\xc2\\xa012200\" class=\"bubblelink code\" onclick=\"return showCourse(this, \\'CMSC 12200\\');\">CMSC\\xc2\\xa012200</a></div></td><td>Computer Science with Applications II</td><td class=\"hourscol\"></td></tr>\\n<tr class=\"even\"><td class=\"codecol\"><div style=\"margin-left: 20px;\"><a href=\"../../search/index.html@P=CMSC&#32;15200.html\" title=\"CMSC\\xc2\\xa015200\" class=\"bubblelink code\" onclick=\"return showCourse(this, \\'CMSC 15200\\');\">CMSC\\xc2\\xa015200</a></div></td><td>Introduction to Computer Science II</td><td class=\"hourscol\"></td></tr>\\n<tr class=\"odd\"><td class=\"codecol\"><div style=\"margin-left: 20px;\"><a href=\"../../search/index.html@P=CMSC&#32;16200.html\" title=\"CMSC\\xc2\\xa016200\" class=\"bubblelink code\" onclick=\"return showCourse(this, \\'CMSC 16200\\');\">CMSC\\xc2\\xa016200</a></div></td><td>Honors Introduction to Computer Science II</td><td class=\"hourscol\"></td></tr>\\n<tr class=\"even lastrow\"><td class=\"codecol\"><a href=\"../../search/index.html@P=CMSC&#32;15400.html\" title=\"CMSC\\xc2\\xa015400\" class=\"bubblelink code\" onclick=\"return showCourse(this, \\'CMSC 15400\\');\">CMSC\\xc2\\xa015400</a></td><td>Introduction to Computer Systems</td><td class=\"hourscol\">100</td></tr>\\n</tbody></table>\\n\\n\\n\\n\\n\\n<h4>Upper-Level Courses</h4>\\n\\n\\n\\n\\n<p>Four 20000-level or above computer science courses must be approved by the minor advisor. A 20000-level course must replace each 10000-level course in the list above that was used to meet general education requirements.</p>\\n\\n\\n\\n\\n<a name=\"jointbamsorbsmsprogram\"></a>\\n<h3>Joint BA/MS or BS/MS Program</h3>\\n\\n\\n\\n\\n<p>Outstanding computer science majors may apply to complete an MS in computer science along with a BA or BS during their four years at the College.</p>\\n\\n\\n\\n\\n<p>Participants must be admitted to the joint MS program. Prior to applying to the program, interested students must meet with Sharon Salveter, Computer Science Department Counselor, and Ron Gorny, the College BA/MS or BS/MS Adviser. (For an appointment with Mr. Gorny, call the College Advisers Reception Desk at 702.8615.) Students must submit applications for the joint program to the department counselor, Sharon Salveter, by the end of Winter Quarter of their third year.</p>\\n\\n\\n\\n\\n<p>Participants in the joint BA/MS or BS/MS program must meet the requirements for the BA or BS plus nine courses for the MS and a master\\'s project. Three of the nine courses for the MS may also be used to meet the requirements of the BA or BS, resulting in a total of 20 courses in computer science. For details visit <a href=\"http://www.cs.uchicago.edu/info/BxMS\">www.cs.uchicago.edu/info/BxMS</a>.</p>\\n\\n\\n\\n\\n<a name=\"graduatecourses\"></a>\\n<h3>Graduate Courses</h3>\\n\\n\\n\\n\\n<p>Graduate courses and seminars offered by the Department of Computer Science are open to College students with consent of instructor and department counselor. For more information, consult the department counselor.</p>\\n\\n\\n<!--- DEPT: Computer Science --->\\n<a name=\"courseinventory\"> </a>\\n<div class=\"courses\">\\n<a name=\"cmsccourses\"></a>\\n<!-- SQL:\\nSELECT course.*, course.deptnum AS dept, seq2code, seq2title, seq3code, seq3title, seq4code, seq4title, seq5code, seq5title, seq6code, seq6title FROM course LEFT JOIN coursesequence ON course.code = coursesequence.coursecode WHERE 1=1  and (hidecourse is null or hidecourse <> \\'true\\')  AND dept = *CMSC*\\n-->\\n<h3>Computer Science Courses</h3>\\n<!-- CMSC 10100 Seq Count:0-->\\n<div class=\"courseblock main\">\\n<p class=\"courseblocktitle\"><strong>CMSC&#160;10100.  Introduction to Programming for the World Wide Web I.  100 Units.</strong></p><p class=\"courseblockdesc\">\\nThis course teaches the basics of building and maintaining a site on the World Wide Web. We discuss Internet terminology and how the Internet and its associated technologies work. Topics include programming websites, hypertext markup language (HTML), Cascading Style Sheets (CSS), and Common Gateway Interface (CGI) scripts (using PERL). Students also learn how to use JavaScript to add client-side functionality.</p><p class=\"courseblockdetail\">\\nInstructor(s): W. Sterner&#160;&#160;&#160;&#160;&#160;Terms Offered: Winter<br />\\nNote(s): This course does not meet the general education requirement in the mathematical sciences.<br />\\n</p>\\n</div><!-- CMSC 10200 Seq Count:0-->\\n<div class=\"courseblock main\">\\n<p class=\"courseblocktitle\"><strong>CMSC&#160;10200.  Introduction to Programming for the World Wide Web II.  100 Units.</strong></p><p class=\"courseblockdesc\">\\nThis course introduces computer programming in Java with a focus on designing and implementing software for the World Wide Web. We first introduce the fundamentals of programming, giving particular attention to basic object-oriented techniques. We employ Java Server Pages to develop programs that interact with users through web browsers. Finally, we study relational databases and, integrating that study with general-purpose Java programming, build database-backed web applications.</p><p class=\"courseblockdetail\">\\nInstructor(s): S. Salveter&#160;&#160;&#160;&#160;&#160;Terms Offered: Not offered in 2014-15<br />\\nPrerequisite(s): MATH 10600, or placement into 13100 or equivalent; and knowledge of HTML<br />\\nNote(s): This course meets the general education requirement in the mathematical sciences. May not be taken for credit by students who have credit for CMSC 12100, 15200, or 16200.<br />\\n</p>\\n</div><!-- CMSC 10500 Seq Count:2-->\\n<div class=\"courseblock main\">\\n<p class=\"courseblocktitle\"><strong>CMSC&#160;10500-10600.  Fundamentals of Computer Programming I-II.</strong></p><p class=\"courseblockdesc\">\\nThis sequence meets the general education requirement in the mathematical sciences.</p></div><div class=\"courseblock subsequence\">\\n<p class=\"courseblocktitle\"><strong>CMSC&#160;10500.  Fundamentals of Computer Programming I.  100 Units.</strong></p><p class=\"courseblockdesc\">\\nThis course introduces computer programming using the functional programming language Scheme. We emphasize design, algorithm construction, and procedural/functional/data abstraction.</p><p class=\"courseblockdetail\">\\nInstructor(s): S. Salveter&#160;&#160;&#160;&#160;&#160;Terms Offered: Winter<br />\\nPrerequisite(s): MATH 10600, or placement into 13100 or equivalent; or consent of departmental counselor required; previous computer experience and advanced mathematical knowledge not required<br />\\nNote(s): CMSC 10500 and 10600 may be taken in sequence or individually. This course meets the general education requirement in the mathematical sciences. <br />\\n</p>\\n</div><div class=\"courseblock subsequence\">\\n<p class=\"courseblocktitle\"><strong>CMSC&#160;10600.  Fundamentals of Computer Programming II.  100 Units.</strong></p><p class=\"courseblockdesc\">\\nThis course is an introduction to computer programming using the object-oriented programming language C++. We emphasize algorithm design and construction. Topics include complex types, iteration, recursion, procedural/functional/data abstraction, classes, methods, inheritance, and polymorphism.</p><p class=\"courseblockdetail\">\\nTerms Offered: Spring<br />\\nPrerequisite(s): MATH 10600, or placement into 13100 or equivalent; or consent of departmental counselor<br />\\nNote(s): CMSC 10500 and 10600 may be taken in sequence or individually. This course meets the general education requirement in the mathematical sciences. <br />\\n</p>\\n</div><!-- CMSC 10600 course already drawn -->\\n<!-- CMSC 11000 Seq Count:2-->\\n<div class=\"courseblock main\">\\n<p class=\"courseblocktitle\"><strong>CMSC&#160;11000-11100.  Multimedia Programming as an Interdisciplinary Art I-II.</strong></p><p class=\"courseblockdesc\">\\nEither course in this sequence meets the general education requirement in the mathematical sciences. Like other classic Chicago general education courses, this sequence provides students with both practical programming skills and core ideas in computer science in interdisciplinary applications. Students learn how to perform in a multi-platform (Mac/Linux/Windows) environment using a high-level prototyping language (revTalk) that allows for the quick creation of useful multimedia applications. As a classic Core course in the Chicago tradition, the course presents introductory techniques of problem solving, algorithm construction, program coding, and debugging as interdisciplinary arts adaptable to a wide range of disciplines with their specialized problems. The first course moves through a sequence from step-by-step introductory labs, to labs that require independent analysis and solution, to a student-designed final project. The second course consists of several scientific and humanistic projects such as Turing Machines, biological modeling, and language manipulation with another final project.</p></div><div class=\"courseblock subsequence\">\\n<p class=\"courseblocktitle\"><strong>CMSC&#160;11000.  Multimedia Programming as an Interdisciplinary Art I.  100 Units.</strong></p><p class=\"courseblockdesc\">\\n</p><p class=\"courseblockdetail\">\\nInstructor(s): W. Sterner&#160;&#160;&#160;&#160;&#160;Terms Offered: Spring<br />\\nPrerequisite(s): MATH 10600, or placement into 13100 or equivalent; or consent of instructor<br />\\nNote(s): This course meets the general education requirement in the mathematical sciences.<br />\\n</p>\\n</div><div class=\"courseblock subsequence\">\\n<p class=\"courseblocktitle\"><strong>CMSC&#160;11100.  Multimedia Programming as an Interdisciplinary Art II.  100 Units.</strong></p><p class=\"courseblockdesc\">\\n</p><p class=\"courseblockdetail\">\\nTerms Offered: Not offered in 2014-15<br />\\nPrerequisite(s): MATH 10600, or placement into 13100 or equivalent; or consent of instructor<br />\\nNote(s): This course meets the general education requirement in the mathematical sciences.<br />\\n</p>\\n</div><!-- CMSC 11710 Seq Count:0-->\\n<div class=\"courseblock main\">\\n<p class=\"courseblocktitle\"><strong>CMSC&#160;11710.  Networks.  100 Units.</strong></p><p class=\"courseblockdesc\">\\nNetworks help explain phenomena in such technological, social, and biological domains as the spread of opinions, knowledge, and infectious diseases. Networks also help us understand properties of financial markets, food webs, and web technologies. At the same time, the structure and evolution of networks is determined by the set of interactions in the domain. Our study of networks will employ formalisms such as graph theory, game theory, information networks, and network dynamics, with the goal of building formal models and translating their observed properties into qualitative explanations.</p><p class=\"courseblockdetail\">\\nInstructor(s): J. Simon&#160;&#160;&#160;&#160;&#160;Terms Offered: Spring<br />\\nPrerequisite(s): Completion of the general education requirement in the mathematical sciences, and familiarity with basic concepts of probability at the high school level. <br />\\nNote(s): Necessary mathematical concepts will be presented in class.<br />\\n</p>\\n</div><!-- CMSC 12100 Seq Count:3-->\\n<div class=\"courseblock main\">\\n<p class=\"courseblocktitle\"><strong>CMSC&#160;12100-12200-12300.  Computer Science with Applications I-II-III.</strong></p><p class=\"courseblockdesc\">\\nThis three-quarter sequence teaches computational thinking and skills to students who are majoring in the sciences, mathematics, and economics. Lectures cover topics in (1) programming, such as recursion, abstract data types, and processing data; (2) computer science, such as clustering methods, event-driven simulation, and theory of computation; and to a lesser extent (3) numerical computation, such as approximating functions and their derivatives and integrals, solving systems of linear equations, and simple Monte Carlo techniques. Applications from a wide variety of fields serve both as examples in lectures and as the basis for programming assignments. In recent offerings, students have written programs to evaluate betting strategies, determine the number of machines needed at a polling place, and predict the size of extinct marsupials. Students learn Java, Python, R and C++.</p></div><div class=\"courseblock subsequence\">\\n<p class=\"courseblocktitle\"><strong>CMSC&#160;12100.  Computer Science with Applications I.  100 Units.</strong></p><p class=\"courseblockdesc\">\\n</p><p class=\"courseblockdetail\">\\nInstructor(s): A. Rogers&#160;&#160;&#160;&#160;&#160;Terms Offered: Autumn<br />\\nPrerequisite(s): Placement into MATH 15200 or higher, or consent of instructor<br />\\nNote(s): This course meets the general education requirement in the mathematical sciences. <br />\\n</p>\\n</div><div class=\"courseblock subsequence\">\\n<p class=\"courseblocktitle\"><strong>CMSC&#160;12200.  Computer Science with Applications II.  100 Units.</strong></p><p class=\"courseblockdesc\">\\n</p><p class=\"courseblockdetail\">\\nInstructor(s): A. Rogers&#160;&#160;&#160;&#160;&#160;Terms Offered: Winter<br />\\nPrerequisite(s): CMSC 12100<br />\\nNote(s): This course meets the general education requirement in the mathematical sciences. <br />\\n</p>\\n</div><div class=\"courseblock subsequence\">\\n<p class=\"courseblocktitle\"><strong>CMSC&#160;12300.  Computer Science with Applications III.  100 Units.</strong></p><p class=\"courseblockdesc\">\\nThe course revolves around core ideas behind the management and computation of large volumes of data (\"Big Data\"). Topics include (1) Statistical methods for large data analysis, (2) Parallelism and concurrency, including models of parallelism and synchronization primitives, and (3) Distributed computing, including distributed architectures and the algorithms and techniques that enable these architectures to be fault-tolerant, reliable, and scalable.\\xc2\\xa0 Students will continue to use R, and will also learn C++ and distributed computing tools and platforms, including Amazon AWS and Hadoop. This course includes a project where students will have to formulate hypotheses about a large dataset, develop statistical models to test those hypothesis, implement a prototype that performs an initial exploration of the data, and a final system to process the entire dataset.<br /></p><p class=\"courseblockdetail\">\\nTerms Offered: Spring<br />\\nPrerequisite(s): CMSC 12200<br />\\n</p>\\n</div><!-- CMSC 12200 course already drawn -->\\n<!-- CMSC 12300 course already drawn -->\\n<!-- CMSC 15100 Seq Count:2-->\\n<div class=\"courseblock main\">\\n<p class=\"courseblocktitle\"><strong>CMSC&#160;15100-15200.  Introduction to Computer Science I-II.</strong></p><p class=\"courseblockdesc\">\\nThis sequence, which is recommended for all students planning to take more advanced courses in computer science, introduces computer science using both functional (Scheme) and imperative (C) programming languages. Topics include control and data abstraction, self-reference, time and space analysis, and data structures. NOTE: Non-majors may use either course in this sequence to meet the general education requirement in the mathematical sciences; students who are majoring in Computer Science must use either CMSC 15100-15200 or 16100-16200 to meet requirements for the major.</p></div><div class=\"courseblock subsequence\">\\n<p class=\"courseblocktitle\"><strong>CMSC&#160;15100.  Introduction to Computer Science I.  100 Units.</strong></p><p class=\"courseblockdesc\">\\n</p><p class=\"courseblockdetail\">\\nInstructor(s): J. Reppy (Autumn), A. Shaw (Autumn)&#160;&#160;&#160;&#160;&#160;Terms Offered: Autumn, Summer<br />\\nPrerequisite(s): Placement into MATH 15100 or equivalent, or consent of departmental counselor<br />\\nNote(s): This course meets the general education requirement in the mathematical sciences.<br />\\n</p>\\n</div><div class=\"courseblock subsequence\">\\n<p class=\"courseblocktitle\"><strong>CMSC&#160;15200.  Introduction to Computer Science II.  100 Units.</strong></p><p class=\"courseblockdesc\">\\n</p><p class=\"courseblockdetail\">\\nInstructor(s): A. Shaw (Winter)&#160;&#160;&#160;&#160;&#160;Terms Offered: Winter, Summer<br />\\nPrerequisite(s): CMSC 15100<br />\\nNote(s): This course meets the general education requirement in the mathematical sciences.<br />\\n</p>\\n</div><!-- CMSC 15200 course already drawn -->\\n<!-- CMSC 15400 Seq Count:0-->\\n<div class=\"courseblock main\">\\n<p class=\"courseblocktitle\"><strong>CMSC&#160;15400.  Introduction to Computer Systems.  100 Units.</strong></p><p class=\"courseblockdesc\">\\nThis course covers the basics of computer systems from a programmer\\'s perspective. Topics include data representation, machine language programming, exceptions, code optimization, performance measurement, memory systems, and system-level I/O. Extensive programming required.</p><p class=\"courseblockdetail\">\\nTerms Offered: Spring<br />\\nPrerequisite(s): CMSC 15200, 16200 or 12200<br />\\nNote(s): Required of students who are majoring in Computer Science. <br />\\n</p>\\n</div><!-- CMSC 16100 Seq Count:2-->\\n<div class=\"courseblock main\">\\n<p class=\"courseblocktitle\"><strong>CMSC&#160;16100-16200.  Honors Introduction to Computer Science I-II.</strong></p><p class=\"courseblockdesc\">\\n<p>Both courses in this sequence meet the general education requirement in the mathematical sciences; students who are majoring in Computer Science must use either CMSC 15200 or 16200 to meet requirements for the major.</p></p></div><div class=\"courseblock subsequence\">\\n<p class=\"courseblocktitle\"><strong>CMSC&#160;16100.  Honors Introduction to Computer Science I.  100 Units.</strong></p><p class=\"courseblockdesc\">\\nProgramming in a functional language (currently Haskell), including higher-order functions, type definition, algebraic data types, modules, parsing, I/O, and monads. Basic data structures, including lists, binary search trees, and tree balancing. Basic mathematics for reasoning about programs, including induction, inductive definition, propositional logic, and proofs. Search in graphs, including depth-first and breadth-first search. Search in metric graphs, including greedy and A* search, with applications.</p><p class=\"courseblockdetail\">\\nInstructor(s): S. Kurtz&#160;&#160;&#160;&#160;&#160;Terms Offered: Autumn<br />\\nPrerequisite(s): Placement into MATH 16100 or equivalent and programming experience, or consent of department counselor<br />\\nNote(s): This course meets the general education requirement in the mathematical sciences.<br />\\n</p>\\n</div><div class=\"courseblock subsequence\">\\n<p class=\"courseblocktitle\"><strong>CMSC&#160;16200.  Honors Introduction to Computer Science II.  100 Units.</strong></p><p class=\"courseblockdesc\">\\nThis course emphasizes the C Programming Language, but not in isolation. Instead, C is developed as a part of a larger programming toolkit that includes the shell (specifically ksh), shell programming, and standard Unix utilities (including awk). Nonshell scripting languages, in particular perl and python, are introduced, as well as interpreter (#!) files that use the command-line version of DrScheme. We cover various standard data structures, both abstractly, and in terms of concrete implementations\\xe2\\x80\\x94primarily in C, but also from time to time in other contexts like scheme and ksh. The course uses a team programming approach. There is a mixture of individual programming assignments that focus on current lecture material, together with team programming assignments that can be tackled using any Unix technology. Team projects are assessed based on correctness, elegance, and quality of documentation. We teach the \"Unix way\" of breaking a complex computational problem into smaller pieces, most or all of which can be solved using pre-existing, well-debugged, and documented components, and then composed in a variety of ways.</p><p class=\"courseblockdetail\">\\nInstructor(s): S. Kurtz&#160;&#160;&#160;&#160;&#160;Terms Offered: Winter<br />\\nPrerequisite(s): CMSC 16100, or consent of department counselor<br />\\nNote(s): Students who have taken CMSC 15100 may take 16200 with consent of instructor. This course meets the general education requirement in the mathematical sciences.<br />\\n</p>\\n</div><!-- CMSC 16200 course already drawn -->\\n<!-- CMSC 22001 Seq Count:0-->\\n<div class=\"courseblock main\">\\n<p class=\"courseblocktitle\"><strong>CMSC&#160;22001.  Software Construction.  100 Units.</strong></p><p class=\"courseblockdesc\">\\nLarge software systems are difficult to build. The course discusses both the empirical aspects of software engineering and the underlying theory. Topics will include, among others, software specifications, software design, software architecture, software testing, software reliability, and software maintenance. Students will be expected to actively participate in team projects in this course.</p><p class=\"courseblockdetail\">\\nInstructor(s): S. Lu&#160;&#160;&#160;&#160;&#160;Terms Offered: Autumn<br />\\nPrerequisite(s): CMSC 15400<br />\\n</p>\\n</div><!-- CMSC 22010 Seq Count:0-->\\n<div class=\"courseblock main\">\\n<p class=\"courseblocktitle\"><strong>CMSC&#160;22010.  Digital Fabrication.  100 Units.</strong></p><p class=\"courseblockdesc\">\\n<span>Digital fabrication involves translation of a digital design into a physical object. While digital fabrication has been around for decades, only now has it become possible for individuals to take advantage of this technology through low cost 3D printers and open source tools for 3D design and modeling.<span>\\xc2\\xa0</span> In this course we will cover the foundations of 3D object design including computational geometry, the type of models that can and can\\xe2\\x80\\x99t be fabricated, the uses and applications of digital fabrication, the algorithms, methods and tools for conversion of 3D models to representations that can be directly manufactured using computer controlled machines, the concepts and technology used in additive manufacturing (aka 3D printing) and the research and practical challenges of developing self-replicating machines.<span>\\xc2\\xa0</span> We will have several 3D printers available for use during the class and students will design and fabricate several parts during the course.</span></p><p class=\"courseblockdetail\">\\nInstructor(s): R. Stevens&#160;&#160;&#160;&#160;&#160;Terms Offered: Autumn<br />\\nPrerequisite(s): CMSC 15400 and some experience with 3D modeling concepts.<br />\\n</p>\\n</div><!-- CMSC 22100 Seq Count:0-->\\n<div class=\"courseblock main\">\\n<p class=\"courseblocktitle\"><strong>CMSC&#160;22100.  Programming Languages.  100 Units.</strong></p><p class=\"courseblockdesc\">\\nProgramming language design aims at the closest possible correspondence between the structures of a program and the task it performs. This course studies some of the structural concepts affecting programming languages: iterative and recursive control flow, data types and type checking, procedural versus functional programming, modularity and encapsulation, fundamentals of interpreting and compiling, and formal descriptions of syntax and semantics. Students write short programs in radically different languages to illuminate the variety of possible designs.</p><p class=\"courseblockdetail\">\\nTerms Offered: Spring.  Generally offered alternate years.<br />\\nPrerequisite(s): CMSC 15400<br />\\n</p>\\n</div><!-- CMSC 22200 Seq Count:0-->\\n<div class=\"courseblock main\">\\n<p class=\"courseblocktitle\"><strong>CMSC&#160;22200.  Computer Architecture.  100 Units.</strong></p><p class=\"courseblockdesc\">\\nThis course is a survey of contemporary computer organization covering CPU design, instruction sets, control, processors, busses, ALU, memory, pipelined computers, multiprocessors, networking, and case studies. We focus on the techniques of quantitative analysis and evaluation of modern computing systems, such as the selection of appropriate benchmarks to reveal and compare the performance of alternative design choices in system design. We emphasize major component subsystems of high-performance computers: pipelining, instruction-level parallelism, memory hierarchies, input/output, and network-oriented interconnections.</p><p class=\"courseblockdetail\">\\nInstructor(s): A. Chien&#160;&#160;&#160;&#160;&#160;Terms Offered: Autumn<br />\\nPrerequisite(s): CMSC 15400<br />\\n</p>\\n</div><!-- CMSC 22300 Seq Count:0-->\\n<div class=\"courseblock main\">\\n<p class=\"courseblocktitle\"><strong>CMSC&#160;22300.  Functional Programming.  100 Units.</strong></p><p class=\"courseblockdesc\">\\nThis course presents the functional programming paradigm, based on the idea of functions as \"first-class\" values that can be manipulated like other data. This idea leads to great power of expression while maintaining simplicity, making it easier to write correct and maintainable software. We use the languages Haskell and ML as representatives of the two main schools of functional programming, the pure and the impure. After learning the basic elements of these languages, we explore functional programming techniques that can be exploited in many areas of application using a surprising variety of languages (e.g., C#, Python) that have included first-class functions as a feature. We compare functional and object oriented programming and include an brief overview of concurrent functional programming in ML and Haskell.</p><p class=\"courseblockdetail\">\\nTerms Offered: Spring. Generally offered alternate years.<br />\\nPrerequisite(s): CMSC 15400<br />\\n</p>\\n</div><!-- CMSC 22311 Seq Count:0-->\\n<div class=\"courseblock main\">\\n<p class=\"courseblocktitle\"><strong>CMSC&#160;22311.  Functional Systems in Haskell.  100 Units.</strong></p><p class=\"courseblockdesc\">\\nAdvanced and systems programming in Haskell, including testing, meta-programming, exceptions, concurrency, web, IO, and network programming.</p><p class=\"courseblockdetail\">\\nInstructor(s): S. Kurtz&#160;&#160;&#160;&#160;&#160;Terms Offered: Spring<br />\\nPrerequisite(s): CMSC 16100 and CMSC 15400, or consent of instructor<br />\\n</p>\\n</div><!-- CMSC 22610 Seq Count:0-->\\n<div class=\"courseblock main\">\\n<p class=\"courseblocktitle\"><strong>CMSC&#160;22610.  Implementation of Computer Languages I.  100 Units.</strong></p><p class=\"courseblockdesc\">\\nThis course covers principles and techniques for implementing computer languages (e.g., programming languages, query languages, specification languages, domain-specific languages). Topics include lexical analysis, parsing, tree representations of programs (both parse trees and abstract syntax trees), types and type checking, interpreters, abstract machines, and run-time systems. This is a project-based course involving the implementation of a small language using Standard ML.</p><p class=\"courseblockdetail\">\\nInstructor(s): J. Reppy&#160;&#160;&#160;&#160;&#160;Terms Offered: Winter.  Generally offered alternate years.<br />\\nPrerequisite(s): CMSC 15400 required; CMSC 22100 recommended<br />\\nNote(s): Prior experience with ML programming not required. This course is offered in alternate years. <br />\\n</p>\\n</div><!-- CMSC 22620 Seq Count:0-->\\n<div class=\"courseblock main\">\\n<p class=\"courseblocktitle\"><strong>CMSC&#160;22620.  Implementation of Computer Languages II.  100 Units.</strong></p><p class=\"courseblockdesc\">\\nThis course is a continuation of CMSC 22610, covering compilers for general-purpose languages. Topics include compiler-immediate representations, continuation-passing style, runtime representations, code generation, code optimization, register allocation, instruction scheduling, and garbage collection. This is a project-based course in which students construct a complete, working compiler for a small language using Standard ML.</p><p class=\"courseblockdetail\">\\nInstructor(s): J. Reppy&#160;&#160;&#160;&#160;&#160;Terms Offered: Spring. Generally offered alternate years.<br />\\nPrerequisite(s): CMSC 22610 required; CMSC 22100 strongly recommended<br />\\nNote(s):  Generally offered alternate years.<br />\\nEquivalent Course(s): CMSC 32620<br />\\n</p>\\n</div><!-- CMSC 22630 Seq Count:0-->\\n<div class=\"courseblock main\">\\n<p class=\"courseblocktitle\"><strong>CMSC&#160;22630.  Advanced Implementation of Computer Languages.  100 Units.</strong></p><p class=\"courseblockdesc\">\\nThis course explores advanced topics in the implementation of high-level programming languages that vary each year (e.g., control-flow analysis algorithms, abstract interpretation, partial evaluation, advanced optimizations, runtime system representations, garbage collection algorithms, foreign-function interfaces). Students are expected to develop both a foundational and applied understanding of these topics.</p><p class=\"courseblockdetail\">\\nInstructor(s): J. Reppy&#160;&#160;&#160;&#160;&#160;Terms Offered: Autumn.  Generally offered alternate years.<br />\\nPrerequisite(s): CMSC 22100 and 22620, or equivalent<br />\\n</p>\\n</div><!-- CMSC 23000 Seq Count:0-->\\n<div class=\"courseblock main\">\\n<p class=\"courseblocktitle\"><strong>CMSC&#160;23000.  Operating Systems.  100 Units.</strong></p><p class=\"courseblockdesc\">\\nThis course provides an introduction to the basic concepts and techniques used to implement operating systems. Topics include processes and threads, interprocess communication and synchronization, memory management, segmentation, paging, linking and loading, scheduling, file systems, and input/output. The course will revolve around the implementation of an x86 operating system kernel.</p><p class=\"courseblockdetail\">\\nInstructor(s): H. Gunawi&#160;&#160;&#160;&#160;&#160;Terms Offered: Autumn<br />\\nPrerequisite(s): CMSC 15400, and one of the following: CMSC 22200, CMSC 22610, CMSC 23300, CMSC 23400, CMSC 23500, CMSC 23700, CMSC 23710, or CMSC 23800.<br />\\n</p>\\n</div><!-- CMSC 23010 Seq Count:0-->\\n<div class=\"courseblock main\">\\n<p class=\"courseblocktitle\"><strong>CMSC&#160;23010.  Parallel Computing.  100 Units.</strong></p><p class=\"courseblockdesc\">\\nThis course provides an introduction to the concepts of parallel programming, with an emphasis on programming multicore processors. Topics include: Processes and threads, shared memory, message passing, direct-memory access (DMA), hardware mechanisms for parallel computing, synchronization and communication, patterns of parallel programming.\\xc2\\xa0 The course will involve a substantial programming project implementing a parallel computations.<br /></p><p class=\"courseblockdetail\">\\nInstructor(s): H. Hoffmann&#160;&#160;&#160;&#160;&#160;Terms Offered: Winter<br />\\nPrerequisite(s): CMSC 15400 and one of the following: CMSC 22000 (Architecture),  CMSC 23000 (Operating Systems), or CMSC 23300 (Networks and Distributed Systems), or consent of the instructor.<br />\\n</p>\\n</div><!-- CMSC 23200 Seq Count:0-->\\n<div class=\"courseblock main\">\\n<p class=\"courseblocktitle\"><strong>CMSC&#160;23200.  Introduction to Computer Security.  100 Units.</strong></p><p class=\"courseblockdesc\">\\nThis course introduces the principles and practice of computer security. It aims to teach how to model threats to computer systems and how to think like a potential attacker. It presents standard cryptographic functions and protocols and gives an overview of threats and defenses for software, host systems, networks, and the Web.\\xc2\\xa0 It also touches on some of the legal, policy, and ethical issues surrounding computer security in areas such as privacy, surveillance, and the disclosure of security vulnerabilities. The goal of this course is to provide a foundation for further study in computer security and to help better understand how to design, build, and use computer systems more securely.</p><p class=\"courseblockdetail\">\\nInstructor(s): A. Feldman&#160;&#160;&#160;&#160;&#160;Terms Offered: Autumn<br />\\nPrerequisite(s): CMSC 15400<br />\\n</p>\\n</div><!-- CMSC 23300 Seq Count:0-->\\n<div class=\"courseblock main\">\\n<p class=\"courseblocktitle\"><strong>CMSC&#160;23300.  Networks and Distributed Systems.  100 Units.</strong></p><p class=\"courseblockdesc\">\\nThis course focuses on the principles and techniques used in the development of networked and distributed software. Topics include programming with sockets; concurrent programming; data link layer (Ethernet, packet switching, etc.); internet and routing protocols (UDP, TCP); and other commonly used network protocols and techniques. This is a project-oriented course in which students are required to develop software in C on a UNIX environment.</p><p class=\"courseblockdetail\">\\nInstructor(s): B. Sotomayor&#160;&#160;&#160;&#160;&#160;Terms Offered: Winter<br />\\nPrerequisite(s): CMSC 15400<br />\\nEquivalent Course(s): CMSC 33300<br />\\n</p>\\n</div><!-- CMSC 23310 Seq Count:0-->\\n<div class=\"courseblock main\">\\n<p class=\"courseblocktitle\"><strong>CMSC&#160;23310.  Advanced Distributed Systems.  100 Units.</strong></p><p class=\"courseblockdesc\">\\nThis course explores advanced topics in distributed systems. Topics include supercomputing (architectures, applications, programming models, etc.); grid computing with an emphasis on Globus technologies; Infrastructure-as-a-Service clouds (virtual infrastructure management, Amazon EC2, etc.), Platform-as-a-Service clouds (Google App Engine, etc.), and the Software-as-a-Service model; and other current topics related to using and building distributed systems. The course includes a substantial practical component but also requires students to read papers and articles on current advances in the field.</p><p class=\"courseblockdetail\">\\nInstructor(s): B. Sotomayor&#160;&#160;&#160;&#160;&#160;Terms Offered: Spring<br />\\nPrerequisite(s): CMSC 23300 or consent of instructor<br />\\nEquivalent Course(s): CMSC 33310<br />\\n</p>\\n</div><!-- CMSC 23340 Seq Count:0-->\\n<div class=\"courseblock main\">\\n<p class=\"courseblocktitle\"><strong>CMSC&#160;23340.  Grid Computing.  100 Units.</strong></p><p class=\"courseblockdesc\">\\nThe new Open Grid Services Architecture (OGSA) defines interfaces and protocols that promise to make it far easier to construct decentralized, dynamic, large-scale systems. We explore and evaluate this technology by using it to develop a range of scalable distributed services. We use the Globus Toolkit, an open source implementation of key OGSA standards, to design and build services. We then evaluate our implementations from the perspectives of performance and programmability.</p><p class=\"courseblockdetail\">\\nInstructor(s): I. Foster&#160;&#160;&#160;&#160;&#160;Terms Offered:  Generally offered alternate years.<br />\\nPrerequisite(s): Substantial programming experience<br />\\n</p>\\n</div><!-- CMSC 23400 Seq Count:0-->\\n<div class=\"courseblock main\">\\n<p class=\"courseblocktitle\"><strong>CMSC&#160;23400.  Mobile Computing.  100 Units.</strong></p><p class=\"courseblockdesc\">\\nMobile computing is pervasive and changing nearly every aspect of society.\\xc2\\xa0 Sensing, actuation, and mediation capabilities of mobile devices are transforming all aspects of computing:\\xc2\\xa0 uses, networking, interface, form, etc.\\xc2\\xa0 This course explores new technologies driving mobile computing and their implications for systems and society.\\xc2\\xa0 Current focus areas include expanded visual experience with computational photography, video and interactive augmented reality, and synchronicity and proximity-detection to enable shared social experiences.\\xc2\\xa0 Labs expose students to software and hardware capabilities of mobile computing systems, and develop the capability to envision radical new applications for a large-scale course project.</p><p class=\"courseblockdetail\">\\nInstructor(s): A. Chien&#160;&#160;&#160;&#160;&#160;Terms Offered: Winter<br />\\nPrerequisite(s): CMSC 15200 and 15400 are required and CMSC 23000 or 23300 are recommended. Knowledge of Java is required.  A short course is available at http://ocw.mit.edu/courses/electrical-engineering-and-computer-science/6-092-introduction-to-programming-in-java-january-iap-2010/index.htm<br />\\nEquivalent Course(s): CMSC 33400<br />\\n</p>\\n</div><!-- CMSC 23500 Seq Count:0-->\\n<div class=\"courseblock main\">\\n<p class=\"courseblocktitle\"><strong>CMSC&#160;23500.  Introduction to Database Systems.  100 Units.</strong></p><p class=\"courseblockdesc\">\\nThis course is an introduction to database design and programming using the relational model. Topics include DBMS architecture, entity-relationship and relational models, relational algebra, relational calculus, functional dependencies and normal forms, web DBs and PHP, query optimization, and physical data organization. The lab section guides students through the collaborative implementation of a relational database management system, allowing students to see topics such as physical data organization and DBMS architecture in practice, and exercise general skills such as collaborative software development.</p><p class=\"courseblockdetail\">\\nInstructor(s): A. Shaw&#160;&#160;&#160;&#160;&#160;Terms Offered: Spring. Generally offered alternate years.<br />\\nPrerequisite(s): CMSC 15400<br />\\n</p>\\n</div><!-- CMSC 23700 Seq Count:0-->\\n<div class=\"courseblock main\">\\n<p class=\"courseblocktitle\"><strong>CMSC&#160;23700.  Introduction to Computer Graphics.  100 Units.</strong></p><p class=\"courseblockdesc\">\\nThis course introduces the basic concepts and techniques used in three-dimensional computer graphics. The focus is on real-time rendering techniques, such as those found in computer games. These include coordinate systems and transformations, the graphics pipeline, basic geometric algorithms, texture mapping, level-of detail optimizations, and shadows. Students are required to complete both written assignments and programming projects using OpenGL.</p><p class=\"courseblockdetail\">\\nInstructor(s): J. Reppy&#160;&#160;&#160;&#160;&#160;Terms Offered: Winter. Generally offered alternate years.<br />\\nPrerequisite(s): CMSC 15400<br />\\nNote(s): This course is offered in alternate years.<br />\\n</p>\\n</div><!-- CMSC 23710 Seq Count:0-->\\n<div class=\"courseblock main\">\\n<p class=\"courseblocktitle\"><strong>CMSC&#160;23710.  Scientific Visualization.  100 Units.</strong></p><p class=\"courseblockdesc\">\\nScientific visualization combines computer graphics, numerical methods, and mathematical models of the physical world to create a visual framework for understanding and solving scientific problems. The mathematical and algorithmic foundations of scientific visualization (for scalar, vector, and tensor fields) will be explained in the context of real-world data from scientific and biomedical domains. The course is also intended for students outside computer science who are experienced with programming and scientific computing on scientific data. Programming projects will be in C.</p><p class=\"courseblockdetail\">\\nInstructor(s): G. Kindlmann&#160;&#160;&#160;&#160;&#160;Terms Offered: Winter. Generally offered alternate years.<br />\\nPrerequisite(s): CMSC 15300 and CMSC 15400, or (equivalent linear algebra and programming experience and consent of the instructor).<br />\\n</p>\\n</div><!-- CMSC 23800 Seq Count:0-->\\n<div class=\"courseblock main\">\\n<p class=\"courseblocktitle\"><strong>CMSC&#160;23800.  Game Construction.  100 Units.</strong></p><p class=\"courseblockdesc\">\\nComputer games are one of the most exciting applications of computer technology. They also are large software systems that embody cutting-edge graphics, as well as techniques from AI, scientific simulation, networking, and databases. This course introduces the student to the basic algorithms and techniques used in computer-game construction. Students work in teams to design and create games using existing libraries for graphics, physics simulation, and so forth.</p><p class=\"courseblockdetail\">\\nInstructor(s): J. Reppy&#160;&#160;&#160;&#160;&#160;Terms Offered: Spring. Generally offered alternate years.<br />\\nPrerequisite(s): CMSC 15400, and at least two of the following courses: CMSC 23700, CMSC 23000, CMSC 23300, CMSC 23500. Strong background in programming and expertise in at least two technical areas underlying computer games (e.g., AI, graphics, scientific computing, networking).<br />\\nEquivalent Course(s): CSPP 53800<br />\\n</p>\\n</div><!-- CMSC 25020 Seq Count:0-->\\n<div class=\"courseblock main\">\\n<p class=\"courseblocktitle\"><strong>CMSC&#160;25020.  Computational Linguistics.  100 Units.</strong></p><p class=\"courseblockdesc\">\\nThis course introduces the problems of computational linguistics and the techniques used to deal with them, focusing primarily on probabilistic models and techniques. Topics are drawn primarily from phonology, morphology, and syntax. Special topics include automatic learning of grammatical structure and the treatment of languages other than English.</p><p class=\"courseblockdetail\">\\nInstructor(s): J. Goldsmith&#160;&#160;&#160;&#160;&#160;Terms Offered: Spring<br />\\nPrerequisite(s): CMSC 12200, 15200 or 16200, or competence in a programming language<br />\\nEquivalent Course(s): CMSC 35050,LING 28600,LING 38600<br />\\n</p>\\n</div><!-- CMSC 25025 Seq Count:0-->\\n<div class=\"courseblock main\">\\n<p class=\"courseblocktitle\"><strong>CMSC&#160;25025.  Machine Learning and Large-Scale Data Analysis.  100 Units.</strong></p><p class=\"courseblockdesc\">\\nThis course is an introduction to machine learning and the analysis of large data sets using distributed computation and storage infrastructure. Basic machine learning methodology and relevant statistical theory will be presented in lectures. Homework exercises will give students hands-on experience with the methods on different types of data. Methods include algorithms for clustering, binary classification, and hierarchical Bayesian modeling. Data types include images, archives of scientific articles, online ad clickthrough logs, and public records of the City of Chicago. Programming will be based on Python and R, but previous exposure to these languages is not assumed.<br /></p><p class=\"courseblockdetail\">\\nInstructor(s): J. Lafferty&#160;&#160;&#160;&#160;&#160;Terms Offered: Spring<br />\\nPrerequisite(s): (STAT 22000 or STAT 23400) and (CMSC 15400 or CMSC 12200), or consent of the instructor<br />\\nEquivalent Course(s): STAT 37601<br />\\n</p>\\n</div><!-- CMSC 25050 Seq Count:0-->\\n<div class=\"courseblock main\">\\n<p class=\"courseblocktitle\"><strong>CMSC&#160;25050.  Computer Vision.  100 Units.</strong></p><p class=\"courseblockdesc\">\\nThis course covers deformable models for detecting objects in images. Topics include one-dimensional models to identify object contours and boundaries; two-dimensional models for image matching; and sparse models for efficient detection of objects in complex scenes. Mathematical tools needed to define the models and associated algorithms are developed. Applications include detecting contours in medical images, matching brains, and detecting faces in images. Neural network implementations of some of the algorithms are presented, and connections to the functions of the biological visual system are discussed.</p><p class=\"courseblockdetail\">\\nInstructor(s): Y. Amit&#160;&#160;&#160;&#160;&#160;Terms Offered: Not offered in 2014-15<br />\\nEquivalent Course(s): CMSC 35500,STAT 37900<br />\\n</p>\\n</div><!-- CMSC 25400 Seq Count:0-->\\n<div class=\"courseblock main\">\\n<p class=\"courseblocktitle\"><strong>CMSC&#160;25400.  Machine Learning.  100 Units.</strong></p><p class=\"courseblockdesc\">\\nThis course offers a practical, problem-centered introduction to machine learning. Topics covered include the Perceptron and other online algorithms; boosting; graphical models and message passing; dimensionality reduction and manifold learning; SVMs and other kernel methods; and a short introduction to statistical learning theory. Weekly programming assignments give students the opportunity to try out each learning algorithm on real world datasets.<br /></p><p class=\"courseblockdetail\">\\nInstructor(s): R. Kondor&#160;&#160;&#160;&#160;&#160;Terms Offered: Winter<br />\\nPrerequisite(s): CMSC 15300, CMSC 15400. STAT 22000 or STAT 23400 strongly recommended.<br />\\nEquivalent Course(s): STAT 27725<br />\\n</p>\\n</div><!-- CMSC 27100 Seq Count:0-->\\n<div class=\"courseblock main\">\\n<p class=\"courseblocktitle\"><strong>CMSC&#160;27100.  Discrete Mathematics.  100 Units.</strong></p><p class=\"courseblockdesc\">\\nThis course emphasizes mathematical discovery and rigorous proof, which are illustrated on a refreshing variety of accessible and useful topics. Basic counting is a recurring theme and provides the most important source for sequences, which is another recurring theme. Further topics include proof by induction; recurrences and Fibonacci numbers; graph theory and trees; number theory, congruences, and Fermat\\'s little theorem; counting, factorials, and binomial coefficients; combinatorial probability; random variables, expected value, and variance; and limits of sequences, asymtotic equality, and rates of growth.</p><p class=\"courseblockdetail\">\\nInstructor(s): J. Simon&#160;&#160;&#160;&#160;&#160;Terms Offered: Autumn<br />\\nPrerequisite(s): CMSC 15400, or MATH 16300 or higher.  Computer science majors should take CMSC 15300 before CMSC 27100.<br />\\nNote(s): This is a directed course in mathematical topics and techniques that is a prerequisite for courses such as CMSC 27200 and 27400. <br />\\n</p>\\n</div><!-- CMSC 27200 Seq Count:0-->\\n<div class=\"courseblock main\">\\n<p class=\"courseblocktitle\"><strong>CMSC&#160;27200.  Theory of Algorithms.  100 Units.</strong></p><p class=\"courseblockdesc\">\\nThis course covers design and analysis of efficient algorithms, with emphasis on ideas rather than on implementation. Algorithmic questions include sorting and searching, discrete optimization, algorithmic graph theory, algorithmic number theory, and cryptography. Design techniques include \"divide-and-conquer\" methods, dynamic programming, greedy algorithms, and graph search, as well as the design of efficient data structures. Methods of algorithm analysis include asymptotic notation, evaluation of recurrent inequalities, the concepts of polynomial-time algorithms, and NP-completeness.</p><p class=\"courseblockdetail\">\\nInstructor(s): J. Simon&#160;&#160;&#160;&#160;&#160;Terms Offered: Winter<br />\\nPrerequisite(s): CMSC 27100 or consent of instructor<br />\\n</p>\\n</div><!-- CMSC 27410 Seq Count:0-->\\n<div class=\"courseblock main\">\\n<p class=\"courseblocktitle\"><strong>CMSC&#160;27410.  Honors Combinatorics.  100 Units.</strong></p><p class=\"courseblockdesc\">\\nMethods of enumeration, construction, and proof of existence of discrete structures are discussed in conjunction with the basic concepts of probability theory over a finite sample space. Enumeration techniques are applied to the calculation of probabilities, and, conversely, probabilistic arguments are used in the analysis of combinatorial structures. Other topics include basic counting, linear recurrences, generating functions, Latin squares, finite projective planes, graph theory, Ramsey theory, coloring graphs and set systems, random variables, independence, expected value, standard deviation, and Chebyshev\\'s and Chernoff\\'s inequalities.</p><p class=\"courseblockdetail\">\\nInstructor(s): L. Babai&#160;&#160;&#160;&#160;&#160;Terms Offered: Spring<br />\\nPrerequisite(s): MATH 19900 or 25400, or CMSC 27100, or consent of instructor. Experience with mathematical proofs. <br />\\nNote(s): This course is offered in alternate years.<br />\\n</p>\\n</div><!-- CMSC 27500 Seq Count:0-->\\n<div class=\"courseblock main\">\\n<p class=\"courseblocktitle\"><strong>CMSC&#160;27500.  Graph Theory.  100 Units.</strong></p><p class=\"courseblockdesc\">\\nThis course covers the basics of the theory of finite graphs. Topics include shortest paths, spanning trees, counting techniques, matchings, Hamiltonian cycles, chromatic number, extremal graph theory, Turan\\'s theorem, planarity, Menger\\'s theorem, the max-flow/min-cut theorem, Ramsey theory, directed graphs, strongly connected components, directed acyclic graphs, and tournaments. Techniques studied include the probabilistic method.</p><p class=\"courseblockdetail\">\\nInstructor(s): S. Kurtz&#160;&#160;&#160;&#160;&#160;Terms Offered: Spring<br />\\nPrerequisite(s): CMSC 15400 or MATH 20400<br />\\n</p>\\n</div><!-- CMSC 27610 Seq Count:0-->\\n<div class=\"courseblock main\">\\n<p class=\"courseblocktitle\"><strong>CMSC&#160;27610.  Digital Biology.  100 Units.</strong></p><p class=\"courseblockdesc\">\\nExplores the digital nature of biology at the molecular scale. Focuses on the role of hydrophobic effect in protein/ligand associations. Utilizes data-mining as a tool both to understand basic biophysics and to explain protein-ligand associations. Shows how such analog interactions can lead to digital devices (e.g., switches). No biochemistry background will be assumed.</p><p class=\"courseblockdetail\">\\nInstructor(s): L. R. Scott&#160;&#160;&#160;&#160;&#160;Terms Offered: Spring. Generally offered alternate years.<br />\\nPrerequisite(s): MATH 15100-15200 and ability to program. All prerequisites will be provided in class. <br />\\nNote(s): High school chemistry is helpful.<br />\\n</p>\\n</div><!-- CMSC 27700 Seq Count:2-->\\n<div class=\"courseblock main\">\\n<p class=\"courseblocktitle\"><strong>CMSC&#160;27700-27800.  Mathematical Logic I-II.</strong></p><p class=\"courseblockdesc\">\\nMathematical Logic I-II</p></div><div class=\"courseblock subsequence\">\\n<p class=\"courseblocktitle\"><strong>CMSC&#160;27700.  Mathematical Logic I.  100 Units.</strong></p><p class=\"courseblockdesc\">\\nThis course introduces mathematical logic. Topics include propositional and predicate logic and the syntactic notion of proof versus the semantic notion of truth (e.g., soundness, completeness). We also discuss the G\\xc3\\xb6del completeness theorem, the compactness theorem, and applications of compactness to algebraic problems.</p><p class=\"courseblockdetail\">\\nTerms Offered: Autumn<br />\\nPrerequisite(s): MATH 25400 or 25700; open to students who are majoring in computer science who have taken CMSC 15400 along with MATH 16300 or MATH 19900<br />\\nEquivalent Course(s): MATH 27700<br />\\n</p>\\n</div><div class=\"courseblock subsequence\">\\n<p class=\"courseblocktitle\"><strong>CMSC&#160;27800.  Mathematical Logic II.  100 Units.</strong></p><p class=\"courseblockdesc\">\\nTopics include number theory, Peano arithmetic, Turing compatibility, unsolvable problems, G\\xc3\\xb6del\\'s incompleteness theorem, undecidable theories (e.g., the theory of groups), quantifier elimination, and decidable theories (e.g., the theory of algebraically closed fields).</p><p class=\"courseblockdetail\">\\nTerms Offered: Winter<br />\\nPrerequisite(s): MATH 27700 or equivalent<br />\\nEquivalent Course(s): MATH 27800<br />\\n</p>\\n</div><!-- CMSC 27800 course already drawn -->\\n<!-- CMSC 28000 Seq Count:0-->\\n<div class=\"courseblock main\">\\n<p class=\"courseblocktitle\"><strong>CMSC&#160;28000.  Introduction to Formal Languages.  100 Units.</strong></p><p class=\"courseblockdesc\">\\nThis course is a basic introduction to computability theory and formal languages. Topics include automata theory, regular languages, context-free languages, and Turing machines.</p><p class=\"courseblockdetail\">\\nInstructor(s): K. Mulmuley&#160;&#160;&#160;&#160;&#160;Terms Offered: Winter<br />\\nPrerequisite(s): CMSC 15400, or MATH 19900 or MATH 25500<br />\\nEquivalent Course(s): MATH 28000<br />\\n</p>\\n</div><!-- CMSC 28100 Seq Count:0-->\\n<div class=\"courseblock main\">\\n<p class=\"courseblocktitle\"><strong>CMSC&#160;28100.  Introduction to Complexity Theory.  100 Units.</strong></p><p class=\"courseblockdesc\">\\nComputability topics are discussed (e.g., the s-m-n theorem and the recursion theorem, resource-bounded computation). This course introduces complexity theory. Relationships between space and time, determinism and non-determinism, NP-completeness, and the P versus NP question are investigated.</p><p class=\"courseblockdetail\">\\nInstructor(s): K. Mulmuley&#160;&#160;&#160;&#160;&#160;Terms Offered: Spring<br />\\nPrerequisite(s): CMSC 27100, or MATH 19900 or 25500; and experience with mathematical proofs<br />\\nEquivalent Course(s): MATH 28100<br />\\n</p>\\n</div><!-- CMSC 28501 Seq Count:0-->\\n<div class=\"courseblock main\">\\n<p class=\"courseblocktitle\"><strong>CMSC&#160;28501.  Topics in Scientific Computing.  100 Units.</strong></p><p class=\"courseblockdesc\">\\nThis course covers current topics in scientific computing.</p><p class=\"courseblockdetail\">\\nTerms Offered: Autumn, Winter, Spring<br />\\nPrerequisite(s): Consent of instructor<br />\\n</p>\\n</div><!-- CMSC 28510 Seq Count:0-->\\n<div class=\"courseblock main\">\\n<p class=\"courseblocktitle\"><strong>CMSC&#160;28510.  Introduction to Scientific Computing.  100 Units.</strong></p><p class=\"courseblockdesc\">\\nBasic processes of numerical computation are examined from both an experimental and theoretical point of view. This course deals with numerical linear algebra, approximation of functions, approximate integration and differentiation, Fourier transformation, solution of nonlinear equations, and the approximate solution of initial value problems for ordinary differential equations. We concentrate on a few widely used methods in each area covered.</p><p class=\"courseblockdetail\">\\nInstructor(s): T. Dupont&#160;&#160;&#160;&#160;&#160;Terms Offered: Autumn. Generally offered alternate years.<br />\\nPrerequisite(s): A year of calculus (MATH 15300 or higher), a quarter of linear algebra (MATH 19620 or higher), and CMSC 10600 or higher; or consent of instructor<br />\\n</p>\\n</div><!-- CMSC 29700 Seq Count:0-->\\n<div class=\"courseblock main\">\\n<p class=\"courseblocktitle\"><strong>CMSC&#160;29700.  Reading and Research in Computer Science.  100 Units.</strong></p><p class=\"courseblockdesc\">\\nStudents do reading and research in an area of computer science under the guidance of a faculty member. A written report is typically required.</p><p class=\"courseblockdetail\">\\nTerms Offered: Summer, Autumn, Winter, Spring<br />\\nPrerequisite(s): Consent of instructor and approval of department counselor<br />\\nNote(s): Open both to students who are majoring in Computer Science and to nonmajors. Students are required to submit the College Reading and Research Course Form.<br />\\n</p>\\n</div><!-- CMSC 29900 Seq Count:0-->\\n<div class=\"courseblock main\">\\n<p class=\"courseblocktitle\"><strong>CMSC&#160;29900.  Bachelor\\'s Thesis.  100 Units.</strong></p><p class=\"courseblockdesc\">\\n</p><p class=\"courseblockdetail\">\\nTerms Offered: Summer, Autumn, Winter, Spring<br />\\nPrerequisite(s): Consent of instructor and department counselor. Students are required to submit the College Reading and Research Course Form. <br />\\nNote(s): Open to fourth-year students who are candidates for honors in Computer Science<br />\\n</p>\\n</div><!-- Skipping CMSC 31100 --><!-- Skipping CMSC 32001 --><!-- Skipping CMSC 32201 --><!-- Skipping CMSC 32620 --><!-- Skipping CMSC 33300 --><!-- Skipping CMSC 33310 --><!-- Skipping CMSC 33400 --><!-- Skipping CMSC 33501 --><!-- Skipping CMSC 33600 --><!-- Skipping CMSC 33710 --><!-- Skipping CMSC 34000 --><!-- Skipping CMSC 34200 --><!-- Skipping CMSC 34710 --><!-- Skipping CMSC 35000 --><!-- Skipping CMSC 35050 --><!-- Skipping CMSC 35100 --><!-- Skipping CMSC 35400 --><!-- Skipping CMSC 35500 --><!-- Skipping CMSC 35900 --><!-- Skipping CMSC 36500 --><!-- Skipping CMSC 37000 --><!-- Skipping CMSC 37100 --><!-- Skipping CMSC 37110 --><!-- Skipping CMSC 37200 --><!-- Skipping CMSC 37400 --><!-- Skipping CMSC 37701 --><!-- Skipping CMSC 37720 --><!-- Skipping CMSC 37800 --><!-- Skipping CMSC 37810 --><!-- Skipping CMSC 37812 --><!-- Skipping CMSC 38000 --><!-- Skipping CMSC 38100 --><!-- Skipping CMSC 38300 --><!-- Skipping CMSC 38410 --><!-- Skipping CMSC 38500 --><!-- Skipping CMSC 38512 --><!-- Skipping CMSC 38600 --><!-- Skipping CMSC 38700 --><!-- Skipping CMSC 38815 --><!-- Skipping CMSC 39000 --><!-- Skipping CMSC 39600 -->\\n</div>\\n\\n<div class=\"contacts\">\\n<br /><a name=\"contacts\"></a><h3>Contacts</h3>\\n<div class=\"contact-cat clearfix\">\\n<h4>Undergraduate Primary Contact</h4><div class=\"contact\"><p>Department Counselor<br />Sharon Salveter<br />Ry 150<br />834.2773<br /><a href=\"mailto:salveter@cs.uchicago.edu\">Email</a></p>\\n</div></div>\\n\\n<div class=\"contact-cat clearfix\">\\n<h4>Undergraduate Secondary Contact</h4><div class=\"contact\"><p>Minor Advisor<br />Adam Shaw<br />Ryerson 157<br />702.1269<br /><a href=\"mailto:ams@cs.uchicago.edu\">Email</a></p>\\n</div></div>\\n\\n<div class=\"contact-cat clearfix\">\\n<h4>Administrative Contact</h4><div class=\"contact\"><p>Student Services Rep<br />Margaret Jaffey<br />Ry 156<br />702.6011<br /><a href=\"mailto:margaret@cs.uchicago.edu\">Email</a></p>\\n</div></div></div>\\n\\n\\n\\t\\t\\t\\t</div><!--end #content-->\\n\\t\\t\\t</div><!-- end #content-col -->\\n\\t\\t</div><!-- end #container -->\\n\\n\\t</div><!-- end #wrapper -->\\n\\n\\t<!--htdig_noindex-->\\n\\t<div id=\"footer\" class=\"clearfix\" role=\"contentinfo\">\\n\\t\\t<div class=\"wrap\">\\n\\t\\t\\t<div class=\"foot-col first\">\\n\\t\\t\\t\\t<div id=\"logo-footer\">\\n\\t\\t\\t\\t\\t<a href=\"http://college.uchicago.edu\" title=\"The University of Chicago\">The University of Chicago</a>\\n\\t\\t\\t\\t</div><!-- end #logo-footer -->\\n\\n\\t\\t\\t\\t<p>\\xc2\\xa9 2014-2015 <a href=\"http://www.uchicago.edu\">The University of Chicago</a></p>\\n\\n\\t\\t\\t\\t<div id=\"social\">\\n\\t\\t\\t\\t\\t<ul>\\n\\t\\t\\t\\t\\t\\t<li class=\"facebook\"><a href=\"https://www.facebook.com/UChicagoCollege\" target=\"_blank\">Facebook</a></li>\\n\\t\\t\\t\\t\\t\\t<li class=\"twitter\"><a href=\"https://twitter.com/uchicagocollege\" target=\"_blank\">Twitter</a></li>\\n\\t\\t\\t\\t\\t\\t<li class=\"youtube\"><a href=\"http://www.youtube.com/uchicagocollege\" target=\"_blank\">YouTube</a></li>\\n\\t\\t\\t\\t\\t\\t<li class=\"flickr\"><a href=\"http://www.flickr.com/photos/uchicagocollege\" target=\"_blank\">Flickr</a></li>\\n\\t\\t\\t\\t\\t\\t<li class=\"tumblr\"><a href=\"http://uchicagocollege.tumblr.com/\" target=\"_blank\">Tumblr</a></li>\\n\\t\\t\\t\\t\\t</ul>\\n\\t\\t\\t\\t</div><!-- end #social -->\\n\\t\\t\\t</div><!-- end #foot-col -->\\n\\n\\t\\t\\t<div class=\"foot-col\">\\n\\t\\t\\t\\t<ul>\\n\\t\\t\\t\\t\\t<li><a href=\"http://www.uchicago.edu\">University Homepage</a></li>\\n\\t\\t\\t\\t\\t<li><a href=\"https://my.uchicago.edu/f/u10471l1s4/normal/render.uP\">My.UChicago</a></li>\\n\\t\\t\\t\\t\\t<li><a href=\"http://parents.uchicago.edu\">Parents and Families</a></li>\\n\\t\\t\\t\\t\\t<li><a href=\"../contacts/index.html\">Contact Us</a></li>\\n\\t\\t\\t\\t</ul>\\n\\t\\t\\t</div><!-- end #foot-col -->\\n\\n\\t\\t\\t<div class=\"foot-col\">\\n\\t\\t\\t\\t<ul>\\n\\t\\t\\t\\t\\t<li><a href=\"http://college.uchicago.edu\">The College</a></li>\\n\\t\\t\\t\\t\\t<li><a href=\"http://cpo.uchicago.edu\">College Programming Office</a></li>\\n\\t\\t\\t\\t\\t<li><a href=\"http://college.uchicago.edu/about-college/college-directory\">College Directory</a></li>\\n\\t\\t\\t\\t\\t<li><a href=\"https://maps.uchicago.edu/\">Campus Maps</a></li>\\n\\t\\t\\t\\t</ul>\\n\\t\\t\\t</div><!-- end #foot-col -->\\n\\n\\t\\t\\t<div class=\"foot-col\">\\n\\t\\t\\t\\t<p><a href=\"http://registrar.uchicago.edu/\">University Registrar</a><br />\\n\\t\\t\\t\\t1427 East 60th Street<br />\\n\\t\\t\\t\\tChicago, IL 60637<br />\\n\\t\\t\\t\\tUnited States<br />\\n\\t\\t\\t\\tPh: 773-702-7891<br />\\n\\t\\t\\t\\tFax: 773-702-3562<br />\\n\\t\\t\\t\\t</p>\\n\\t\\t\\t</div><!-- end #foot-col -->\\n\\n\\t\\t</div><!-- end .wrap -->\\n\\t</div><!-- end #footer -->\\n\\t<!--/htdig_noindex-->\\n\\n<a href=\"index.html#header\" id=\"totop\">Back to Top</a>\\n\\n</body>\\n</html>\\n'"
      ]
     },
     "execution_count": 5,
     "metadata": {},
     "output_type": "execute_result"
    }
   ],
   "source": [
    "# Now to get the text we just need to use \".text\" attribute. You may need to encode\n",
    "# the text if the html documents contains different unicode characters\n",
    "r.text.encode('iso-8859-1')"
   ]
  },
  {
   "cell_type": "markdown",
   "metadata": {},
   "source": [
    "### Web Scraping\n",
    "Once we have the actual HTML document we can then start scraping the document to get out the data. Python provides many different packages that parse through HTML data (e.g. Scrapy - advance) but we will use one of the most common packages known as **Beautiful Soup**. \n",
    "\n",
    "First, you will need to install Beautiful Soup as such: \n",
    "\n",
    "``sudo pip3 install beautifulsoup4`` \n",
    "\n",
    "Now, lets create a Beautiful Soup object from a html document. For example, lets open the ``catalog.html`` page. It has the following tree structure. \n",
    "\n",
    "![alt text](catalog.png \"CS Catalog Structure\")\n",
    "\n",
    "\n",
    "The idea of Beautiful Soup is to create this tree structure from a given html page and allow you to iterate or grab tags (i.e., nodes) from the structure. \n",
    "\n",
    "Since this page is stored locally, we don't need to use ``requests`` to grab the html document but instead we will open it like a normal file and create a beautiful soup object from it. "
   ]
  },
  {
   "cell_type": "code",
   "execution_count": 6,
   "metadata": {},
   "outputs": [],
   "source": [
    "import bs4 # import beautiful soup "
   ]
  },
  {
   "cell_type": "code",
   "execution_count": 7,
   "metadata": {},
   "outputs": [],
   "source": [
    "s = open(\"catalog.html\").read() # Open the catalog html file"
   ]
  },
  {
   "cell_type": "code",
   "execution_count": 8,
   "metadata": {},
   "outputs": [
    {
     "data": {
      "text/plain": [
       "'<html>\\n\\n<head>\\n    <title>Computer Science Courses</title>\\n</head>\\n\\n<body>\\n    <div class=\"courseblock main\" style=\"course\">\\n       Lamont <p class=\"courseblocktitle\">\\n            <strong>\\n                CMSC&#160;10100. Introduction to Programming for the World Wide Web I. 100 Units.\\n            </strong>\\n        </p>\\n\\n        <p class=\"courseblockdesc\">\\n            This course teaches the basics of building and maintaining a site on\\n            the World Wide Web. We discuss Internet terminology and how the\\n            Internet and its associated technologies work. Topics include\\n            programming websites, hypertext markup language (HTML), Cascading\\n            Style Sheets (CSS), and Common Gateway Interface (CGI) scripts\\n            (using PERL). Students also learn how to use JavaScript to add\\n            client-side functionality.</p>\\n        <p class=\"courseblockdetail\">\\n            Instructor(s): W. Sterner&#160;&#160;&#160;&#160;&#160;Terms\\n            Offered: Winter<br /> Note(s): This course does not meet the general\\n            education requirement in the mathematical sciences.<br />\\n        </p>\\n    </div>\\n    <div class=\"courseblock main\">\\n        <p class=\"courseblocktitle\">\\n            <strong>\\n                CMSC&#160;12100-12200-12300. Computer Science with Applications I-II-III.\\n            </strong>\\n        </p>\\n\\n        <p class=\"courseblockdesc\">\\n\\n            This three-quarter sequence teaches computational thinking and\\n            skills to students who are majoring in the sciences, mathematics,\\n            and economics. Lectures cover topics in (1) programming, such as\\n            recursion, abstract data types, and processing data; (2) computer\\n            science, such as clustering methods, event-driven simulation, and\\n            theory of computation; and to a lesser extent (3) numerical\\n            computation, such as approximating functions and their derivatives\\n            and integrals, solving systems of linear equations, and simple\\n            Monte Carlo techniques. Applications from a wide variety of fields\\n            serve both as examples in lectures and as the basis for\\n            programming assignments. In recent offerings, students have\\n            written programs to evaluate betting strategies, determine the\\n            number of machines needed at a polling place, and predict the size\\n            of extinct marsupials. Students learn Java, Python, R and C++.\\n        </p>\\n    </div>\\n\\n    <div class=\"courseblock subsequence\">\\n        <p class=\"courseblocktitle\">\\n            <strong>\\n                CMSC&#160;12100. Computer Science with Applications I. 100 Units.</strong>\\n        </p>\\n\\n        <p class=\"courseblockdesc\">\\n        </p>\\n\\n        <p class=\"courseblockdetail\">\\n            Instructor(s): A. Rogers&#160;&#160;&#160;&#160;&#160;Terms Offered: Autumn<br />\\n            Prerequisite(s): Placement into MATH 15200 or higher, or consent of instructor<br />\\n            Note(s): This course meets the general education requirement in the mathematical sciences. <br />\\n        </p>\\n    </div>\\n\\n    <div class=\"courseblock subsequence\">\\n        <p class=\"courseblocktitle\">\\n            <strong>\\n                CMSC&#160;12200. Computer Science with Applications II. 100 Units.\\n            </strong>\\n        </p>\\n\\n        <p class=\"courseblockdesc\">\\n        </p>\\n\\n        <p class=\"courseblockdetail\">\\n            Instructor(s): A. Rogers&#160;&#160;&#160;&#160;&#160;Terms Offered: Winter<br />\\n            Prerequisite(s): CMSC 12100<br />\\n            Note(s): This course meets the general education requirement in the mathematical sciences. <br />\\n        </p>\\n    </div>\\n\\n    <div class=\"courseblock subsequence\">\\n        <p class=\"courseblocktitle\">\\n            <strong>CMSC&#160;12300. Computer Science with Applications III. 100 Units.\\n            </strong>\\n        </p>\\n\\n        <p class=\"courseblockdesc\">\\n            The course revolves around core ideas behind the management and\\n            computation of large volumes of data (\"Big Data\"). Topics include\\n            (1) Statistical methods for large data analysis, (2) Parallelism\\n            and concurrency, including models of parallelism and\\n            synchronization primitives, and (3) Distributed computing,\\n            including distributed architectures and the algorithms and\\n            techniques that enable these architectures to be fault-tolerant,\\n            reliable, and scalable.\\xa0 Students will continue to use R, and will\\n            also learn C++ and distributed computing tools and platforms,\\n            including Amazon AWS and Hadoop. This course includes a project\\n            where students will have to formulate hypotheses about a large\\n            dataset, develop statistical models to test those hypothesis,\\n            implement a prototype that performs an initial exploration of the\\n            data, and a final system to process the entire\\n            dataset.<br />\\n        </p>\\n\\n        <p class=\"courseblockdetail\">\\n            Terms Offered: Spring<br />\\n            Prerequisite(s): CMSC 12200<br />\\n        </p>\\n    </div>\\n</body>\\n\\n</html>'"
      ]
     },
     "execution_count": 8,
     "metadata": {},
     "output_type": "execute_result"
    }
   ],
   "source": [
    "s"
   ]
  },
  {
   "cell_type": "code",
   "execution_count": 9,
   "metadata": {},
   "outputs": [],
   "source": [
    "# A BeautifulSoup objec takes in two arguments \n",
    "# 1. The string to the html document \n",
    "# 2. The html parser you want BeautifulSoup to use to create the tree. These\n",
    "# are predefined strings. You can look at the documentation to see the different\n",
    "# parsers. \n",
    "soup = bs4.BeautifulSoup(s,  \"html5lib\")"
   ]
  },
  {
   "cell_type": "code",
   "execution_count": 10,
   "metadata": {},
   "outputs": [
    {
     "data": {
      "text/plain": [
       "<html><head>\n",
       "    <title>Computer Science Courses</title>\n",
       "</head>\n",
       "\n",
       "<body>\n",
       "    <div class=\"courseblock main\" style=\"course\">\n",
       "       Lamont <p class=\"courseblocktitle\">\n",
       "            <strong>\n",
       "                CMSC 10100. Introduction to Programming for the World Wide Web I. 100 Units.\n",
       "            </strong>\n",
       "        </p>\n",
       "\n",
       "        <p class=\"courseblockdesc\">\n",
       "            This course teaches the basics of building and maintaining a site on\n",
       "            the World Wide Web. We discuss Internet terminology and how the\n",
       "            Internet and its associated technologies work. Topics include\n",
       "            programming websites, hypertext markup language (HTML), Cascading\n",
       "            Style Sheets (CSS), and Common Gateway Interface (CGI) scripts\n",
       "            (using PERL). Students also learn how to use JavaScript to add\n",
       "            client-side functionality.</p>\n",
       "        <p class=\"courseblockdetail\">\n",
       "            Instructor(s): W. Sterner     Terms\n",
       "            Offered: Winter<br/> Note(s): This course does not meet the general\n",
       "            education requirement in the mathematical sciences.<br/>\n",
       "        </p>\n",
       "    </div>\n",
       "    <div class=\"courseblock main\">\n",
       "        <p class=\"courseblocktitle\">\n",
       "            <strong>\n",
       "                CMSC 12100-12200-12300. Computer Science with Applications I-II-III.\n",
       "            </strong>\n",
       "        </p>\n",
       "\n",
       "        <p class=\"courseblockdesc\">\n",
       "\n",
       "            This three-quarter sequence teaches computational thinking and\n",
       "            skills to students who are majoring in the sciences, mathematics,\n",
       "            and economics. Lectures cover topics in (1) programming, such as\n",
       "            recursion, abstract data types, and processing data; (2) computer\n",
       "            science, such as clustering methods, event-driven simulation, and\n",
       "            theory of computation; and to a lesser extent (3) numerical\n",
       "            computation, such as approximating functions and their derivatives\n",
       "            and integrals, solving systems of linear equations, and simple\n",
       "            Monte Carlo techniques. Applications from a wide variety of fields\n",
       "            serve both as examples in lectures and as the basis for\n",
       "            programming assignments. In recent offerings, students have\n",
       "            written programs to evaluate betting strategies, determine the\n",
       "            number of machines needed at a polling place, and predict the size\n",
       "            of extinct marsupials. Students learn Java, Python, R and C++.\n",
       "        </p>\n",
       "    </div>\n",
       "\n",
       "    <div class=\"courseblock subsequence\">\n",
       "        <p class=\"courseblocktitle\">\n",
       "            <strong>\n",
       "                CMSC 12100. Computer Science with Applications I. 100 Units.</strong>\n",
       "        </p>\n",
       "\n",
       "        <p class=\"courseblockdesc\">\n",
       "        </p>\n",
       "\n",
       "        <p class=\"courseblockdetail\">\n",
       "            Instructor(s): A. Rogers     Terms Offered: Autumn<br/>\n",
       "            Prerequisite(s): Placement into MATH 15200 or higher, or consent of instructor<br/>\n",
       "            Note(s): This course meets the general education requirement in the mathematical sciences. <br/>\n",
       "        </p>\n",
       "    </div>\n",
       "\n",
       "    <div class=\"courseblock subsequence\">\n",
       "        <p class=\"courseblocktitle\">\n",
       "            <strong>\n",
       "                CMSC 12200. Computer Science with Applications II. 100 Units.\n",
       "            </strong>\n",
       "        </p>\n",
       "\n",
       "        <p class=\"courseblockdesc\">\n",
       "        </p>\n",
       "\n",
       "        <p class=\"courseblockdetail\">\n",
       "            Instructor(s): A. Rogers     Terms Offered: Winter<br/>\n",
       "            Prerequisite(s): CMSC 12100<br/>\n",
       "            Note(s): This course meets the general education requirement in the mathematical sciences. <br/>\n",
       "        </p>\n",
       "    </div>\n",
       "\n",
       "    <div class=\"courseblock subsequence\">\n",
       "        <p class=\"courseblocktitle\">\n",
       "            <strong>CMSC 12300. Computer Science with Applications III. 100 Units.\n",
       "            </strong>\n",
       "        </p>\n",
       "\n",
       "        <p class=\"courseblockdesc\">\n",
       "            The course revolves around core ideas behind the management and\n",
       "            computation of large volumes of data (\"Big Data\"). Topics include\n",
       "            (1) Statistical methods for large data analysis, (2) Parallelism\n",
       "            and concurrency, including models of parallelism and\n",
       "            synchronization primitives, and (3) Distributed computing,\n",
       "            including distributed architectures and the algorithms and\n",
       "            techniques that enable these architectures to be fault-tolerant,\n",
       "            reliable, and scalable.  Students will continue to use R, and will\n",
       "            also learn C++ and distributed computing tools and platforms,\n",
       "            including Amazon AWS and Hadoop. This course includes a project\n",
       "            where students will have to formulate hypotheses about a large\n",
       "            dataset, develop statistical models to test those hypothesis,\n",
       "            implement a prototype that performs an initial exploration of the\n",
       "            data, and a final system to process the entire\n",
       "            dataset.<br/>\n",
       "        </p>\n",
       "\n",
       "        <p class=\"courseblockdetail\">\n",
       "            Terms Offered: Spring<br/>\n",
       "            Prerequisite(s): CMSC 12200<br/>\n",
       "        </p>\n",
       "    </div>\n",
       "\n",
       "\n",
       "</body></html>"
      ]
     },
     "execution_count": 10,
     "metadata": {},
     "output_type": "execute_result"
    }
   ],
   "source": [
    "soup"
   ]
  },
  {
   "cell_type": "markdown",
   "metadata": {},
   "source": [
    "There are four different *kinds* of Beautiful soup objects:\n",
    "\n",
    "- ``bs4.BeautifulSoup``-> the top level object that gets created when you provid the html-document and the parser. \n",
    "\n",
    "- ``bs4.Tag`` -> corresponds to an XML or HTML tag in the original document (e.g., ``a``, ``p``, ``div``)\n",
    "\n",
    "- ``bs4.NavigableString`` -> A string corresponds to a bit of text within a tag.\n",
    "\n",
    "- ``bs4.Comments`` -> Represents the commentts that live within an html document. "
   ]
  },
  {
   "cell_type": "code",
   "execution_count": 11,
   "metadata": {},
   "outputs": [
    {
     "data": {
      "text/plain": [
       "<title>Computer Science Courses</title>"
      ]
     },
     "execution_count": 11,
     "metadata": {},
     "output_type": "execute_result"
    }
   ],
   "source": [
    "# Returns the tag that corresponds to the ``title`` tag in the document\n",
    "soup.title  "
   ]
  },
  {
   "cell_type": "code",
   "execution_count": 12,
   "metadata": {},
   "outputs": [
    {
     "data": {
      "text/plain": [
       "'Computer Science Courses'"
      ]
     },
     "execution_count": 12,
     "metadata": {},
     "output_type": "execute_result"
    }
   ],
   "source": [
    "# .text returns the string inside the tag \n",
    "soup.title.text"
   ]
  },
  {
   "cell_type": "code",
   "execution_count": 13,
   "metadata": {},
   "outputs": [
    {
     "name": "stdout",
     "output_type": "stream",
     "text": [
      "None\n"
     ]
    }
   ],
   "source": [
    "# What happens if specify a html tag that's not inside the original document? \n",
    "# it returns the None value. \n",
    "print(soup.img)"
   ]
  },
  {
   "cell_type": "code",
   "execution_count": 14,
   "metadata": {},
   "outputs": [
    {
     "data": {
      "text/plain": [
       "<p class=\"courseblocktitle\">\n",
       "            <strong>\n",
       "                CMSC 10100. Introduction to Programming for the World Wide Web I. 100 Units.\n",
       "            </strong>\n",
       "        </p>"
      ]
     },
     "execution_count": 14,
     "metadata": {},
     "output_type": "execute_result"
    }
   ],
   "source": [
    "# What about more than one of the same tags? For example \"p\"?\n",
    "# returns the first occurence of that tag\n",
    "soup.p"
   ]
  },
  {
   "cell_type": "markdown",
   "metadata": {},
   "source": [
    "Use ``find_all(tag_str)`` method of the soup or tag to return a list of all the tags that match the given ``tag_str`` string. "
   ]
  },
  {
   "cell_type": "code",
   "execution_count": 15,
   "metadata": {},
   "outputs": [],
   "source": [
    "divs = soup.find_all(\"div\")"
   ]
  },
  {
   "cell_type": "code",
   "execution_count": 16,
   "metadata": {},
   "outputs": [
    {
     "data": {
      "text/plain": [
       "5"
      ]
     },
     "execution_count": 16,
     "metadata": {},
     "output_type": "execute_result"
    }
   ],
   "source": [
    "len(divs)"
   ]
  },
  {
   "cell_type": "code",
   "execution_count": 17,
   "metadata": {},
   "outputs": [
    {
     "data": {
      "text/plain": [
       "[<div class=\"courseblock main\" style=\"course\">\n",
       "        Lamont <p class=\"courseblocktitle\">\n",
       "             <strong>\n",
       "                 CMSC 10100. Introduction to Programming for the World Wide Web I. 100 Units.\n",
       "             </strong>\n",
       "         </p>\n",
       " \n",
       "         <p class=\"courseblockdesc\">\n",
       "             This course teaches the basics of building and maintaining a site on\n",
       "             the World Wide Web. We discuss Internet terminology and how the\n",
       "             Internet and its associated technologies work. Topics include\n",
       "             programming websites, hypertext markup language (HTML), Cascading\n",
       "             Style Sheets (CSS), and Common Gateway Interface (CGI) scripts\n",
       "             (using PERL). Students also learn how to use JavaScript to add\n",
       "             client-side functionality.</p>\n",
       "         <p class=\"courseblockdetail\">\n",
       "             Instructor(s): W. Sterner     Terms\n",
       "             Offered: Winter<br/> Note(s): This course does not meet the general\n",
       "             education requirement in the mathematical sciences.<br/>\n",
       "         </p>\n",
       "     </div>, <div class=\"courseblock main\">\n",
       "         <p class=\"courseblocktitle\">\n",
       "             <strong>\n",
       "                 CMSC 12100-12200-12300. Computer Science with Applications I-II-III.\n",
       "             </strong>\n",
       "         </p>\n",
       " \n",
       "         <p class=\"courseblockdesc\">\n",
       " \n",
       "             This three-quarter sequence teaches computational thinking and\n",
       "             skills to students who are majoring in the sciences, mathematics,\n",
       "             and economics. Lectures cover topics in (1) programming, such as\n",
       "             recursion, abstract data types, and processing data; (2) computer\n",
       "             science, such as clustering methods, event-driven simulation, and\n",
       "             theory of computation; and to a lesser extent (3) numerical\n",
       "             computation, such as approximating functions and their derivatives\n",
       "             and integrals, solving systems of linear equations, and simple\n",
       "             Monte Carlo techniques. Applications from a wide variety of fields\n",
       "             serve both as examples in lectures and as the basis for\n",
       "             programming assignments. In recent offerings, students have\n",
       "             written programs to evaluate betting strategies, determine the\n",
       "             number of machines needed at a polling place, and predict the size\n",
       "             of extinct marsupials. Students learn Java, Python, R and C++.\n",
       "         </p>\n",
       "     </div>, <div class=\"courseblock subsequence\">\n",
       "         <p class=\"courseblocktitle\">\n",
       "             <strong>\n",
       "                 CMSC 12100. Computer Science with Applications I. 100 Units.</strong>\n",
       "         </p>\n",
       " \n",
       "         <p class=\"courseblockdesc\">\n",
       "         </p>\n",
       " \n",
       "         <p class=\"courseblockdetail\">\n",
       "             Instructor(s): A. Rogers     Terms Offered: Autumn<br/>\n",
       "             Prerequisite(s): Placement into MATH 15200 or higher, or consent of instructor<br/>\n",
       "             Note(s): This course meets the general education requirement in the mathematical sciences. <br/>\n",
       "         </p>\n",
       "     </div>, <div class=\"courseblock subsequence\">\n",
       "         <p class=\"courseblocktitle\">\n",
       "             <strong>\n",
       "                 CMSC 12200. Computer Science with Applications II. 100 Units.\n",
       "             </strong>\n",
       "         </p>\n",
       " \n",
       "         <p class=\"courseblockdesc\">\n",
       "         </p>\n",
       " \n",
       "         <p class=\"courseblockdetail\">\n",
       "             Instructor(s): A. Rogers     Terms Offered: Winter<br/>\n",
       "             Prerequisite(s): CMSC 12100<br/>\n",
       "             Note(s): This course meets the general education requirement in the mathematical sciences. <br/>\n",
       "         </p>\n",
       "     </div>, <div class=\"courseblock subsequence\">\n",
       "         <p class=\"courseblocktitle\">\n",
       "             <strong>CMSC 12300. Computer Science with Applications III. 100 Units.\n",
       "             </strong>\n",
       "         </p>\n",
       " \n",
       "         <p class=\"courseblockdesc\">\n",
       "             The course revolves around core ideas behind the management and\n",
       "             computation of large volumes of data (\"Big Data\"). Topics include\n",
       "             (1) Statistical methods for large data analysis, (2) Parallelism\n",
       "             and concurrency, including models of parallelism and\n",
       "             synchronization primitives, and (3) Distributed computing,\n",
       "             including distributed architectures and the algorithms and\n",
       "             techniques that enable these architectures to be fault-tolerant,\n",
       "             reliable, and scalable.  Students will continue to use R, and will\n",
       "             also learn C++ and distributed computing tools and platforms,\n",
       "             including Amazon AWS and Hadoop. This course includes a project\n",
       "             where students will have to formulate hypotheses about a large\n",
       "             dataset, develop statistical models to test those hypothesis,\n",
       "             implement a prototype that performs an initial exploration of the\n",
       "             data, and a final system to process the entire\n",
       "             dataset.<br/>\n",
       "         </p>\n",
       " \n",
       "         <p class=\"courseblockdetail\">\n",
       "             Terms Offered: Spring<br/>\n",
       "             Prerequisite(s): CMSC 12200<br/>\n",
       "         </p>\n",
       "     </div>]"
      ]
     },
     "execution_count": 17,
     "metadata": {},
     "output_type": "execute_result"
    }
   ],
   "source": [
    "divs"
   ]
  },
  {
   "cell_type": "markdown",
   "metadata": {},
   "source": [
    "Use the ``class_`` keyword argument of the ``find_all`` method to only return tags with their value equal to the string provided in the ``class_`` argument. Note the need of the ``_`` in the ``class_`` argument. "
   ]
  },
  {
   "cell_type": "code",
   "execution_count": 18,
   "metadata": {},
   "outputs": [],
   "source": [
    "course_divs = soup.find_all(\"div\", class_=\"courseblock main\")"
   ]
  },
  {
   "cell_type": "code",
   "execution_count": 19,
   "metadata": {},
   "outputs": [
    {
     "data": {
      "text/plain": [
       "2"
      ]
     },
     "execution_count": 19,
     "metadata": {},
     "output_type": "execute_result"
    }
   ],
   "source": [
    "len(course_divs)"
   ]
  },
  {
   "cell_type": "code",
   "execution_count": 20,
   "metadata": {},
   "outputs": [
    {
     "data": {
      "text/plain": [
       "[<div class=\"courseblock main\" style=\"course\">\n",
       "        Lamont <p class=\"courseblocktitle\">\n",
       "             <strong>\n",
       "                 CMSC 10100. Introduction to Programming for the World Wide Web I. 100 Units.\n",
       "             </strong>\n",
       "         </p>\n",
       " \n",
       "         <p class=\"courseblockdesc\">\n",
       "             This course teaches the basics of building and maintaining a site on\n",
       "             the World Wide Web. We discuss Internet terminology and how the\n",
       "             Internet and its associated technologies work. Topics include\n",
       "             programming websites, hypertext markup language (HTML), Cascading\n",
       "             Style Sheets (CSS), and Common Gateway Interface (CGI) scripts\n",
       "             (using PERL). Students also learn how to use JavaScript to add\n",
       "             client-side functionality.</p>\n",
       "         <p class=\"courseblockdetail\">\n",
       "             Instructor(s): W. Sterner     Terms\n",
       "             Offered: Winter<br/> Note(s): This course does not meet the general\n",
       "             education requirement in the mathematical sciences.<br/>\n",
       "         </p>\n",
       "     </div>, <div class=\"courseblock main\">\n",
       "         <p class=\"courseblocktitle\">\n",
       "             <strong>\n",
       "                 CMSC 12100-12200-12300. Computer Science with Applications I-II-III.\n",
       "             </strong>\n",
       "         </p>\n",
       " \n",
       "         <p class=\"courseblockdesc\">\n",
       " \n",
       "             This three-quarter sequence teaches computational thinking and\n",
       "             skills to students who are majoring in the sciences, mathematics,\n",
       "             and economics. Lectures cover topics in (1) programming, such as\n",
       "             recursion, abstract data types, and processing data; (2) computer\n",
       "             science, such as clustering methods, event-driven simulation, and\n",
       "             theory of computation; and to a lesser extent (3) numerical\n",
       "             computation, such as approximating functions and their derivatives\n",
       "             and integrals, solving systems of linear equations, and simple\n",
       "             Monte Carlo techniques. Applications from a wide variety of fields\n",
       "             serve both as examples in lectures and as the basis for\n",
       "             programming assignments. In recent offerings, students have\n",
       "             written programs to evaluate betting strategies, determine the\n",
       "             number of machines needed at a polling place, and predict the size\n",
       "             of extinct marsupials. Students learn Java, Python, R and C++.\n",
       "         </p>\n",
       "     </div>]"
      ]
     },
     "execution_count": 20,
     "metadata": {},
     "output_type": "execute_result"
    }
   ],
   "source": [
    "course_divs"
   ]
  },
  {
   "cell_type": "code",
   "execution_count": 21,
   "metadata": {},
   "outputs": [
    {
     "data": {
      "text/plain": [
       "<div class=\"courseblock main\" style=\"course\">\n",
       "       Lamont <p class=\"courseblocktitle\">\n",
       "            <strong>\n",
       "                CMSC 10100. Introduction to Programming for the World Wide Web I. 100 Units.\n",
       "            </strong>\n",
       "        </p>\n",
       "\n",
       "        <p class=\"courseblockdesc\">\n",
       "            This course teaches the basics of building and maintaining a site on\n",
       "            the World Wide Web. We discuss Internet terminology and how the\n",
       "            Internet and its associated technologies work. Topics include\n",
       "            programming websites, hypertext markup language (HTML), Cascading\n",
       "            Style Sheets (CSS), and Common Gateway Interface (CGI) scripts\n",
       "            (using PERL). Students also learn how to use JavaScript to add\n",
       "            client-side functionality.</p>\n",
       "        <p class=\"courseblockdetail\">\n",
       "            Instructor(s): W. Sterner     Terms\n",
       "            Offered: Winter<br/> Note(s): This course does not meet the general\n",
       "            education requirement in the mathematical sciences.<br/>\n",
       "        </p>\n",
       "    </div>"
      ]
     },
     "execution_count": 21,
     "metadata": {},
     "output_type": "execute_result"
    }
   ],
   "source": [
    "# You can use the \".attrs\" attributte to get all the attributes of a tag\n",
    "soup.div"
   ]
  },
  {
   "cell_type": "code",
   "execution_count": 22,
   "metadata": {},
   "outputs": [
    {
     "data": {
      "text/plain": [
       "{'class': ['courseblock', 'main'], 'style': 'course'}"
      ]
     },
     "execution_count": 22,
     "metadata": {},
     "output_type": "execute_result"
    }
   ],
   "source": [
    "soup.div.attrs"
   ]
  },
  {
   "cell_type": "code",
   "execution_count": 23,
   "metadata": {},
   "outputs": [
    {
     "data": {
      "text/plain": [
       "['courseblock', 'main']"
      ]
     },
     "execution_count": 23,
     "metadata": {},
     "output_type": "execute_result"
    }
   ],
   "source": [
    "# You can \"index\" a tag by its attribute too\n",
    "soup.div[\"class\"]"
   ]
  },
  {
   "cell_type": "code",
   "execution_count": 24,
   "metadata": {},
   "outputs": [
    {
     "data": {
      "text/plain": [
       "'course'"
      ]
     },
     "execution_count": 24,
     "metadata": {},
     "output_type": "execute_result"
    }
   ],
   "source": [
    "soup.div[\"style\"]"
   ]
  },
  {
   "cell_type": "code",
   "execution_count": 25,
   "metadata": {},
   "outputs": [
    {
     "data": {
      "text/plain": [
       "<div class=\"courseblock main\" style=\"course\">\n",
       "       Lamont <p class=\"courseblocktitle\">\n",
       "            <strong>\n",
       "                CMSC 10100. Introduction to Programming for the World Wide Web I. 100 Units.\n",
       "            </strong>\n",
       "        </p>\n",
       "\n",
       "        <p class=\"courseblockdesc\">\n",
       "            This course teaches the basics of building and maintaining a site on\n",
       "            the World Wide Web. We discuss Internet terminology and how the\n",
       "            Internet and its associated technologies work. Topics include\n",
       "            programming websites, hypertext markup language (HTML), Cascading\n",
       "            Style Sheets (CSS), and Common Gateway Interface (CGI) scripts\n",
       "            (using PERL). Students also learn how to use JavaScript to add\n",
       "            client-side functionality.</p>\n",
       "        <p class=\"courseblockdetail\">\n",
       "            Instructor(s): W. Sterner     Terms\n",
       "            Offered: Winter<br/> Note(s): This course does not meet the general\n",
       "            education requirement in the mathematical sciences.<br/>\n",
       "        </p>\n",
       "    </div>"
      ]
     },
     "execution_count": 25,
     "metadata": {},
     "output_type": "execute_result"
    }
   ],
   "source": [
    "# You can also use find_all on a specific tag to find tags within a tag \n",
    "soup.div"
   ]
  },
  {
   "cell_type": "code",
   "execution_count": 26,
   "metadata": {},
   "outputs": [
    {
     "data": {
      "text/plain": [
       "[<p class=\"courseblocktitle\">\n",
       "             <strong>\n",
       "                 CMSC 10100. Introduction to Programming for the World Wide Web I. 100 Units.\n",
       "             </strong>\n",
       "         </p>, <p class=\"courseblockdesc\">\n",
       "             This course teaches the basics of building and maintaining a site on\n",
       "             the World Wide Web. We discuss Internet terminology and how the\n",
       "             Internet and its associated technologies work. Topics include\n",
       "             programming websites, hypertext markup language (HTML), Cascading\n",
       "             Style Sheets (CSS), and Common Gateway Interface (CGI) scripts\n",
       "             (using PERL). Students also learn how to use JavaScript to add\n",
       "             client-side functionality.</p>, <p class=\"courseblockdetail\">\n",
       "             Instructor(s): W. Sterner     Terms\n",
       "             Offered: Winter<br/> Note(s): This course does not meet the general\n",
       "             education requirement in the mathematical sciences.<br/>\n",
       "         </p>]"
      ]
     },
     "execution_count": 26,
     "metadata": {},
     "output_type": "execute_result"
    }
   ],
   "source": [
    "soup.div.find_all(\"p\")"
   ]
  },
  {
   "cell_type": "markdown",
   "metadata": {},
   "source": [
    "#### Navigating through the tree\n",
    "\n",
    "You can navigate through the tree by using the ``contents`` attribute on the soup object/tag. This will give you back a list of tags. However, using ``contents`` is a bit awkward because it will contain newlines and other strings as well as other tags."
   ]
  },
  {
   "cell_type": "code",
   "execution_count": 27,
   "metadata": {},
   "outputs": [
    {
     "data": {
      "text/plain": [
       "['\\n       Lamont ', <p class=\"courseblocktitle\">\n",
       "             <strong>\n",
       "                 CMSC 10100. Introduction to Programming for the World Wide Web I. 100 Units.\n",
       "             </strong>\n",
       "         </p>, '\\n\\n        ', <p class=\"courseblockdesc\">\n",
       "             This course teaches the basics of building and maintaining a site on\n",
       "             the World Wide Web. We discuss Internet terminology and how the\n",
       "             Internet and its associated technologies work. Topics include\n",
       "             programming websites, hypertext markup language (HTML), Cascading\n",
       "             Style Sheets (CSS), and Common Gateway Interface (CGI) scripts\n",
       "             (using PERL). Students also learn how to use JavaScript to add\n",
       "             client-side functionality.</p>, '\\n        ', <p class=\"courseblockdetail\">\n",
       "             Instructor(s): W. Sterner     Terms\n",
       "             Offered: Winter<br/> Note(s): This course does not meet the general\n",
       "             education requirement in the mathematical sciences.<br/>\n",
       "         </p>, '\\n    ']"
      ]
     },
     "execution_count": 27,
     "metadata": {},
     "output_type": "execute_result"
    }
   ],
   "source": [
    "soup.div.contents"
   ]
  },
  {
   "cell_type": "code",
   "execution_count": 28,
   "metadata": {},
   "outputs": [
    {
     "data": {
      "text/plain": [
       "'\\n    '"
      ]
     },
     "execution_count": 28,
     "metadata": {},
     "output_type": "execute_result"
    }
   ],
   "source": [
    "# You can also use .parent, .next_sibling, .prev_sibling, to move through the \n",
    "# parent and children of a tag. \n",
    "soup.div.next_sibling"
   ]
  },
  {
   "cell_type": "code",
   "execution_count": 29,
   "metadata": {},
   "outputs": [
    {
     "data": {
      "text/plain": [
       "<div class=\"courseblock main\">\n",
       "        <p class=\"courseblocktitle\">\n",
       "            <strong>\n",
       "                CMSC 12100-12200-12300. Computer Science with Applications I-II-III.\n",
       "            </strong>\n",
       "        </p>\n",
       "\n",
       "        <p class=\"courseblockdesc\">\n",
       "\n",
       "            This three-quarter sequence teaches computational thinking and\n",
       "            skills to students who are majoring in the sciences, mathematics,\n",
       "            and economics. Lectures cover topics in (1) programming, such as\n",
       "            recursion, abstract data types, and processing data; (2) computer\n",
       "            science, such as clustering methods, event-driven simulation, and\n",
       "            theory of computation; and to a lesser extent (3) numerical\n",
       "            computation, such as approximating functions and their derivatives\n",
       "            and integrals, solving systems of linear equations, and simple\n",
       "            Monte Carlo techniques. Applications from a wide variety of fields\n",
       "            serve both as examples in lectures and as the basis for\n",
       "            programming assignments. In recent offerings, students have\n",
       "            written programs to evaluate betting strategies, determine the\n",
       "            number of machines needed at a polling place, and predict the size\n",
       "            of extinct marsupials. Students learn Java, Python, R and C++.\n",
       "        </p>\n",
       "    </div>"
      ]
     },
     "execution_count": 29,
     "metadata": {},
     "output_type": "execute_result"
    }
   ],
   "source": [
    "soup.div.next_sibling.next_sibling"
   ]
  },
  {
   "cell_type": "code",
   "execution_count": 30,
   "metadata": {},
   "outputs": [
    {
     "data": {
      "text/plain": [
       "'\\n\\n    '"
      ]
     },
     "execution_count": 30,
     "metadata": {},
     "output_type": "execute_result"
    }
   ],
   "source": [
    "soup.div.next_sibling.next_sibling.next_sibling"
   ]
  },
  {
   "cell_type": "code",
   "execution_count": 31,
   "metadata": {},
   "outputs": [],
   "source": [
    "# How could we find only the \"course subsequences\" within a div tag?\n",
    "def is_subsequence(tag):\n",
    "    return isinstance(tag, bs4.element.Tag) and 'class' in tag.attrs \\\n",
    "        and tag['class'] == ['courseblock', 'subsequence']\n",
    "\n",
    "def is_whitespace(tag):\n",
    "    return isinstance(tag, bs4.element.NavigableString) and (tag.strip() == \"\")\n",
    "\n",
    "def find_sequence(tag):\n",
    "    '''\n",
    "    If tag is the header for a sequence, then find the tags for the\n",
    "    courses in the sequence.\n",
    "    '''\n",
    "\n",
    "    rv = []\n",
    "    sib_tag = tag.next_sibling\n",
    "    while is_subsequence(sib_tag) or is_whitespace(sib_tag):\n",
    "        if not is_whitespace(sib_tag):\n",
    "            rv.append(sib_tag)\n",
    "        sib_tag = sib_tag.next_sibling\n",
    "    return rv"
   ]
  },
  {
   "cell_type": "code",
   "execution_count": 32,
   "metadata": {},
   "outputs": [],
   "source": [
    "course_divs = soup.find_all(\"div\", class_=\"courseblock main\")"
   ]
  },
  {
   "cell_type": "code",
   "execution_count": 41,
   "metadata": {},
   "outputs": [
    {
     "ename": "AttributeError",
     "evalue": "'NoneType' object has no attribute 'next_sibling'",
     "output_type": "error",
     "traceback": [
      "\u001b[0;31m---------------------------------------------------------------------------\u001b[0m",
      "\u001b[0;31mAttributeError\u001b[0m                            Traceback (most recent call last)",
      "\u001b[0;32m<ipython-input-41-4116267b09ef>\u001b[0m in \u001b[0;36m<module>\u001b[0;34m\u001b[0m\n\u001b[0;32m----> 1\u001b[0;31m \u001b[0mcourse_divs\u001b[0m\u001b[0;34m[\u001b[0m\u001b[0;36m1\u001b[0m\u001b[0;34m]\u001b[0m\u001b[0;34m.\u001b[0m\u001b[0mnext_sibling\u001b[0m\u001b[0;34m.\u001b[0m\u001b[0mnext_sibling\u001b[0m\u001b[0;34m.\u001b[0m\u001b[0mnext_sibling\u001b[0m\u001b[0;34m.\u001b[0m\u001b[0mnext_sibling\u001b[0m\u001b[0;34m.\u001b[0m\u001b[0mnext_sibling\u001b[0m\u001b[0;34m.\u001b[0m\u001b[0mnext_sibling\u001b[0m\u001b[0;34m.\u001b[0m\u001b[0mnext_sibling\u001b[0m\u001b[0;34m.\u001b[0m\u001b[0mnext_sibling\u001b[0m\u001b[0;34m.\u001b[0m\u001b[0mnext_sibling\u001b[0m\u001b[0;34m\u001b[0m\u001b[0;34m\u001b[0m\u001b[0m\n\u001b[0m",
      "\u001b[0;31mAttributeError\u001b[0m: 'NoneType' object has no attribute 'next_sibling'"
     ]
    }
   ],
   "source": [
    "course_divs[1].next_sibling.next_sibling.next_sibling.next_sibling.next_sibling.next_sibling.next_sibling.next_sibling.next_sibling"
   ]
  },
  {
   "cell_type": "code",
   "execution_count": 34,
   "metadata": {},
   "outputs": [
    {
     "data": {
      "text/plain": [
       "[<div class=\"courseblock subsequence\">\n",
       "         <p class=\"courseblocktitle\">\n",
       "             <strong>\n",
       "                 CMSC 12100. Computer Science with Applications I. 100 Units.</strong>\n",
       "         </p>\n",
       " \n",
       "         <p class=\"courseblockdesc\">\n",
       "         </p>\n",
       " \n",
       "         <p class=\"courseblockdetail\">\n",
       "             Instructor(s): A. Rogers     Terms Offered: Autumn<br/>\n",
       "             Prerequisite(s): Placement into MATH 15200 or higher, or consent of instructor<br/>\n",
       "             Note(s): This course meets the general education requirement in the mathematical sciences. <br/>\n",
       "         </p>\n",
       "     </div>, <div class=\"courseblock subsequence\">\n",
       "         <p class=\"courseblocktitle\">\n",
       "             <strong>\n",
       "                 CMSC 12200. Computer Science with Applications II. 100 Units.\n",
       "             </strong>\n",
       "         </p>\n",
       " \n",
       "         <p class=\"courseblockdesc\">\n",
       "         </p>\n",
       " \n",
       "         <p class=\"courseblockdetail\">\n",
       "             Instructor(s): A. Rogers     Terms Offered: Winter<br/>\n",
       "             Prerequisite(s): CMSC 12100<br/>\n",
       "             Note(s): This course meets the general education requirement in the mathematical sciences. <br/>\n",
       "         </p>\n",
       "     </div>, <div class=\"courseblock subsequence\">\n",
       "         <p class=\"courseblocktitle\">\n",
       "             <strong>CMSC 12300. Computer Science with Applications III. 100 Units.\n",
       "             </strong>\n",
       "         </p>\n",
       " \n",
       "         <p class=\"courseblockdesc\">\n",
       "             The course revolves around core ideas behind the management and\n",
       "             computation of large volumes of data (\"Big Data\"). Topics include\n",
       "             (1) Statistical methods for large data analysis, (2) Parallelism\n",
       "             and concurrency, including models of parallelism and\n",
       "             synchronization primitives, and (3) Distributed computing,\n",
       "             including distributed architectures and the algorithms and\n",
       "             techniques that enable these architectures to be fault-tolerant,\n",
       "             reliable, and scalable.  Students will continue to use R, and will\n",
       "             also learn C++ and distributed computing tools and platforms,\n",
       "             including Amazon AWS and Hadoop. This course includes a project\n",
       "             where students will have to formulate hypotheses about a large\n",
       "             dataset, develop statistical models to test those hypothesis,\n",
       "             implement a prototype that performs an initial exploration of the\n",
       "             data, and a final system to process the entire\n",
       "             dataset.<br/>\n",
       "         </p>\n",
       " \n",
       "         <p class=\"courseblockdetail\">\n",
       "             Terms Offered: Spring<br/>\n",
       "             Prerequisite(s): CMSC 12200<br/>\n",
       "         </p>\n",
       "     </div>]"
      ]
     },
     "execution_count": 34,
     "metadata": {},
     "output_type": "execute_result"
    }
   ],
   "source": [
    "find_sequence(course_divs[1])"
   ]
  }
 ],
 "metadata": {
  "kernelspec": {
   "display_name": "Python 3",
   "language": "python",
   "name": "python3"
  },
  "language_info": {
   "codemirror_mode": {
    "name": "ipython",
    "version": 3
   },
   "file_extension": ".py",
   "mimetype": "text/x-python",
   "name": "python",
   "nbconvert_exporter": "python",
   "pygments_lexer": "ipython3",
   "version": "3.7.7"
  }
 },
 "nbformat": 4,
 "nbformat_minor": 2
}
